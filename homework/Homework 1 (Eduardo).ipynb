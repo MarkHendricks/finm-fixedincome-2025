{
 "cells": [
  {
   "cell_type": "markdown",
   "id": "e3906490",
   "metadata": {},
   "source": [
    "# Homework 1\n",
    "\n",
    "## FINM 37400 - 2025\n",
    "\n",
    "### UChicago Financial Mathematics\n",
    "\n",
    "* Mark Hendricks\n",
    "* hendricks@uchicago.edu"
   ]
  },
  {
   "cell_type": "markdown",
   "id": "4ceab0cb",
   "metadata": {},
   "source": [
    "***"
   ]
  },
  {
   "cell_type": "markdown",
   "id": "fef5c182",
   "metadata": {},
   "source": [
    "### Data\n",
    "\n",
    "This homework uses the data file, `treasury_quotes_2024-10-31`.\n",
    "\n",
    "The problems below analyze the nominal, (rather than the TIPS,) Treasury issues. Accordingly, you should filter out all rows with `type` `TIPS Note` or `TIPS bond`."
   ]
  },
  {
   "cell_type": "markdown",
   "id": "449b5d7c",
   "metadata": {},
   "source": [
    "***"
   ]
  },
  {
   "cell_type": "markdown",
   "id": "159651ed",
   "metadata": {},
   "source": [
    "# 1. Discount Rates"
   ]
  },
  {
   "cell_type": "markdown",
   "id": "16e5254a",
   "metadata": {},
   "source": [
    "Use the data in the `selected quotes` tab.\n",
    "\n",
    "Note:\n",
    "* The selected treasuries are at nearly six-month intervals. \n",
    "* If you prefer, approximate that they mature at perfect 6-month intervals. "
   ]
  },
  {
   "cell_type": "markdown",
   "id": "e44248dd",
   "metadata": {},
   "source": [
    "### 1.1.\n",
    "\n",
    "Create the cashflow matrix, $\\textbf{C}$, where each rows is a Treasury issue, each column is a date, and each entry is the cash paid on a (normalized) face value of \\$100."
   ]
  },
  {
   "cell_type": "code",
   "execution_count": 1,
   "id": "af3d1a7e",
   "metadata": {},
   "outputs": [],
   "source": [
    "# Import standard modules\n",
    "import logging\n",
    "import pandas as pd\n",
    "import numpy as np\n",
    "import matplotlib.pyplot as plt\n",
    "import plotly.express as px\n",
    "import plotly.graph_objects as go\n",
    "from sklearn.decomposition import PCA\n",
    "\n",
    "import warnings\n",
    "warnings.filterwarnings(\"ignore\", category=FutureWarning)\n",
    "\n",
    "import os\n",
    "import sys\n",
    "from pathlib import Path\n",
    "\n",
    "\n",
    "# BASE_DIR = Path(__file__).absolute().parent.parent # Uncomment for python files\n",
    "BASE_DIR = os.path.dirname(os.getcwd()) # Comment for python files\n",
    "sys.path.insert(0, str(Path(BASE_DIR) / 'utils'))\n",
    "\n",
    "import config\n",
    "from treasuries import *\n",
    "from data_utils import read_excel_default\n",
    "from portfolio_management import calc_correlations"
   ]
  },
  {
   "cell_type": "code",
   "execution_count": 2,
   "id": "020d7007",
   "metadata": {},
   "outputs": [],
   "source": [
    "# Global variables\n",
    "DATA_DIR = Path(config.DATA_DIR)\n",
    "DATA_DIR.mkdir(parents=True, exist_ok=True)\n",
    "QUOTE_DATE = '2024-10-31'\n",
    "\n",
    "FILE_PATH = Path(config.DATA_DIR) / f\"treasury_quotes_{QUOTE_DATE}.xlsx\"\n"
   ]
  },
  {
   "cell_type": "code",
   "execution_count": 3,
   "id": "a2083cb4",
   "metadata": {},
   "outputs": [
    {
     "data": {
      "text/html": [
       "<div>\n",
       "<style scoped>\n",
       "    .dataframe tbody tr th:only-of-type {\n",
       "        vertical-align: middle;\n",
       "    }\n",
       "\n",
       "    .dataframe tbody tr th {\n",
       "        vertical-align: top;\n",
       "    }\n",
       "\n",
       "    .dataframe thead th {\n",
       "        text-align: right;\n",
       "    }\n",
       "</style>\n",
       "<table border=\"1\" class=\"dataframe\">\n",
       "  <thead>\n",
       "    <tr style=\"text-align: right;\">\n",
       "      <th></th>\n",
       "      <th>KYTREASNO</th>\n",
       "      <th>type</th>\n",
       "      <th>quote date</th>\n",
       "      <th>issue date</th>\n",
       "      <th>maturity date</th>\n",
       "      <th>ttm</th>\n",
       "      <th>accrual fraction</th>\n",
       "      <th>cpn rate</th>\n",
       "      <th>bid</th>\n",
       "      <th>ask</th>\n",
       "      <th>price</th>\n",
       "      <th>accrued int</th>\n",
       "      <th>dirty price</th>\n",
       "      <th>ytm</th>\n",
       "    </tr>\n",
       "  </thead>\n",
       "  <tbody>\n",
       "    <tr>\n",
       "      <th>0</th>\n",
       "      <td>208042</td>\n",
       "      <td>note</td>\n",
       "      <td>2024-10-31</td>\n",
       "      <td>2023-04-30</td>\n",
       "      <td>2025-04-30</td>\n",
       "      <td>0.4956</td>\n",
       "      <td>0</td>\n",
       "      <td>3.8750</td>\n",
       "      <td>99.7125</td>\n",
       "      <td>99.7222</td>\n",
       "      <td>99.7174</td>\n",
       "      <td>0</td>\n",
       "      <td>99.7174</td>\n",
       "      <td>0.0449</td>\n",
       "    </tr>\n",
       "    <tr>\n",
       "      <th>1</th>\n",
       "      <td>208129</td>\n",
       "      <td>note</td>\n",
       "      <td>2024-10-31</td>\n",
       "      <td>2023-10-31</td>\n",
       "      <td>2025-10-31</td>\n",
       "      <td>0.9993</td>\n",
       "      <td>0</td>\n",
       "      <td>5.0000</td>\n",
       "      <td>100.6414</td>\n",
       "      <td>100.6608</td>\n",
       "      <td>100.6511</td>\n",
       "      <td>0</td>\n",
       "      <td>100.6511</td>\n",
       "      <td>0.0433</td>\n",
       "    </tr>\n",
       "    <tr>\n",
       "      <th>2</th>\n",
       "      <td>208213</td>\n",
       "      <td>note</td>\n",
       "      <td>2024-10-31</td>\n",
       "      <td>2024-04-30</td>\n",
       "      <td>2026-04-30</td>\n",
       "      <td>1.4949</td>\n",
       "      <td>0</td>\n",
       "      <td>4.8750</td>\n",
       "      <td>100.9297</td>\n",
       "      <td>100.9609</td>\n",
       "      <td>100.9453</td>\n",
       "      <td>0</td>\n",
       "      <td>100.9453</td>\n",
       "      <td>0.0423</td>\n",
       "    </tr>\n",
       "    <tr>\n",
       "      <th>3</th>\n",
       "      <td>208302</td>\n",
       "      <td>note</td>\n",
       "      <td>2024-10-31</td>\n",
       "      <td>2024-10-31</td>\n",
       "      <td>2026-10-31</td>\n",
       "      <td>1.9986</td>\n",
       "      <td>0</td>\n",
       "      <td>4.1250</td>\n",
       "      <td>99.9336</td>\n",
       "      <td>99.9414</td>\n",
       "      <td>99.9375</td>\n",
       "      <td>0</td>\n",
       "      <td>99.9375</td>\n",
       "      <td>0.0416</td>\n",
       "    </tr>\n",
       "    <tr>\n",
       "      <th>4</th>\n",
       "      <td>207875</td>\n",
       "      <td>note</td>\n",
       "      <td>2024-10-31</td>\n",
       "      <td>2022-04-30</td>\n",
       "      <td>2027-04-30</td>\n",
       "      <td>2.4942</td>\n",
       "      <td>0</td>\n",
       "      <td>2.7500</td>\n",
       "      <td>96.7500</td>\n",
       "      <td>96.7812</td>\n",
       "      <td>96.7656</td>\n",
       "      <td>0</td>\n",
       "      <td>96.7656</td>\n",
       "      <td>0.0413</td>\n",
       "    </tr>\n",
       "  </tbody>\n",
       "</table>\n",
       "</div>"
      ],
      "text/plain": [
       "   KYTREASNO  type quote date issue date maturity date    ttm  \\\n",
       "0     208042  note 2024-10-31 2023-04-30    2025-04-30 0.4956   \n",
       "1     208129  note 2024-10-31 2023-10-31    2025-10-31 0.9993   \n",
       "2     208213  note 2024-10-31 2024-04-30    2026-04-30 1.4949   \n",
       "3     208302  note 2024-10-31 2024-10-31    2026-10-31 1.9986   \n",
       "4     207875  note 2024-10-31 2022-04-30    2027-04-30 2.4942   \n",
       "\n",
       "   accrual fraction  cpn rate      bid      ask    price  accrued int  \\\n",
       "0                 0    3.8750  99.7125  99.7222  99.7174            0   \n",
       "1                 0    5.0000 100.6414 100.6608 100.6511            0   \n",
       "2                 0    4.8750 100.9297 100.9609 100.9453            0   \n",
       "3                 0    4.1250  99.9336  99.9414  99.9375            0   \n",
       "4                 0    2.7500  96.7500  96.7812  96.7656            0   \n",
       "\n",
       "   dirty price    ytm  \n",
       "0      99.7174 0.0449  \n",
       "1     100.6511 0.0433  \n",
       "2     100.9453 0.0423  \n",
       "3      99.9375 0.0416  \n",
       "4      96.7656 0.0413  "
      ]
     },
     "execution_count": 3,
     "metadata": {},
     "output_type": "execute_result"
    }
   ],
   "source": [
    "# Extract data:\n",
    "treasuries_df = pd.read_excel(FILE_PATH, sheet_name='selected quotes')\n",
    "treasuries_df.head()"
   ]
  },
  {
   "cell_type": "code",
   "execution_count": 4,
   "id": "de3580f4",
   "metadata": {},
   "outputs": [
    {
     "name": "stdout",
     "output_type": "stream",
     "text": [
      "Analysis based on quotes from: 2024-10-31\n"
     ]
    }
   ],
   "source": [
    "t_check = treasuries_df['quote date'].values[0]\n",
    "if treasuries_df['quote date'].eq(t_check).all():\n",
    "    t_curr_date = t_check\n",
    "else:\n",
    "    warnings.warn('Quotes are from multiple dates.')\n",
    "    t_curr_date = None\n",
    "\n",
    "print(f'Analysis based on quotes from: {pd.to_datetime(t_curr_date):%Y-%m-%d}')"
   ]
  },
  {
   "cell_type": "code",
   "execution_count": 5,
   "id": "07db38da",
   "metadata": {},
   "outputs": [
    {
     "data": {
      "text/html": [
       "<div>\n",
       "<style scoped>\n",
       "    .dataframe tbody tr th:only-of-type {\n",
       "        vertical-align: middle;\n",
       "    }\n",
       "\n",
       "    .dataframe tbody tr th {\n",
       "        vertical-align: top;\n",
       "    }\n",
       "\n",
       "    .dataframe thead th {\n",
       "        text-align: right;\n",
       "    }\n",
       "</style>\n",
       "<table border=\"1\" class=\"dataframe\">\n",
       "  <thead>\n",
       "    <tr style=\"text-align: right;\">\n",
       "      <th></th>\n",
       "      <th>2025-04-30</th>\n",
       "      <th>2025-10-30</th>\n",
       "      <th>2025-10-31</th>\n",
       "      <th>2026-04-30</th>\n",
       "      <th>2026-10-30</th>\n",
       "      <th>2026-10-31</th>\n",
       "      <th>2027-04-30</th>\n",
       "      <th>2027-10-30</th>\n",
       "      <th>2027-10-31</th>\n",
       "      <th>2028-04-30</th>\n",
       "      <th>2028-10-30</th>\n",
       "      <th>2028-10-31</th>\n",
       "      <th>2029-04-30</th>\n",
       "      <th>2029-10-30</th>\n",
       "      <th>2029-10-31</th>\n",
       "      <th>2030-04-30</th>\n",
       "      <th>2030-10-30</th>\n",
       "      <th>2030-10-31</th>\n",
       "      <th>2031-04-30</th>\n",
       "      <th>2031-10-30</th>\n",
       "      <th>2031-10-31</th>\n",
       "    </tr>\n",
       "  </thead>\n",
       "  <tbody>\n",
       "    <tr>\n",
       "      <th>0</th>\n",
       "      <td>101.9375</td>\n",
       "      <td>0.0000</td>\n",
       "      <td>0</td>\n",
       "      <td>0.0000</td>\n",
       "      <td>0.0000</td>\n",
       "      <td>0</td>\n",
       "      <td>0.0000</td>\n",
       "      <td>0.0000</td>\n",
       "      <td>0</td>\n",
       "      <td>0.0000</td>\n",
       "      <td>0.0000</td>\n",
       "      <td>0</td>\n",
       "      <td>0.0000</td>\n",
       "      <td>0.0000</td>\n",
       "      <td>0</td>\n",
       "      <td>0.0000</td>\n",
       "      <td>0.0000</td>\n",
       "      <td>0</td>\n",
       "      <td>0.0000</td>\n",
       "      <td>0.0000</td>\n",
       "      <td>0</td>\n",
       "    </tr>\n",
       "    <tr>\n",
       "      <th>1</th>\n",
       "      <td>2.5000</td>\n",
       "      <td>2.5000</td>\n",
       "      <td>100</td>\n",
       "      <td>0.0000</td>\n",
       "      <td>0.0000</td>\n",
       "      <td>0</td>\n",
       "      <td>0.0000</td>\n",
       "      <td>0.0000</td>\n",
       "      <td>0</td>\n",
       "      <td>0.0000</td>\n",
       "      <td>0.0000</td>\n",
       "      <td>0</td>\n",
       "      <td>0.0000</td>\n",
       "      <td>0.0000</td>\n",
       "      <td>0</td>\n",
       "      <td>0.0000</td>\n",
       "      <td>0.0000</td>\n",
       "      <td>0</td>\n",
       "      <td>0.0000</td>\n",
       "      <td>0.0000</td>\n",
       "      <td>0</td>\n",
       "    </tr>\n",
       "    <tr>\n",
       "      <th>2</th>\n",
       "      <td>2.4375</td>\n",
       "      <td>2.4375</td>\n",
       "      <td>0</td>\n",
       "      <td>102.4375</td>\n",
       "      <td>0.0000</td>\n",
       "      <td>0</td>\n",
       "      <td>0.0000</td>\n",
       "      <td>0.0000</td>\n",
       "      <td>0</td>\n",
       "      <td>0.0000</td>\n",
       "      <td>0.0000</td>\n",
       "      <td>0</td>\n",
       "      <td>0.0000</td>\n",
       "      <td>0.0000</td>\n",
       "      <td>0</td>\n",
       "      <td>0.0000</td>\n",
       "      <td>0.0000</td>\n",
       "      <td>0</td>\n",
       "      <td>0.0000</td>\n",
       "      <td>0.0000</td>\n",
       "      <td>0</td>\n",
       "    </tr>\n",
       "    <tr>\n",
       "      <th>3</th>\n",
       "      <td>2.0625</td>\n",
       "      <td>2.0625</td>\n",
       "      <td>0</td>\n",
       "      <td>2.0625</td>\n",
       "      <td>2.0625</td>\n",
       "      <td>100</td>\n",
       "      <td>0.0000</td>\n",
       "      <td>0.0000</td>\n",
       "      <td>0</td>\n",
       "      <td>0.0000</td>\n",
       "      <td>0.0000</td>\n",
       "      <td>0</td>\n",
       "      <td>0.0000</td>\n",
       "      <td>0.0000</td>\n",
       "      <td>0</td>\n",
       "      <td>0.0000</td>\n",
       "      <td>0.0000</td>\n",
       "      <td>0</td>\n",
       "      <td>0.0000</td>\n",
       "      <td>0.0000</td>\n",
       "      <td>0</td>\n",
       "    </tr>\n",
       "    <tr>\n",
       "      <th>4</th>\n",
       "      <td>1.3750</td>\n",
       "      <td>1.3750</td>\n",
       "      <td>0</td>\n",
       "      <td>1.3750</td>\n",
       "      <td>1.3750</td>\n",
       "      <td>0</td>\n",
       "      <td>101.3750</td>\n",
       "      <td>0.0000</td>\n",
       "      <td>0</td>\n",
       "      <td>0.0000</td>\n",
       "      <td>0.0000</td>\n",
       "      <td>0</td>\n",
       "      <td>0.0000</td>\n",
       "      <td>0.0000</td>\n",
       "      <td>0</td>\n",
       "      <td>0.0000</td>\n",
       "      <td>0.0000</td>\n",
       "      <td>0</td>\n",
       "      <td>0.0000</td>\n",
       "      <td>0.0000</td>\n",
       "      <td>0</td>\n",
       "    </tr>\n",
       "  </tbody>\n",
       "</table>\n",
       "</div>"
      ],
      "text/plain": [
       "   2025-04-30  2025-10-30  2025-10-31  2026-04-30  2026-10-30  2026-10-31  \\\n",
       "0    101.9375      0.0000           0      0.0000      0.0000           0   \n",
       "1      2.5000      2.5000         100      0.0000      0.0000           0   \n",
       "2      2.4375      2.4375           0    102.4375      0.0000           0   \n",
       "3      2.0625      2.0625           0      2.0625      2.0625         100   \n",
       "4      1.3750      1.3750           0      1.3750      1.3750           0   \n",
       "\n",
       "   2027-04-30  2027-10-30  2027-10-31  2028-04-30  2028-10-30  2028-10-31  \\\n",
       "0      0.0000      0.0000           0      0.0000      0.0000           0   \n",
       "1      0.0000      0.0000           0      0.0000      0.0000           0   \n",
       "2      0.0000      0.0000           0      0.0000      0.0000           0   \n",
       "3      0.0000      0.0000           0      0.0000      0.0000           0   \n",
       "4    101.3750      0.0000           0      0.0000      0.0000           0   \n",
       "\n",
       "   2029-04-30  2029-10-30  2029-10-31  2030-04-30  2030-10-30  2030-10-31  \\\n",
       "0      0.0000      0.0000           0      0.0000      0.0000           0   \n",
       "1      0.0000      0.0000           0      0.0000      0.0000           0   \n",
       "2      0.0000      0.0000           0      0.0000      0.0000           0   \n",
       "3      0.0000      0.0000           0      0.0000      0.0000           0   \n",
       "4      0.0000      0.0000           0      0.0000      0.0000           0   \n",
       "\n",
       "   2031-04-30  2031-10-30  2031-10-31  \n",
       "0      0.0000      0.0000           0  \n",
       "1      0.0000      0.0000           0  \n",
       "2      0.0000      0.0000           0  \n",
       "3      0.0000      0.0000           0  \n",
       "4      0.0000      0.0000           0  "
      ]
     },
     "metadata": {},
     "output_type": "display_data"
    },
    {
     "name": "stdout",
     "output_type": "stream",
     "text": [
      "\n",
      "Dates-adjusted cashflow map:\n"
     ]
    },
    {
     "data": {
      "text/html": [
       "<div>\n",
       "<style scoped>\n",
       "    .dataframe tbody tr th:only-of-type {\n",
       "        vertical-align: middle;\n",
       "    }\n",
       "\n",
       "    .dataframe tbody tr th {\n",
       "        vertical-align: top;\n",
       "    }\n",
       "\n",
       "    .dataframe thead th {\n",
       "        text-align: right;\n",
       "    }\n",
       "</style>\n",
       "<table border=\"1\" class=\"dataframe\">\n",
       "  <thead>\n",
       "    <tr style=\"text-align: right;\">\n",
       "      <th></th>\n",
       "      <th>2025-04-30</th>\n",
       "      <th>2025-10-31</th>\n",
       "      <th>2026-04-30</th>\n",
       "      <th>2026-10-31</th>\n",
       "      <th>2027-04-30</th>\n",
       "      <th>2027-10-31</th>\n",
       "      <th>2028-04-30</th>\n",
       "      <th>2028-10-31</th>\n",
       "      <th>2029-04-30</th>\n",
       "      <th>2029-10-31</th>\n",
       "      <th>2030-04-30</th>\n",
       "      <th>2030-10-31</th>\n",
       "      <th>2031-04-30</th>\n",
       "      <th>2031-10-31</th>\n",
       "    </tr>\n",
       "  </thead>\n",
       "  <tbody>\n",
       "    <tr>\n",
       "      <th>0</th>\n",
       "      <td>101.9375</td>\n",
       "      <td>0.0000</td>\n",
       "      <td>0.0000</td>\n",
       "      <td>0.0000</td>\n",
       "      <td>0.0000</td>\n",
       "      <td>0.0000</td>\n",
       "      <td>0.0000</td>\n",
       "      <td>0.0000</td>\n",
       "      <td>0.0000</td>\n",
       "      <td>0.0000</td>\n",
       "      <td>0.0000</td>\n",
       "      <td>0.0000</td>\n",
       "      <td>0.0000</td>\n",
       "      <td>0.0000</td>\n",
       "    </tr>\n",
       "    <tr>\n",
       "      <th>1</th>\n",
       "      <td>2.5000</td>\n",
       "      <td>102.5000</td>\n",
       "      <td>0.0000</td>\n",
       "      <td>0.0000</td>\n",
       "      <td>0.0000</td>\n",
       "      <td>0.0000</td>\n",
       "      <td>0.0000</td>\n",
       "      <td>0.0000</td>\n",
       "      <td>0.0000</td>\n",
       "      <td>0.0000</td>\n",
       "      <td>0.0000</td>\n",
       "      <td>0.0000</td>\n",
       "      <td>0.0000</td>\n",
       "      <td>0.0000</td>\n",
       "    </tr>\n",
       "    <tr>\n",
       "      <th>2</th>\n",
       "      <td>2.4375</td>\n",
       "      <td>2.4375</td>\n",
       "      <td>102.4375</td>\n",
       "      <td>0.0000</td>\n",
       "      <td>0.0000</td>\n",
       "      <td>0.0000</td>\n",
       "      <td>0.0000</td>\n",
       "      <td>0.0000</td>\n",
       "      <td>0.0000</td>\n",
       "      <td>0.0000</td>\n",
       "      <td>0.0000</td>\n",
       "      <td>0.0000</td>\n",
       "      <td>0.0000</td>\n",
       "      <td>0.0000</td>\n",
       "    </tr>\n",
       "    <tr>\n",
       "      <th>3</th>\n",
       "      <td>2.0625</td>\n",
       "      <td>2.0625</td>\n",
       "      <td>2.0625</td>\n",
       "      <td>102.0625</td>\n",
       "      <td>0.0000</td>\n",
       "      <td>0.0000</td>\n",
       "      <td>0.0000</td>\n",
       "      <td>0.0000</td>\n",
       "      <td>0.0000</td>\n",
       "      <td>0.0000</td>\n",
       "      <td>0.0000</td>\n",
       "      <td>0.0000</td>\n",
       "      <td>0.0000</td>\n",
       "      <td>0.0000</td>\n",
       "    </tr>\n",
       "    <tr>\n",
       "      <th>4</th>\n",
       "      <td>1.3750</td>\n",
       "      <td>1.3750</td>\n",
       "      <td>1.3750</td>\n",
       "      <td>1.3750</td>\n",
       "      <td>101.3750</td>\n",
       "      <td>0.0000</td>\n",
       "      <td>0.0000</td>\n",
       "      <td>0.0000</td>\n",
       "      <td>0.0000</td>\n",
       "      <td>0.0000</td>\n",
       "      <td>0.0000</td>\n",
       "      <td>0.0000</td>\n",
       "      <td>0.0000</td>\n",
       "      <td>0.0000</td>\n",
       "    </tr>\n",
       "  </tbody>\n",
       "</table>\n",
       "</div>"
      ],
      "text/plain": [
       "   2025-04-30  2025-10-31  2026-04-30  2026-10-31  2027-04-30  2027-10-31  \\\n",
       "0    101.9375      0.0000      0.0000      0.0000      0.0000      0.0000   \n",
       "1      2.5000    102.5000      0.0000      0.0000      0.0000      0.0000   \n",
       "2      2.4375      2.4375    102.4375      0.0000      0.0000      0.0000   \n",
       "3      2.0625      2.0625      2.0625    102.0625      0.0000      0.0000   \n",
       "4      1.3750      1.3750      1.3750      1.3750    101.3750      0.0000   \n",
       "\n",
       "   2028-04-30  2028-10-31  2029-04-30  2029-10-31  2030-04-30  2030-10-31  \\\n",
       "0      0.0000      0.0000      0.0000      0.0000      0.0000      0.0000   \n",
       "1      0.0000      0.0000      0.0000      0.0000      0.0000      0.0000   \n",
       "2      0.0000      0.0000      0.0000      0.0000      0.0000      0.0000   \n",
       "3      0.0000      0.0000      0.0000      0.0000      0.0000      0.0000   \n",
       "4      0.0000      0.0000      0.0000      0.0000      0.0000      0.0000   \n",
       "\n",
       "   2031-04-30  2031-10-31  \n",
       "0      0.0000      0.0000  \n",
       "1      0.0000      0.0000  \n",
       "2      0.0000      0.0000  \n",
       "3      0.0000      0.0000  \n",
       "4      0.0000      0.0000  "
      ]
     },
     "metadata": {},
     "output_type": "display_data"
    },
    {
     "data": {
      "text/html": [
       "<div>\n",
       "<style scoped>\n",
       "    .dataframe tbody tr th:only-of-type {\n",
       "        vertical-align: middle;\n",
       "    }\n",
       "\n",
       "    .dataframe tbody tr th {\n",
       "        vertical-align: top;\n",
       "    }\n",
       "\n",
       "    .dataframe thead th {\n",
       "        text-align: right;\n",
       "    }\n",
       "</style>\n",
       "<table border=\"1\" class=\"dataframe\">\n",
       "  <thead>\n",
       "    <tr style=\"text-align: right;\">\n",
       "      <th></th>\n",
       "      <th>2025-04-30</th>\n",
       "      <th>2025-10-31</th>\n",
       "      <th>2026-04-30</th>\n",
       "      <th>2026-10-31</th>\n",
       "      <th>2027-04-30</th>\n",
       "      <th>2027-10-31</th>\n",
       "      <th>2028-04-30</th>\n",
       "      <th>2028-10-31</th>\n",
       "      <th>2029-04-30</th>\n",
       "      <th>2029-10-31</th>\n",
       "      <th>2030-04-30</th>\n",
       "      <th>2030-10-31</th>\n",
       "      <th>2031-04-30</th>\n",
       "      <th>2031-10-31</th>\n",
       "    </tr>\n",
       "  </thead>\n",
       "  <tbody>\n",
       "    <tr>\n",
       "      <th>9</th>\n",
       "      <td>2.0625</td>\n",
       "      <td>2.0625</td>\n",
       "      <td>2.0625</td>\n",
       "      <td>2.0625</td>\n",
       "      <td>2.0625</td>\n",
       "      <td>2.0625</td>\n",
       "      <td>2.0625</td>\n",
       "      <td>2.0625</td>\n",
       "      <td>2.0625</td>\n",
       "      <td>102.0625</td>\n",
       "      <td>0.0000</td>\n",
       "      <td>0.0000</td>\n",
       "      <td>0.0000</td>\n",
       "      <td>0.0000</td>\n",
       "    </tr>\n",
       "    <tr>\n",
       "      <th>10</th>\n",
       "      <td>1.7500</td>\n",
       "      <td>1.7500</td>\n",
       "      <td>1.7500</td>\n",
       "      <td>1.7500</td>\n",
       "      <td>1.7500</td>\n",
       "      <td>1.7500</td>\n",
       "      <td>1.7500</td>\n",
       "      <td>1.7500</td>\n",
       "      <td>1.7500</td>\n",
       "      <td>1.7500</td>\n",
       "      <td>101.7500</td>\n",
       "      <td>0.0000</td>\n",
       "      <td>0.0000</td>\n",
       "      <td>0.0000</td>\n",
       "    </tr>\n",
       "    <tr>\n",
       "      <th>11</th>\n",
       "      <td>2.4375</td>\n",
       "      <td>2.4375</td>\n",
       "      <td>2.4375</td>\n",
       "      <td>2.4375</td>\n",
       "      <td>2.4375</td>\n",
       "      <td>2.4375</td>\n",
       "      <td>2.4375</td>\n",
       "      <td>2.4375</td>\n",
       "      <td>2.4375</td>\n",
       "      <td>2.4375</td>\n",
       "      <td>2.4375</td>\n",
       "      <td>102.4375</td>\n",
       "      <td>0.0000</td>\n",
       "      <td>0.0000</td>\n",
       "    </tr>\n",
       "    <tr>\n",
       "      <th>12</th>\n",
       "      <td>2.3125</td>\n",
       "      <td>2.3125</td>\n",
       "      <td>2.3125</td>\n",
       "      <td>2.3125</td>\n",
       "      <td>2.3125</td>\n",
       "      <td>2.3125</td>\n",
       "      <td>2.3125</td>\n",
       "      <td>2.3125</td>\n",
       "      <td>2.3125</td>\n",
       "      <td>2.3125</td>\n",
       "      <td>2.3125</td>\n",
       "      <td>2.3125</td>\n",
       "      <td>102.3125</td>\n",
       "      <td>0.0000</td>\n",
       "    </tr>\n",
       "    <tr>\n",
       "      <th>13</th>\n",
       "      <td>2.0625</td>\n",
       "      <td>2.0625</td>\n",
       "      <td>2.0625</td>\n",
       "      <td>2.0625</td>\n",
       "      <td>2.0625</td>\n",
       "      <td>2.0625</td>\n",
       "      <td>2.0625</td>\n",
       "      <td>2.0625</td>\n",
       "      <td>2.0625</td>\n",
       "      <td>2.0625</td>\n",
       "      <td>2.0625</td>\n",
       "      <td>2.0625</td>\n",
       "      <td>2.0625</td>\n",
       "      <td>102.0625</td>\n",
       "    </tr>\n",
       "  </tbody>\n",
       "</table>\n",
       "</div>"
      ],
      "text/plain": [
       "    2025-04-30  2025-10-31  2026-04-30  2026-10-31  2027-04-30  2027-10-31  \\\n",
       "9       2.0625      2.0625      2.0625      2.0625      2.0625      2.0625   \n",
       "10      1.7500      1.7500      1.7500      1.7500      1.7500      1.7500   \n",
       "11      2.4375      2.4375      2.4375      2.4375      2.4375      2.4375   \n",
       "12      2.3125      2.3125      2.3125      2.3125      2.3125      2.3125   \n",
       "13      2.0625      2.0625      2.0625      2.0625      2.0625      2.0625   \n",
       "\n",
       "    2028-04-30  2028-10-31  2029-04-30  2029-10-31  2030-04-30  2030-10-31  \\\n",
       "9       2.0625      2.0625      2.0625    102.0625      0.0000      0.0000   \n",
       "10      1.7500      1.7500      1.7500      1.7500    101.7500      0.0000   \n",
       "11      2.4375      2.4375      2.4375      2.4375      2.4375    102.4375   \n",
       "12      2.3125      2.3125      2.3125      2.3125      2.3125      2.3125   \n",
       "13      2.0625      2.0625      2.0625      2.0625      2.0625      2.0625   \n",
       "\n",
       "    2031-04-30  2031-10-31  \n",
       "9       0.0000      0.0000  \n",
       "10      0.0000      0.0000  \n",
       "11      0.0000      0.0000  \n",
       "12    102.3125      0.0000  \n",
       "13      2.0625    102.0625  "
      ]
     },
     "metadata": {},
     "output_type": "display_data"
    }
   ],
   "source": [
    "# Calculate cash flow matrix\n",
    "cf = calc_cashflows(treasuries_df)\n",
    "display(cf.head())\n",
    "\n",
    "# Adjust oct-30 to oct-31\n",
    "years = cf.columns.year\n",
    "years = sorted(set(years))\n",
    "\n",
    "for year in years:\n",
    "    coupon_col = f\"{year}-10-30\"\n",
    "    principal_col = f\"{year}-10-31\"\n",
    "    if coupon_col in cf.columns and principal_col in cf.columns:\n",
    "        cf[principal_col] += cf[coupon_col]\n",
    "        cf.drop(columns=coupon_col, inplace=True)\n",
    "    elif coupon_col in cf.columns:\n",
    "        cf.rename(columns={coupon_col: principal_col}, inplace=True)\n",
    "\n",
    "print(\"\\nDates-adjusted cashflow map:\")\n",
    "display(cf.head())   \n",
    "display(cf.tail())   "
   ]
  },
  {
   "cell_type": "markdown",
   "id": "f2c17434",
   "metadata": {},
   "source": [
    "### 1.2.\n",
    "\n",
    "Estimate the spot discount factors that rationalize the market prices of the treasuries. Do this via solving the linear system\n",
    "\n",
    "$$\\textbf{p} = {\\textbf{C}}\\, \\textbf{z}$$"
   ]
  },
  {
   "cell_type": "code",
   "execution_count": 6,
   "id": "4fe82c4c",
   "metadata": {},
   "outputs": [
    {
     "data": {
      "text/plain": [
       "array([0.97822049, 0.95810304, 0.93935838, 0.92106705, 0.90303423,\n",
       "       0.88485588, 0.86632685, 0.84811994, 0.83111031, 0.81446174,\n",
       "       0.79632959, 0.77902394, 0.76195606, 0.74636869])"
      ]
     },
     "execution_count": 6,
     "metadata": {},
     "output_type": "execute_result"
    }
   ],
   "source": [
    "prices = treasuries_df['price'][cf.index]\n",
    "z = np.linalg.solve(cf, prices)\n",
    "z"
   ]
  },
  {
   "cell_type": "markdown",
   "id": "f02955d5",
   "metadata": {},
   "source": [
    "### 1.3.\n",
    "\n",
    "Plot the time-to-maturity on the horizontal axis. On the vertical axis, plot the...\n",
    "* discount factors\n",
    "\n",
    "Make another plot, this time with the vertical axis displaying the\n",
    "* semiannually compounded discount rates\n",
    "* continuously compounded discount rates"
   ]
  },
  {
   "cell_type": "code",
   "execution_count": 7,
   "id": "130cd91e",
   "metadata": {},
   "outputs": [
    {
     "data": {
      "application/vnd.plotly.v1+json": {
       "config": {
        "plotlyServerURL": "https://plot.ly"
       },
       "data": [
        {
         "hovertemplate": "Time to Maturity=%{x}<br>Discount Factor=%{y}<extra></extra>",
         "legendgroup": "",
         "line": {
          "color": "#636efa",
          "dash": "solid"
         },
         "marker": {
          "symbol": "circle"
         },
         "mode": "lines",
         "name": "",
         "orientation": "v",
         "showlegend": false,
         "type": "scatter",
         "x": [
          0.5,
          1,
          1.5,
          2,
          2.5,
          3,
          3.5,
          4,
          4.5,
          5,
          5.5,
          6,
          6.5,
          7
         ],
         "xaxis": "x",
         "y": [
          0.9782204914776211,
          0.9581030377688385,
          0.9393583784987115,
          0.9210670522011078,
          0.9030342311228002,
          0.8848558816256705,
          0.8663268459241689,
          0.8481199382390863,
          0.8311103072060195,
          0.8144617431634336,
          0.7963295937331887,
          0.7790239396354698,
          0.7619560639572047,
          0.7463686909673853
         ],
         "yaxis": "y"
        }
       ],
       "layout": {
        "legend": {
         "tracegroupgap": 0
        },
        "showlegend": false,
        "template": {
         "data": {
          "bar": [
           {
            "error_x": {
             "color": "#2a3f5f"
            },
            "error_y": {
             "color": "#2a3f5f"
            },
            "marker": {
             "line": {
              "color": "#E5ECF6",
              "width": 0.5
             },
             "pattern": {
              "fillmode": "overlay",
              "size": 10,
              "solidity": 0.2
             }
            },
            "type": "bar"
           }
          ],
          "barpolar": [
           {
            "marker": {
             "line": {
              "color": "#E5ECF6",
              "width": 0.5
             },
             "pattern": {
              "fillmode": "overlay",
              "size": 10,
              "solidity": 0.2
             }
            },
            "type": "barpolar"
           }
          ],
          "carpet": [
           {
            "aaxis": {
             "endlinecolor": "#2a3f5f",
             "gridcolor": "white",
             "linecolor": "white",
             "minorgridcolor": "white",
             "startlinecolor": "#2a3f5f"
            },
            "baxis": {
             "endlinecolor": "#2a3f5f",
             "gridcolor": "white",
             "linecolor": "white",
             "minorgridcolor": "white",
             "startlinecolor": "#2a3f5f"
            },
            "type": "carpet"
           }
          ],
          "choropleth": [
           {
            "colorbar": {
             "outlinewidth": 0,
             "ticks": ""
            },
            "type": "choropleth"
           }
          ],
          "contour": [
           {
            "colorbar": {
             "outlinewidth": 0,
             "ticks": ""
            },
            "colorscale": [
             [
              0,
              "#0d0887"
             ],
             [
              0.1111111111111111,
              "#46039f"
             ],
             [
              0.2222222222222222,
              "#7201a8"
             ],
             [
              0.3333333333333333,
              "#9c179e"
             ],
             [
              0.4444444444444444,
              "#bd3786"
             ],
             [
              0.5555555555555556,
              "#d8576b"
             ],
             [
              0.6666666666666666,
              "#ed7953"
             ],
             [
              0.7777777777777778,
              "#fb9f3a"
             ],
             [
              0.8888888888888888,
              "#fdca26"
             ],
             [
              1,
              "#f0f921"
             ]
            ],
            "type": "contour"
           }
          ],
          "contourcarpet": [
           {
            "colorbar": {
             "outlinewidth": 0,
             "ticks": ""
            },
            "type": "contourcarpet"
           }
          ],
          "heatmap": [
           {
            "colorbar": {
             "outlinewidth": 0,
             "ticks": ""
            },
            "colorscale": [
             [
              0,
              "#0d0887"
             ],
             [
              0.1111111111111111,
              "#46039f"
             ],
             [
              0.2222222222222222,
              "#7201a8"
             ],
             [
              0.3333333333333333,
              "#9c179e"
             ],
             [
              0.4444444444444444,
              "#bd3786"
             ],
             [
              0.5555555555555556,
              "#d8576b"
             ],
             [
              0.6666666666666666,
              "#ed7953"
             ],
             [
              0.7777777777777778,
              "#fb9f3a"
             ],
             [
              0.8888888888888888,
              "#fdca26"
             ],
             [
              1,
              "#f0f921"
             ]
            ],
            "type": "heatmap"
           }
          ],
          "heatmapgl": [
           {
            "colorbar": {
             "outlinewidth": 0,
             "ticks": ""
            },
            "colorscale": [
             [
              0,
              "#0d0887"
             ],
             [
              0.1111111111111111,
              "#46039f"
             ],
             [
              0.2222222222222222,
              "#7201a8"
             ],
             [
              0.3333333333333333,
              "#9c179e"
             ],
             [
              0.4444444444444444,
              "#bd3786"
             ],
             [
              0.5555555555555556,
              "#d8576b"
             ],
             [
              0.6666666666666666,
              "#ed7953"
             ],
             [
              0.7777777777777778,
              "#fb9f3a"
             ],
             [
              0.8888888888888888,
              "#fdca26"
             ],
             [
              1,
              "#f0f921"
             ]
            ],
            "type": "heatmapgl"
           }
          ],
          "histogram": [
           {
            "marker": {
             "pattern": {
              "fillmode": "overlay",
              "size": 10,
              "solidity": 0.2
             }
            },
            "type": "histogram"
           }
          ],
          "histogram2d": [
           {
            "colorbar": {
             "outlinewidth": 0,
             "ticks": ""
            },
            "colorscale": [
             [
              0,
              "#0d0887"
             ],
             [
              0.1111111111111111,
              "#46039f"
             ],
             [
              0.2222222222222222,
              "#7201a8"
             ],
             [
              0.3333333333333333,
              "#9c179e"
             ],
             [
              0.4444444444444444,
              "#bd3786"
             ],
             [
              0.5555555555555556,
              "#d8576b"
             ],
             [
              0.6666666666666666,
              "#ed7953"
             ],
             [
              0.7777777777777778,
              "#fb9f3a"
             ],
             [
              0.8888888888888888,
              "#fdca26"
             ],
             [
              1,
              "#f0f921"
             ]
            ],
            "type": "histogram2d"
           }
          ],
          "histogram2dcontour": [
           {
            "colorbar": {
             "outlinewidth": 0,
             "ticks": ""
            },
            "colorscale": [
             [
              0,
              "#0d0887"
             ],
             [
              0.1111111111111111,
              "#46039f"
             ],
             [
              0.2222222222222222,
              "#7201a8"
             ],
             [
              0.3333333333333333,
              "#9c179e"
             ],
             [
              0.4444444444444444,
              "#bd3786"
             ],
             [
              0.5555555555555556,
              "#d8576b"
             ],
             [
              0.6666666666666666,
              "#ed7953"
             ],
             [
              0.7777777777777778,
              "#fb9f3a"
             ],
             [
              0.8888888888888888,
              "#fdca26"
             ],
             [
              1,
              "#f0f921"
             ]
            ],
            "type": "histogram2dcontour"
           }
          ],
          "mesh3d": [
           {
            "colorbar": {
             "outlinewidth": 0,
             "ticks": ""
            },
            "type": "mesh3d"
           }
          ],
          "parcoords": [
           {
            "line": {
             "colorbar": {
              "outlinewidth": 0,
              "ticks": ""
             }
            },
            "type": "parcoords"
           }
          ],
          "pie": [
           {
            "automargin": true,
            "type": "pie"
           }
          ],
          "scatter": [
           {
            "fillpattern": {
             "fillmode": "overlay",
             "size": 10,
             "solidity": 0.2
            },
            "type": "scatter"
           }
          ],
          "scatter3d": [
           {
            "line": {
             "colorbar": {
              "outlinewidth": 0,
              "ticks": ""
             }
            },
            "marker": {
             "colorbar": {
              "outlinewidth": 0,
              "ticks": ""
             }
            },
            "type": "scatter3d"
           }
          ],
          "scattercarpet": [
           {
            "marker": {
             "colorbar": {
              "outlinewidth": 0,
              "ticks": ""
             }
            },
            "type": "scattercarpet"
           }
          ],
          "scattergeo": [
           {
            "marker": {
             "colorbar": {
              "outlinewidth": 0,
              "ticks": ""
             }
            },
            "type": "scattergeo"
           }
          ],
          "scattergl": [
           {
            "marker": {
             "colorbar": {
              "outlinewidth": 0,
              "ticks": ""
             }
            },
            "type": "scattergl"
           }
          ],
          "scattermapbox": [
           {
            "marker": {
             "colorbar": {
              "outlinewidth": 0,
              "ticks": ""
             }
            },
            "type": "scattermapbox"
           }
          ],
          "scatterpolar": [
           {
            "marker": {
             "colorbar": {
              "outlinewidth": 0,
              "ticks": ""
             }
            },
            "type": "scatterpolar"
           }
          ],
          "scatterpolargl": [
           {
            "marker": {
             "colorbar": {
              "outlinewidth": 0,
              "ticks": ""
             }
            },
            "type": "scatterpolargl"
           }
          ],
          "scatterternary": [
           {
            "marker": {
             "colorbar": {
              "outlinewidth": 0,
              "ticks": ""
             }
            },
            "type": "scatterternary"
           }
          ],
          "surface": [
           {
            "colorbar": {
             "outlinewidth": 0,
             "ticks": ""
            },
            "colorscale": [
             [
              0,
              "#0d0887"
             ],
             [
              0.1111111111111111,
              "#46039f"
             ],
             [
              0.2222222222222222,
              "#7201a8"
             ],
             [
              0.3333333333333333,
              "#9c179e"
             ],
             [
              0.4444444444444444,
              "#bd3786"
             ],
             [
              0.5555555555555556,
              "#d8576b"
             ],
             [
              0.6666666666666666,
              "#ed7953"
             ],
             [
              0.7777777777777778,
              "#fb9f3a"
             ],
             [
              0.8888888888888888,
              "#fdca26"
             ],
             [
              1,
              "#f0f921"
             ]
            ],
            "type": "surface"
           }
          ],
          "table": [
           {
            "cells": {
             "fill": {
              "color": "#EBF0F8"
             },
             "line": {
              "color": "white"
             }
            },
            "header": {
             "fill": {
              "color": "#C8D4E3"
             },
             "line": {
              "color": "white"
             }
            },
            "type": "table"
           }
          ]
         },
         "layout": {
          "annotationdefaults": {
           "arrowcolor": "#2a3f5f",
           "arrowhead": 0,
           "arrowwidth": 1
          },
          "autotypenumbers": "strict",
          "coloraxis": {
           "colorbar": {
            "outlinewidth": 0,
            "ticks": ""
           }
          },
          "colorscale": {
           "diverging": [
            [
             0,
             "#8e0152"
            ],
            [
             0.1,
             "#c51b7d"
            ],
            [
             0.2,
             "#de77ae"
            ],
            [
             0.3,
             "#f1b6da"
            ],
            [
             0.4,
             "#fde0ef"
            ],
            [
             0.5,
             "#f7f7f7"
            ],
            [
             0.6,
             "#e6f5d0"
            ],
            [
             0.7,
             "#b8e186"
            ],
            [
             0.8,
             "#7fbc41"
            ],
            [
             0.9,
             "#4d9221"
            ],
            [
             1,
             "#276419"
            ]
           ],
           "sequential": [
            [
             0,
             "#0d0887"
            ],
            [
             0.1111111111111111,
             "#46039f"
            ],
            [
             0.2222222222222222,
             "#7201a8"
            ],
            [
             0.3333333333333333,
             "#9c179e"
            ],
            [
             0.4444444444444444,
             "#bd3786"
            ],
            [
             0.5555555555555556,
             "#d8576b"
            ],
            [
             0.6666666666666666,
             "#ed7953"
            ],
            [
             0.7777777777777778,
             "#fb9f3a"
            ],
            [
             0.8888888888888888,
             "#fdca26"
            ],
            [
             1,
             "#f0f921"
            ]
           ],
           "sequentialminus": [
            [
             0,
             "#0d0887"
            ],
            [
             0.1111111111111111,
             "#46039f"
            ],
            [
             0.2222222222222222,
             "#7201a8"
            ],
            [
             0.3333333333333333,
             "#9c179e"
            ],
            [
             0.4444444444444444,
             "#bd3786"
            ],
            [
             0.5555555555555556,
             "#d8576b"
            ],
            [
             0.6666666666666666,
             "#ed7953"
            ],
            [
             0.7777777777777778,
             "#fb9f3a"
            ],
            [
             0.8888888888888888,
             "#fdca26"
            ],
            [
             1,
             "#f0f921"
            ]
           ]
          },
          "colorway": [
           "#636efa",
           "#EF553B",
           "#00cc96",
           "#ab63fa",
           "#FFA15A",
           "#19d3f3",
           "#FF6692",
           "#B6E880",
           "#FF97FF",
           "#FECB52"
          ],
          "font": {
           "color": "#2a3f5f"
          },
          "geo": {
           "bgcolor": "white",
           "lakecolor": "white",
           "landcolor": "#E5ECF6",
           "showlakes": true,
           "showland": true,
           "subunitcolor": "white"
          },
          "hoverlabel": {
           "align": "left"
          },
          "hovermode": "closest",
          "mapbox": {
           "style": "light"
          },
          "paper_bgcolor": "white",
          "plot_bgcolor": "#E5ECF6",
          "polar": {
           "angularaxis": {
            "gridcolor": "white",
            "linecolor": "white",
            "ticks": ""
           },
           "bgcolor": "#E5ECF6",
           "radialaxis": {
            "gridcolor": "white",
            "linecolor": "white",
            "ticks": ""
           }
          },
          "scene": {
           "xaxis": {
            "backgroundcolor": "#E5ECF6",
            "gridcolor": "white",
            "gridwidth": 2,
            "linecolor": "white",
            "showbackground": true,
            "ticks": "",
            "zerolinecolor": "white"
           },
           "yaxis": {
            "backgroundcolor": "#E5ECF6",
            "gridcolor": "white",
            "gridwidth": 2,
            "linecolor": "white",
            "showbackground": true,
            "ticks": "",
            "zerolinecolor": "white"
           },
           "zaxis": {
            "backgroundcolor": "#E5ECF6",
            "gridcolor": "white",
            "gridwidth": 2,
            "linecolor": "white",
            "showbackground": true,
            "ticks": "",
            "zerolinecolor": "white"
           }
          },
          "shapedefaults": {
           "line": {
            "color": "#2a3f5f"
           }
          },
          "ternary": {
           "aaxis": {
            "gridcolor": "white",
            "linecolor": "white",
            "ticks": ""
           },
           "baxis": {
            "gridcolor": "white",
            "linecolor": "white",
            "ticks": ""
           },
           "bgcolor": "#E5ECF6",
           "caxis": {
            "gridcolor": "white",
            "linecolor": "white",
            "ticks": ""
           }
          },
          "title": {
           "x": 0.05
          },
          "xaxis": {
           "automargin": true,
           "gridcolor": "white",
           "linecolor": "white",
           "ticks": "",
           "title": {
            "standoff": 15
           },
           "zerolinecolor": "white",
           "zerolinewidth": 2
          },
          "yaxis": {
           "automargin": true,
           "gridcolor": "white",
           "linecolor": "white",
           "ticks": "",
           "title": {
            "standoff": 15
           },
           "zerolinecolor": "white",
           "zerolinewidth": 2
          }
         }
        },
        "title": {
         "text": "Discount Factors"
        },
        "xaxis": {
         "anchor": "y",
         "domain": [
          0,
          1
         ],
         "title": {
          "text": "Time to Maturity"
         }
        },
        "yaxis": {
         "anchor": "x",
         "domain": [
          0,
          1
         ],
         "tickformat": ".2f",
         "title": {
          "text": "Discount Factor"
         }
        }
       }
      }
     },
     "metadata": {},
     "output_type": "display_data"
    }
   ],
   "source": [
    "current_date = treasuries_df.loc[0, 'quote date']\n",
    "time_to_maturity = cf.columns - current_date\n",
    "time_to_maturity = np.round(time_to_maturity.days / 365, 2)\n",
    "\n",
    "fig = px.line(\n",
    "    x=time_to_maturity, \n",
    "    y=z, \n",
    "    labels={\"x\": \"Time to Maturity\", \"y\": \"Discount Factor\"}, \n",
    "    title=\"Discount Factors\"\n",
    ")\n",
    "fig.update_layout(\n",
    "    showlegend=False,\n",
    "    yaxis_tickformat=\".2f\",\n",
    ")\n",
    "fig.show()"
   ]
  },
  {
   "cell_type": "code",
   "execution_count": 8,
   "id": "6272c7f5",
   "metadata": {},
   "outputs": [
    {
     "data": {
      "application/vnd.plotly.v1+json": {
       "config": {
        "plotlyServerURL": "https://plot.ly"
       },
       "data": [
        {
         "hovertemplate": "variable=interest rate<br>maturity=%{x}<br>value=%{y}<extra></extra>",
         "legendgroup": "interest rate",
         "line": {
          "color": "#636efa",
          "dash": "solid"
         },
         "marker": {
          "symbol": "circle"
         },
         "mode": "lines",
         "name": "interest rate",
         "orientation": "v",
         "showlegend": true,
         "type": "scatter",
         "x": [
          0.5,
          1,
          1.5,
          2,
          2.5,
          3,
          3.5,
          4,
          4.5,
          5,
          5.5,
          6,
          6.5,
          7
         ],
         "xaxis": "x",
         "y": [
          0.04452883314574718,
          0.04326119500181269,
          0.04214335023011406,
          0.04153666404309897,
          0.041216888887155356,
          0.04119535796583529,
          0.041421101301991836,
          0.04161024572427241,
          0.04153490805616977,
          0.04146964507790374,
          0.041839279642293725,
          0.04205497004472569,
          0.04226600737030051,
          0.04223047144700098
         ],
         "yaxis": "y"
        }
       ],
       "layout": {
        "legend": {
         "title": {
          "text": "variable"
         },
         "tracegroupgap": 0
        },
        "showlegend": false,
        "template": {
         "data": {
          "bar": [
           {
            "error_x": {
             "color": "#2a3f5f"
            },
            "error_y": {
             "color": "#2a3f5f"
            },
            "marker": {
             "line": {
              "color": "#E5ECF6",
              "width": 0.5
             },
             "pattern": {
              "fillmode": "overlay",
              "size": 10,
              "solidity": 0.2
             }
            },
            "type": "bar"
           }
          ],
          "barpolar": [
           {
            "marker": {
             "line": {
              "color": "#E5ECF6",
              "width": 0.5
             },
             "pattern": {
              "fillmode": "overlay",
              "size": 10,
              "solidity": 0.2
             }
            },
            "type": "barpolar"
           }
          ],
          "carpet": [
           {
            "aaxis": {
             "endlinecolor": "#2a3f5f",
             "gridcolor": "white",
             "linecolor": "white",
             "minorgridcolor": "white",
             "startlinecolor": "#2a3f5f"
            },
            "baxis": {
             "endlinecolor": "#2a3f5f",
             "gridcolor": "white",
             "linecolor": "white",
             "minorgridcolor": "white",
             "startlinecolor": "#2a3f5f"
            },
            "type": "carpet"
           }
          ],
          "choropleth": [
           {
            "colorbar": {
             "outlinewidth": 0,
             "ticks": ""
            },
            "type": "choropleth"
           }
          ],
          "contour": [
           {
            "colorbar": {
             "outlinewidth": 0,
             "ticks": ""
            },
            "colorscale": [
             [
              0,
              "#0d0887"
             ],
             [
              0.1111111111111111,
              "#46039f"
             ],
             [
              0.2222222222222222,
              "#7201a8"
             ],
             [
              0.3333333333333333,
              "#9c179e"
             ],
             [
              0.4444444444444444,
              "#bd3786"
             ],
             [
              0.5555555555555556,
              "#d8576b"
             ],
             [
              0.6666666666666666,
              "#ed7953"
             ],
             [
              0.7777777777777778,
              "#fb9f3a"
             ],
             [
              0.8888888888888888,
              "#fdca26"
             ],
             [
              1,
              "#f0f921"
             ]
            ],
            "type": "contour"
           }
          ],
          "contourcarpet": [
           {
            "colorbar": {
             "outlinewidth": 0,
             "ticks": ""
            },
            "type": "contourcarpet"
           }
          ],
          "heatmap": [
           {
            "colorbar": {
             "outlinewidth": 0,
             "ticks": ""
            },
            "colorscale": [
             [
              0,
              "#0d0887"
             ],
             [
              0.1111111111111111,
              "#46039f"
             ],
             [
              0.2222222222222222,
              "#7201a8"
             ],
             [
              0.3333333333333333,
              "#9c179e"
             ],
             [
              0.4444444444444444,
              "#bd3786"
             ],
             [
              0.5555555555555556,
              "#d8576b"
             ],
             [
              0.6666666666666666,
              "#ed7953"
             ],
             [
              0.7777777777777778,
              "#fb9f3a"
             ],
             [
              0.8888888888888888,
              "#fdca26"
             ],
             [
              1,
              "#f0f921"
             ]
            ],
            "type": "heatmap"
           }
          ],
          "heatmapgl": [
           {
            "colorbar": {
             "outlinewidth": 0,
             "ticks": ""
            },
            "colorscale": [
             [
              0,
              "#0d0887"
             ],
             [
              0.1111111111111111,
              "#46039f"
             ],
             [
              0.2222222222222222,
              "#7201a8"
             ],
             [
              0.3333333333333333,
              "#9c179e"
             ],
             [
              0.4444444444444444,
              "#bd3786"
             ],
             [
              0.5555555555555556,
              "#d8576b"
             ],
             [
              0.6666666666666666,
              "#ed7953"
             ],
             [
              0.7777777777777778,
              "#fb9f3a"
             ],
             [
              0.8888888888888888,
              "#fdca26"
             ],
             [
              1,
              "#f0f921"
             ]
            ],
            "type": "heatmapgl"
           }
          ],
          "histogram": [
           {
            "marker": {
             "pattern": {
              "fillmode": "overlay",
              "size": 10,
              "solidity": 0.2
             }
            },
            "type": "histogram"
           }
          ],
          "histogram2d": [
           {
            "colorbar": {
             "outlinewidth": 0,
             "ticks": ""
            },
            "colorscale": [
             [
              0,
              "#0d0887"
             ],
             [
              0.1111111111111111,
              "#46039f"
             ],
             [
              0.2222222222222222,
              "#7201a8"
             ],
             [
              0.3333333333333333,
              "#9c179e"
             ],
             [
              0.4444444444444444,
              "#bd3786"
             ],
             [
              0.5555555555555556,
              "#d8576b"
             ],
             [
              0.6666666666666666,
              "#ed7953"
             ],
             [
              0.7777777777777778,
              "#fb9f3a"
             ],
             [
              0.8888888888888888,
              "#fdca26"
             ],
             [
              1,
              "#f0f921"
             ]
            ],
            "type": "histogram2d"
           }
          ],
          "histogram2dcontour": [
           {
            "colorbar": {
             "outlinewidth": 0,
             "ticks": ""
            },
            "colorscale": [
             [
              0,
              "#0d0887"
             ],
             [
              0.1111111111111111,
              "#46039f"
             ],
             [
              0.2222222222222222,
              "#7201a8"
             ],
             [
              0.3333333333333333,
              "#9c179e"
             ],
             [
              0.4444444444444444,
              "#bd3786"
             ],
             [
              0.5555555555555556,
              "#d8576b"
             ],
             [
              0.6666666666666666,
              "#ed7953"
             ],
             [
              0.7777777777777778,
              "#fb9f3a"
             ],
             [
              0.8888888888888888,
              "#fdca26"
             ],
             [
              1,
              "#f0f921"
             ]
            ],
            "type": "histogram2dcontour"
           }
          ],
          "mesh3d": [
           {
            "colorbar": {
             "outlinewidth": 0,
             "ticks": ""
            },
            "type": "mesh3d"
           }
          ],
          "parcoords": [
           {
            "line": {
             "colorbar": {
              "outlinewidth": 0,
              "ticks": ""
             }
            },
            "type": "parcoords"
           }
          ],
          "pie": [
           {
            "automargin": true,
            "type": "pie"
           }
          ],
          "scatter": [
           {
            "fillpattern": {
             "fillmode": "overlay",
             "size": 10,
             "solidity": 0.2
            },
            "type": "scatter"
           }
          ],
          "scatter3d": [
           {
            "line": {
             "colorbar": {
              "outlinewidth": 0,
              "ticks": ""
             }
            },
            "marker": {
             "colorbar": {
              "outlinewidth": 0,
              "ticks": ""
             }
            },
            "type": "scatter3d"
           }
          ],
          "scattercarpet": [
           {
            "marker": {
             "colorbar": {
              "outlinewidth": 0,
              "ticks": ""
             }
            },
            "type": "scattercarpet"
           }
          ],
          "scattergeo": [
           {
            "marker": {
             "colorbar": {
              "outlinewidth": 0,
              "ticks": ""
             }
            },
            "type": "scattergeo"
           }
          ],
          "scattergl": [
           {
            "marker": {
             "colorbar": {
              "outlinewidth": 0,
              "ticks": ""
             }
            },
            "type": "scattergl"
           }
          ],
          "scattermapbox": [
           {
            "marker": {
             "colorbar": {
              "outlinewidth": 0,
              "ticks": ""
             }
            },
            "type": "scattermapbox"
           }
          ],
          "scatterpolar": [
           {
            "marker": {
             "colorbar": {
              "outlinewidth": 0,
              "ticks": ""
             }
            },
            "type": "scatterpolar"
           }
          ],
          "scatterpolargl": [
           {
            "marker": {
             "colorbar": {
              "outlinewidth": 0,
              "ticks": ""
             }
            },
            "type": "scatterpolargl"
           }
          ],
          "scatterternary": [
           {
            "marker": {
             "colorbar": {
              "outlinewidth": 0,
              "ticks": ""
             }
            },
            "type": "scatterternary"
           }
          ],
          "surface": [
           {
            "colorbar": {
             "outlinewidth": 0,
             "ticks": ""
            },
            "colorscale": [
             [
              0,
              "#0d0887"
             ],
             [
              0.1111111111111111,
              "#46039f"
             ],
             [
              0.2222222222222222,
              "#7201a8"
             ],
             [
              0.3333333333333333,
              "#9c179e"
             ],
             [
              0.4444444444444444,
              "#bd3786"
             ],
             [
              0.5555555555555556,
              "#d8576b"
             ],
             [
              0.6666666666666666,
              "#ed7953"
             ],
             [
              0.7777777777777778,
              "#fb9f3a"
             ],
             [
              0.8888888888888888,
              "#fdca26"
             ],
             [
              1,
              "#f0f921"
             ]
            ],
            "type": "surface"
           }
          ],
          "table": [
           {
            "cells": {
             "fill": {
              "color": "#EBF0F8"
             },
             "line": {
              "color": "white"
             }
            },
            "header": {
             "fill": {
              "color": "#C8D4E3"
             },
             "line": {
              "color": "white"
             }
            },
            "type": "table"
           }
          ]
         },
         "layout": {
          "annotationdefaults": {
           "arrowcolor": "#2a3f5f",
           "arrowhead": 0,
           "arrowwidth": 1
          },
          "autotypenumbers": "strict",
          "coloraxis": {
           "colorbar": {
            "outlinewidth": 0,
            "ticks": ""
           }
          },
          "colorscale": {
           "diverging": [
            [
             0,
             "#8e0152"
            ],
            [
             0.1,
             "#c51b7d"
            ],
            [
             0.2,
             "#de77ae"
            ],
            [
             0.3,
             "#f1b6da"
            ],
            [
             0.4,
             "#fde0ef"
            ],
            [
             0.5,
             "#f7f7f7"
            ],
            [
             0.6,
             "#e6f5d0"
            ],
            [
             0.7,
             "#b8e186"
            ],
            [
             0.8,
             "#7fbc41"
            ],
            [
             0.9,
             "#4d9221"
            ],
            [
             1,
             "#276419"
            ]
           ],
           "sequential": [
            [
             0,
             "#0d0887"
            ],
            [
             0.1111111111111111,
             "#46039f"
            ],
            [
             0.2222222222222222,
             "#7201a8"
            ],
            [
             0.3333333333333333,
             "#9c179e"
            ],
            [
             0.4444444444444444,
             "#bd3786"
            ],
            [
             0.5555555555555556,
             "#d8576b"
            ],
            [
             0.6666666666666666,
             "#ed7953"
            ],
            [
             0.7777777777777778,
             "#fb9f3a"
            ],
            [
             0.8888888888888888,
             "#fdca26"
            ],
            [
             1,
             "#f0f921"
            ]
           ],
           "sequentialminus": [
            [
             0,
             "#0d0887"
            ],
            [
             0.1111111111111111,
             "#46039f"
            ],
            [
             0.2222222222222222,
             "#7201a8"
            ],
            [
             0.3333333333333333,
             "#9c179e"
            ],
            [
             0.4444444444444444,
             "#bd3786"
            ],
            [
             0.5555555555555556,
             "#d8576b"
            ],
            [
             0.6666666666666666,
             "#ed7953"
            ],
            [
             0.7777777777777778,
             "#fb9f3a"
            ],
            [
             0.8888888888888888,
             "#fdca26"
            ],
            [
             1,
             "#f0f921"
            ]
           ]
          },
          "colorway": [
           "#636efa",
           "#EF553B",
           "#00cc96",
           "#ab63fa",
           "#FFA15A",
           "#19d3f3",
           "#FF6692",
           "#B6E880",
           "#FF97FF",
           "#FECB52"
          ],
          "font": {
           "color": "#2a3f5f"
          },
          "geo": {
           "bgcolor": "white",
           "lakecolor": "white",
           "landcolor": "#E5ECF6",
           "showlakes": true,
           "showland": true,
           "subunitcolor": "white"
          },
          "hoverlabel": {
           "align": "left"
          },
          "hovermode": "closest",
          "mapbox": {
           "style": "light"
          },
          "paper_bgcolor": "white",
          "plot_bgcolor": "#E5ECF6",
          "polar": {
           "angularaxis": {
            "gridcolor": "white",
            "linecolor": "white",
            "ticks": ""
           },
           "bgcolor": "#E5ECF6",
           "radialaxis": {
            "gridcolor": "white",
            "linecolor": "white",
            "ticks": ""
           }
          },
          "scene": {
           "xaxis": {
            "backgroundcolor": "#E5ECF6",
            "gridcolor": "white",
            "gridwidth": 2,
            "linecolor": "white",
            "showbackground": true,
            "ticks": "",
            "zerolinecolor": "white"
           },
           "yaxis": {
            "backgroundcolor": "#E5ECF6",
            "gridcolor": "white",
            "gridwidth": 2,
            "linecolor": "white",
            "showbackground": true,
            "ticks": "",
            "zerolinecolor": "white"
           },
           "zaxis": {
            "backgroundcolor": "#E5ECF6",
            "gridcolor": "white",
            "gridwidth": 2,
            "linecolor": "white",
            "showbackground": true,
            "ticks": "",
            "zerolinecolor": "white"
           }
          },
          "shapedefaults": {
           "line": {
            "color": "#2a3f5f"
           }
          },
          "ternary": {
           "aaxis": {
            "gridcolor": "white",
            "linecolor": "white",
            "ticks": ""
           },
           "baxis": {
            "gridcolor": "white",
            "linecolor": "white",
            "ticks": ""
           },
           "bgcolor": "#E5ECF6",
           "caxis": {
            "gridcolor": "white",
            "linecolor": "white",
            "ticks": ""
           }
          },
          "title": {
           "x": 0.05
          },
          "xaxis": {
           "automargin": true,
           "gridcolor": "white",
           "linecolor": "white",
           "ticks": "",
           "title": {
            "standoff": 15
           },
           "zerolinecolor": "white",
           "zerolinewidth": 2
          },
          "yaxis": {
           "automargin": true,
           "gridcolor": "white",
           "linecolor": "white",
           "ticks": "",
           "title": {
            "standoff": 15
           },
           "zerolinecolor": "white",
           "zerolinewidth": 2
          }
         }
        },
        "title": {
         "text": "Interest Rates"
        },
        "xaxis": {
         "anchor": "y",
         "domain": [
          0,
          1
         ],
         "title": {
          "text": "maturity"
         }
        },
        "yaxis": {
         "anchor": "x",
         "domain": [
          0,
          1
         ],
         "tickformat": ".2%",
         "title": {
          "text": "value"
         }
        }
       }
      }
     },
     "metadata": {},
     "output_type": "display_data"
    }
   ],
   "source": [
    "int_rates = discount_to_int_rate(discount=z, time_to_maturity=time_to_maturity, n_compound=2)\n",
    "\n",
    "fig = px.line(\n",
    "    int_rates, \n",
    "    labels={\"x\": \"Time to Maturity\", \"y\": \"Interest Rates\"}, \n",
    "    title=\"Interest Rates\"\n",
    ")\n",
    "fig.update_layout(\n",
    "    showlegend=False,\n",
    "    yaxis_tickformat=\".2%\",\n",
    ")\n",
    "fig.show()"
   ]
  },
  {
   "cell_type": "markdown",
   "id": "5bc6a2cd",
   "metadata": {},
   "source": [
    "### 1.4.\n",
    "\n",
    "Suppose that all discount rates and all coupon rates go up by 0.5\\%. \n",
    "\n",
    "Calculate the new price of each of the treasury securities, using present value pricing."
   ]
  },
  {
   "cell_type": "code",
   "execution_count": 9,
   "id": "246c51e9",
   "metadata": {},
   "outputs": [
    {
     "data": {
      "text/html": [
       "<div>\n",
       "<style scoped>\n",
       "    .dataframe tbody tr th:only-of-type {\n",
       "        vertical-align: middle;\n",
       "    }\n",
       "\n",
       "    .dataframe tbody tr th {\n",
       "        vertical-align: top;\n",
       "    }\n",
       "\n",
       "    .dataframe thead th {\n",
       "        text-align: right;\n",
       "    }\n",
       "</style>\n",
       "<table border=\"1\" class=\"dataframe\">\n",
       "  <thead>\n",
       "    <tr style=\"text-align: right;\">\n",
       "      <th></th>\n",
       "      <th>KYTREASNO</th>\n",
       "      <th>quote date</th>\n",
       "      <th>maturity date</th>\n",
       "      <th>time_to_maturity</th>\n",
       "      <th>cpn rate</th>\n",
       "      <th>price</th>\n",
       "      <th>new_price</th>\n",
       "      <th>price_diff</th>\n",
       "    </tr>\n",
       "  </thead>\n",
       "  <tbody>\n",
       "    <tr>\n",
       "      <th>0</th>\n",
       "      <td>208042</td>\n",
       "      <td>2024-10-31</td>\n",
       "      <td>2025-04-30</td>\n",
       "      <td>0.5000</td>\n",
       "      <td>3.8750</td>\n",
       "      <td>99.7174</td>\n",
       "      <td>99.9620</td>\n",
       "      <td>0.0025</td>\n",
       "    </tr>\n",
       "    <tr>\n",
       "      <th>1</th>\n",
       "      <td>208129</td>\n",
       "      <td>2024-10-31</td>\n",
       "      <td>2025-10-31</td>\n",
       "      <td>1.0000</td>\n",
       "      <td>5.0000</td>\n",
       "      <td>100.6511</td>\n",
       "      <td>101.1309</td>\n",
       "      <td>0.0048</td>\n",
       "    </tr>\n",
       "    <tr>\n",
       "      <th>2</th>\n",
       "      <td>208213</td>\n",
       "      <td>2024-10-31</td>\n",
       "      <td>2026-04-30</td>\n",
       "      <td>1.5000</td>\n",
       "      <td>4.8750</td>\n",
       "      <td>100.9453</td>\n",
       "      <td>101.6556</td>\n",
       "      <td>0.0070</td>\n",
       "    </tr>\n",
       "    <tr>\n",
       "      <th>3</th>\n",
       "      <td>208302</td>\n",
       "      <td>2024-10-31</td>\n",
       "      <td>2026-10-31</td>\n",
       "      <td>2.0000</td>\n",
       "      <td>4.1250</td>\n",
       "      <td>99.9375</td>\n",
       "      <td>100.8804</td>\n",
       "      <td>0.0094</td>\n",
       "    </tr>\n",
       "    <tr>\n",
       "      <th>4</th>\n",
       "      <td>207875</td>\n",
       "      <td>2024-10-31</td>\n",
       "      <td>2027-04-30</td>\n",
       "      <td>2.5000</td>\n",
       "      <td>2.7500</td>\n",
       "      <td>96.7656</td>\n",
       "      <td>97.9541</td>\n",
       "      <td>0.0123</td>\n",
       "    </tr>\n",
       "    <tr>\n",
       "      <th>5</th>\n",
       "      <td>207960</td>\n",
       "      <td>2024-10-31</td>\n",
       "      <td>2027-10-31</td>\n",
       "      <td>3.0000</td>\n",
       "      <td>4.1250</td>\n",
       "      <td>100.0039</td>\n",
       "      <td>101.3870</td>\n",
       "      <td>0.0138</td>\n",
       "    </tr>\n",
       "    <tr>\n",
       "      <th>6</th>\n",
       "      <td>208044</td>\n",
       "      <td>2024-10-31</td>\n",
       "      <td>2028-04-30</td>\n",
       "      <td>3.5000</td>\n",
       "      <td>3.5000</td>\n",
       "      <td>97.9219</td>\n",
       "      <td>99.5382</td>\n",
       "      <td>0.0165</td>\n",
       "    </tr>\n",
       "    <tr>\n",
       "      <th>7</th>\n",
       "      <td>208132</td>\n",
       "      <td>2024-10-31</td>\n",
       "      <td>2028-10-31</td>\n",
       "      <td>4.0000</td>\n",
       "      <td>4.8750</td>\n",
       "      <td>102.6035</td>\n",
       "      <td>104.3807</td>\n",
       "      <td>0.0173</td>\n",
       "    </tr>\n",
       "    <tr>\n",
       "      <th>8</th>\n",
       "      <td>208216</td>\n",
       "      <td>2024-10-31</td>\n",
       "      <td>2029-04-30</td>\n",
       "      <td>4.5000</td>\n",
       "      <td>4.6250</td>\n",
       "      <td>101.9121</td>\n",
       "      <td>103.8975</td>\n",
       "      <td>0.0195</td>\n",
       "    </tr>\n",
       "    <tr>\n",
       "      <th>9</th>\n",
       "      <td>208305</td>\n",
       "      <td>2024-10-31</td>\n",
       "      <td>2029-10-31</td>\n",
       "      <td>5.0000</td>\n",
       "      <td>4.1250</td>\n",
       "      <td>99.8945</td>\n",
       "      <td>102.1022</td>\n",
       "      <td>0.0221</td>\n",
       "    </tr>\n",
       "    <tr>\n",
       "      <th>10</th>\n",
       "      <td>208046</td>\n",
       "      <td>2024-10-31</td>\n",
       "      <td>2030-04-30</td>\n",
       "      <td>5.5000</td>\n",
       "      <td>3.5000</td>\n",
       "      <td>96.6797</td>\n",
       "      <td>99.1285</td>\n",
       "      <td>0.0253</td>\n",
       "    </tr>\n",
       "    <tr>\n",
       "      <th>11</th>\n",
       "      <td>208133</td>\n",
       "      <td>2024-10-31</td>\n",
       "      <td>2030-10-31</td>\n",
       "      <td>6.0000</td>\n",
       "      <td>4.8750</td>\n",
       "      <td>103.5449</td>\n",
       "      <td>106.0839</td>\n",
       "      <td>0.0245</td>\n",
       "    </tr>\n",
       "    <tr>\n",
       "      <th>12</th>\n",
       "      <td>208217</td>\n",
       "      <td>2024-10-31</td>\n",
       "      <td>2031-04-30</td>\n",
       "      <td>6.5000</td>\n",
       "      <td>4.6250</td>\n",
       "      <td>102.2852</td>\n",
       "      <td>105.0268</td>\n",
       "      <td>0.0268</td>\n",
       "    </tr>\n",
       "    <tr>\n",
       "      <th>13</th>\n",
       "      <td>208306</td>\n",
       "      <td>2024-10-31</td>\n",
       "      <td>2031-10-31</td>\n",
       "      <td>7.0000</td>\n",
       "      <td>4.1250</td>\n",
       "      <td>99.4453</td>\n",
       "      <td>102.4138</td>\n",
       "      <td>0.0299</td>\n",
       "    </tr>\n",
       "  </tbody>\n",
       "</table>\n",
       "</div>"
      ],
      "text/plain": [
       "    KYTREASNO quote date maturity date  time_to_maturity  cpn rate    price  \\\n",
       "0      208042 2024-10-31    2025-04-30            0.5000    3.8750  99.7174   \n",
       "1      208129 2024-10-31    2025-10-31            1.0000    5.0000 100.6511   \n",
       "2      208213 2024-10-31    2026-04-30            1.5000    4.8750 100.9453   \n",
       "3      208302 2024-10-31    2026-10-31            2.0000    4.1250  99.9375   \n",
       "4      207875 2024-10-31    2027-04-30            2.5000    2.7500  96.7656   \n",
       "5      207960 2024-10-31    2027-10-31            3.0000    4.1250 100.0039   \n",
       "6      208044 2024-10-31    2028-04-30            3.5000    3.5000  97.9219   \n",
       "7      208132 2024-10-31    2028-10-31            4.0000    4.8750 102.6035   \n",
       "8      208216 2024-10-31    2029-04-30            4.5000    4.6250 101.9121   \n",
       "9      208305 2024-10-31    2029-10-31            5.0000    4.1250  99.8945   \n",
       "10     208046 2024-10-31    2030-04-30            5.5000    3.5000  96.6797   \n",
       "11     208133 2024-10-31    2030-10-31            6.0000    4.8750 103.5449   \n",
       "12     208217 2024-10-31    2031-04-30            6.5000    4.6250 102.2852   \n",
       "13     208306 2024-10-31    2031-10-31            7.0000    4.1250  99.4453   \n",
       "\n",
       "    new_price  price_diff  \n",
       "0     99.9620      0.0025  \n",
       "1    101.1309      0.0048  \n",
       "2    101.6556      0.0070  \n",
       "3    100.8804      0.0094  \n",
       "4     97.9541      0.0123  \n",
       "5    101.3870      0.0138  \n",
       "6     99.5382      0.0165  \n",
       "7    104.3807      0.0173  \n",
       "8    103.8975      0.0195  \n",
       "9    102.1022      0.0221  \n",
       "10    99.1285      0.0253  \n",
       "11   106.0839      0.0245  \n",
       "12   105.0268      0.0268  \n",
       "13   102.4138      0.0299  "
      ]
     },
     "metadata": {},
     "output_type": "display_data"
    }
   ],
   "source": [
    "int_rates_up = (int_rates + 0.005).to_numpy().flatten()\n",
    "z_up = (int_rate_to_discount(interest_rate=int_rates_up, time_to_maturity=time_to_maturity, n_compound=2)).to_numpy()\n",
    "cf_up = (cf.where(cf == 0, cf + 0.5)).to_numpy()\n",
    "\n",
    "treasuries_df['new_price'] = np.dot(cf_up, z_up).flatten()\n",
    "treasuries_df['price_diff'] = (treasuries_df['new_price'] - treasuries_df['price']) / treasuries_df['price']\n",
    "treasuries_df['time_to_maturity'] = time_to_maturity\n",
    "display(treasuries_df[['KYTREASNO', 'quote date', 'maturity date', 'time_to_maturity', 'cpn rate', 'price', 'new_price', 'price_diff']])"
   ]
  },
  {
   "cell_type": "markdown",
   "id": "fd2fdc93",
   "metadata": {},
   "source": [
    "***"
   ]
  },
  {
   "cell_type": "markdown",
   "id": "b68bef36",
   "metadata": {},
   "source": [
    "# 2. Estimating the Discount Curve with Real Data\n",
    "\n",
    "Use the data in the `quotes` tab."
   ]
  },
  {
   "cell_type": "markdown",
   "id": "cccda275",
   "metadata": {},
   "source": [
    "### 2.1. Map Cashflows\n",
    "\n",
    "Construct the cashflow matrix.\n",
    "\n",
    "Given the unfiltered data set, you will need to make a few modeling choices to do this...\n",
    "* eliminate any treasury that does not report YTM or that reports a negative YTM.\n",
    "* assume notes and bonds pay coupons every six months, going backward from the date of maturity.\n",
    "\n",
    "Make other reasonable modeling assumptions as needed.\n",
    "\n",
    "Report:\n",
    "* head and tail rows of the dataframe, $\\textbf{C}$, for instance, using `display()`.\n",
    "\n",
    "* which date has the most cashflow across all issues?\n",
    "\n",
    "* which date has the most issues paying a cashflow?"
   ]
  },
  {
   "cell_type": "code",
   "execution_count": 10,
   "metadata": {},
   "outputs": [
    {
     "data": {
      "text/html": [
       "<div>\n",
       "<style scoped>\n",
       "    .dataframe tbody tr th:only-of-type {\n",
       "        vertical-align: middle;\n",
       "    }\n",
       "\n",
       "    .dataframe tbody tr th {\n",
       "        vertical-align: top;\n",
       "    }\n",
       "\n",
       "    .dataframe thead th {\n",
       "        text-align: right;\n",
       "    }\n",
       "</style>\n",
       "<table border=\"1\" class=\"dataframe\">\n",
       "  <thead>\n",
       "    <tr style=\"text-align: right;\">\n",
       "      <th></th>\n",
       "      <th>KYTREASNO</th>\n",
       "      <th>type</th>\n",
       "      <th>quote date</th>\n",
       "      <th>issue date</th>\n",
       "      <th>maturity date</th>\n",
       "      <th>ttm</th>\n",
       "      <th>accrual fraction</th>\n",
       "      <th>cpn rate</th>\n",
       "      <th>bid</th>\n",
       "      <th>ask</th>\n",
       "      <th>price</th>\n",
       "      <th>accrued int</th>\n",
       "      <th>dirty price</th>\n",
       "      <th>ytm</th>\n",
       "    </tr>\n",
       "  </thead>\n",
       "  <tbody>\n",
       "    <tr>\n",
       "      <th>0</th>\n",
       "      <td>208246</td>\n",
       "      <td>bill</td>\n",
       "      <td>2024-10-31</td>\n",
       "      <td>2024-07-09</td>\n",
       "      <td>2024-11-05</td>\n",
       "      <td>0.0137</td>\n",
       "      <td>0.9726</td>\n",
       "      <td>0.0000</td>\n",
       "      <td>99.9478</td>\n",
       "      <td>99.9479</td>\n",
       "      <td>99.9479</td>\n",
       "      <td>0.0000</td>\n",
       "      <td>99.9479</td>\n",
       "      <td>0.0385</td>\n",
       "    </tr>\n",
       "    <tr>\n",
       "      <th>1</th>\n",
       "      <td>208222</td>\n",
       "      <td>bill</td>\n",
       "      <td>2024-10-31</td>\n",
       "      <td>2024-05-09</td>\n",
       "      <td>2024-11-07</td>\n",
       "      <td>0.0192</td>\n",
       "      <td>0.9617</td>\n",
       "      <td>0.0000</td>\n",
       "      <td>99.9224</td>\n",
       "      <td>99.9225</td>\n",
       "      <td>99.9224</td>\n",
       "      <td>0.0000</td>\n",
       "      <td>99.9224</td>\n",
       "      <td>0.0409</td>\n",
       "    </tr>\n",
       "    <tr>\n",
       "      <th>2</th>\n",
       "      <td>208247</td>\n",
       "      <td>bill</td>\n",
       "      <td>2024-10-31</td>\n",
       "      <td>2024-07-16</td>\n",
       "      <td>2024-11-12</td>\n",
       "      <td>0.0329</td>\n",
       "      <td>0.9343</td>\n",
       "      <td>0.0000</td>\n",
       "      <td>99.8575</td>\n",
       "      <td>99.8578</td>\n",
       "      <td>99.8576</td>\n",
       "      <td>0.0000</td>\n",
       "      <td>99.8576</td>\n",
       "      <td>0.0438</td>\n",
       "    </tr>\n",
       "    <tr>\n",
       "      <th>3</th>\n",
       "      <td>208223</td>\n",
       "      <td>bill</td>\n",
       "      <td>2024-10-31</td>\n",
       "      <td>2024-05-16</td>\n",
       "      <td>2024-11-14</td>\n",
       "      <td>0.0383</td>\n",
       "      <td>0.9233</td>\n",
       "      <td>0.0000</td>\n",
       "      <td>99.8326</td>\n",
       "      <td>99.8329</td>\n",
       "      <td>99.8328</td>\n",
       "      <td>0.0000</td>\n",
       "      <td>99.8328</td>\n",
       "      <td>0.0442</td>\n",
       "    </tr>\n",
       "    <tr>\n",
       "      <th>4</th>\n",
       "      <td>204083</td>\n",
       "      <td>bond</td>\n",
       "      <td>2024-10-31</td>\n",
       "      <td>1994-05-15</td>\n",
       "      <td>2024-11-15</td>\n",
       "      <td>0.0411</td>\n",
       "      <td>0.9185</td>\n",
       "      <td>7.5000</td>\n",
       "      <td>100.1140</td>\n",
       "      <td>100.1144</td>\n",
       "      <td>100.1142</td>\n",
       "      <td>3.4443</td>\n",
       "      <td>103.5585</td>\n",
       "      <td>0.0455</td>\n",
       "    </tr>\n",
       "  </tbody>\n",
       "</table>\n",
       "</div>"
      ],
      "text/plain": [
       "   KYTREASNO  type quote date issue date maturity date    ttm  \\\n",
       "0     208246  bill 2024-10-31 2024-07-09    2024-11-05 0.0137   \n",
       "1     208222  bill 2024-10-31 2024-05-09    2024-11-07 0.0192   \n",
       "2     208247  bill 2024-10-31 2024-07-16    2024-11-12 0.0329   \n",
       "3     208223  bill 2024-10-31 2024-05-16    2024-11-14 0.0383   \n",
       "4     204083  bond 2024-10-31 1994-05-15    2024-11-15 0.0411   \n",
       "\n",
       "   accrual fraction  cpn rate      bid      ask    price  accrued int  \\\n",
       "0            0.9726    0.0000  99.9478  99.9479  99.9479       0.0000   \n",
       "1            0.9617    0.0000  99.9224  99.9225  99.9224       0.0000   \n",
       "2            0.9343    0.0000  99.8575  99.8578  99.8576       0.0000   \n",
       "3            0.9233    0.0000  99.8326  99.8329  99.8328       0.0000   \n",
       "4            0.9185    7.5000 100.1140 100.1144 100.1142       3.4443   \n",
       "\n",
       "   dirty price    ytm  \n",
       "0      99.9479 0.0385  \n",
       "1      99.9224 0.0409  \n",
       "2      99.8576 0.0438  \n",
       "3      99.8328 0.0442  \n",
       "4     103.5585 0.0455  "
      ]
     },
     "metadata": {},
     "output_type": "display_data"
    },
    {
     "data": {
      "text/html": [
       "<div>\n",
       "<style scoped>\n",
       "    .dataframe tbody tr th:only-of-type {\n",
       "        vertical-align: middle;\n",
       "    }\n",
       "\n",
       "    .dataframe tbody tr th {\n",
       "        vertical-align: top;\n",
       "    }\n",
       "\n",
       "    .dataframe thead th {\n",
       "        text-align: right;\n",
       "    }\n",
       "</style>\n",
       "<table border=\"1\" class=\"dataframe\">\n",
       "  <thead>\n",
       "    <tr style=\"text-align: right;\">\n",
       "      <th></th>\n",
       "      <th>KYTREASNO</th>\n",
       "      <th>type</th>\n",
       "      <th>quote date</th>\n",
       "      <th>issue date</th>\n",
       "      <th>maturity date</th>\n",
       "      <th>ttm</th>\n",
       "      <th>accrual fraction</th>\n",
       "      <th>cpn rate</th>\n",
       "      <th>bid</th>\n",
       "      <th>ask</th>\n",
       "      <th>price</th>\n",
       "      <th>accrued int</th>\n",
       "      <th>dirty price</th>\n",
       "      <th>ytm</th>\n",
       "    </tr>\n",
       "  </thead>\n",
       "  <tbody>\n",
       "    <tr>\n",
       "      <th>442</th>\n",
       "      <td>208107</td>\n",
       "      <td>bond</td>\n",
       "      <td>2024-10-31</td>\n",
       "      <td>2023-08-15</td>\n",
       "      <td>2053-08-15</td>\n",
       "      <td>28.7885</td>\n",
       "      <td>0.4185</td>\n",
       "      <td>4.1250</td>\n",
       "      <td>93.9688</td>\n",
       "      <td>94.0195</td>\n",
       "      <td>93.9941</td>\n",
       "      <td>0.8631</td>\n",
       "      <td>94.8573</td>\n",
       "      <td>0.0450</td>\n",
       "    </tr>\n",
       "    <tr>\n",
       "      <th>443</th>\n",
       "      <td>208149</td>\n",
       "      <td>bond</td>\n",
       "      <td>2024-10-31</td>\n",
       "      <td>2023-11-15</td>\n",
       "      <td>2053-11-15</td>\n",
       "      <td>29.0404</td>\n",
       "      <td>0.9185</td>\n",
       "      <td>4.7500</td>\n",
       "      <td>104.2812</td>\n",
       "      <td>104.3359</td>\n",
       "      <td>104.3086</td>\n",
       "      <td>2.1814</td>\n",
       "      <td>106.4900</td>\n",
       "      <td>0.0448</td>\n",
       "    </tr>\n",
       "    <tr>\n",
       "      <th>445</th>\n",
       "      <td>208178</td>\n",
       "      <td>bond</td>\n",
       "      <td>2024-10-31</td>\n",
       "      <td>2024-02-15</td>\n",
       "      <td>2054-02-15</td>\n",
       "      <td>29.2923</td>\n",
       "      <td>0.4185</td>\n",
       "      <td>4.2500</td>\n",
       "      <td>96.1250</td>\n",
       "      <td>96.1719</td>\n",
       "      <td>96.1484</td>\n",
       "      <td>0.8893</td>\n",
       "      <td>97.0377</td>\n",
       "      <td>0.0449</td>\n",
       "    </tr>\n",
       "    <tr>\n",
       "      <th>446</th>\n",
       "      <td>208233</td>\n",
       "      <td>bond</td>\n",
       "      <td>2024-10-31</td>\n",
       "      <td>2024-05-15</td>\n",
       "      <td>2054-05-15</td>\n",
       "      <td>29.5359</td>\n",
       "      <td>0.9185</td>\n",
       "      <td>4.6250</td>\n",
       "      <td>102.3281</td>\n",
       "      <td>102.3906</td>\n",
       "      <td>102.3594</td>\n",
       "      <td>2.1240</td>\n",
       "      <td>104.4834</td>\n",
       "      <td>0.0448</td>\n",
       "    </tr>\n",
       "    <tr>\n",
       "      <th>447</th>\n",
       "      <td>208279</td>\n",
       "      <td>bond</td>\n",
       "      <td>2024-10-31</td>\n",
       "      <td>2024-08-15</td>\n",
       "      <td>2054-08-15</td>\n",
       "      <td>29.7878</td>\n",
       "      <td>0.4185</td>\n",
       "      <td>4.2500</td>\n",
       "      <td>96.2188</td>\n",
       "      <td>96.2500</td>\n",
       "      <td>96.2344</td>\n",
       "      <td>0.8893</td>\n",
       "      <td>97.1236</td>\n",
       "      <td>0.0448</td>\n",
       "    </tr>\n",
       "  </tbody>\n",
       "</table>\n",
       "</div>"
      ],
      "text/plain": [
       "     KYTREASNO  type quote date issue date maturity date     ttm  \\\n",
       "442     208107  bond 2024-10-31 2023-08-15    2053-08-15 28.7885   \n",
       "443     208149  bond 2024-10-31 2023-11-15    2053-11-15 29.0404   \n",
       "445     208178  bond 2024-10-31 2024-02-15    2054-02-15 29.2923   \n",
       "446     208233  bond 2024-10-31 2024-05-15    2054-05-15 29.5359   \n",
       "447     208279  bond 2024-10-31 2024-08-15    2054-08-15 29.7878   \n",
       "\n",
       "     accrual fraction  cpn rate      bid      ask    price  accrued int  \\\n",
       "442            0.4185    4.1250  93.9688  94.0195  93.9941       0.8631   \n",
       "443            0.9185    4.7500 104.2812 104.3359 104.3086       2.1814   \n",
       "445            0.4185    4.2500  96.1250  96.1719  96.1484       0.8893   \n",
       "446            0.9185    4.6250 102.3281 102.3906 102.3594       2.1240   \n",
       "447            0.4185    4.2500  96.2188  96.2500  96.2344       0.8893   \n",
       "\n",
       "     dirty price    ytm  \n",
       "442      94.8573 0.0450  \n",
       "443     106.4900 0.0448  \n",
       "445      97.0377 0.0449  \n",
       "446     104.4834 0.0448  \n",
       "447      97.1236 0.0448  "
      ]
     },
     "metadata": {},
     "output_type": "display_data"
    }
   ],
   "source": [
    "# Extract data:\n",
    "RESTRICT_YLD = True\n",
    "RESTRICT_TIPS = True\n",
    "\n",
    "treasuries_all = pd.read_excel(FILE_PATH, sheet_name='quotes')\n",
    "treasuries_restr = filter_treasuries(treasuries_all, date_curr=t_curr_date, filter_tips=RESTRICT_TIPS, filter_yld=RESTRICT_YLD)\n",
    "\n",
    "display(treasuries_restr.head())\n",
    "display(treasuries_restr.tail())"
   ]
  },
  {
   "cell_type": "code",
   "execution_count": 11,
   "id": "425d2016",
   "metadata": {},
   "outputs": [
    {
     "data": {
      "text/html": [
       "<div>\n",
       "<style scoped>\n",
       "    .dataframe tbody tr th:only-of-type {\n",
       "        vertical-align: middle;\n",
       "    }\n",
       "\n",
       "    .dataframe tbody tr th {\n",
       "        vertical-align: top;\n",
       "    }\n",
       "\n",
       "    .dataframe thead th {\n",
       "        text-align: right;\n",
       "    }\n",
       "</style>\n",
       "<table border=\"1\" class=\"dataframe\">\n",
       "  <thead>\n",
       "    <tr style=\"text-align: right;\">\n",
       "      <th></th>\n",
       "      <th>2024-11-05</th>\n",
       "      <th>2024-11-07</th>\n",
       "      <th>2024-11-12</th>\n",
       "      <th>2024-11-14</th>\n",
       "      <th>2024-11-15</th>\n",
       "      <th>2024-11-19</th>\n",
       "      <th>2024-11-21</th>\n",
       "      <th>2024-11-26</th>\n",
       "      <th>2024-11-29</th>\n",
       "      <th>2024-11-30</th>\n",
       "      <th>2024-12-03</th>\n",
       "      <th>2024-12-05</th>\n",
       "      <th>2024-12-10</th>\n",
       "      <th>2024-12-12</th>\n",
       "      <th>2024-12-15</th>\n",
       "      <th>...</th>\n",
       "      <th>2051-02-15</th>\n",
       "      <th>2051-05-15</th>\n",
       "      <th>2051-08-15</th>\n",
       "      <th>2051-11-15</th>\n",
       "      <th>2052-02-15</th>\n",
       "      <th>2052-05-15</th>\n",
       "      <th>2052-08-15</th>\n",
       "      <th>2052-11-15</th>\n",
       "      <th>2053-02-15</th>\n",
       "      <th>2053-05-15</th>\n",
       "      <th>2053-08-15</th>\n",
       "      <th>2053-11-15</th>\n",
       "      <th>2054-02-15</th>\n",
       "      <th>2054-05-15</th>\n",
       "      <th>2054-08-15</th>\n",
       "    </tr>\n",
       "  </thead>\n",
       "  <tbody>\n",
       "    <tr>\n",
       "      <th>0</th>\n",
       "      <td>100</td>\n",
       "      <td>0</td>\n",
       "      <td>0</td>\n",
       "      <td>0</td>\n",
       "      <td>0.0000</td>\n",
       "      <td>0</td>\n",
       "      <td>0</td>\n",
       "      <td>0</td>\n",
       "      <td>0</td>\n",
       "      <td>0.0000</td>\n",
       "      <td>0</td>\n",
       "      <td>0</td>\n",
       "      <td>0</td>\n",
       "      <td>0</td>\n",
       "      <td>0.0000</td>\n",
       "      <td>...</td>\n",
       "      <td>0.0000</td>\n",
       "      <td>0.0000</td>\n",
       "      <td>0.0000</td>\n",
       "      <td>0.0000</td>\n",
       "      <td>0.0000</td>\n",
       "      <td>0.0000</td>\n",
       "      <td>0.0000</td>\n",
       "      <td>0.0000</td>\n",
       "      <td>0.0000</td>\n",
       "      <td>0.0000</td>\n",
       "      <td>0.0000</td>\n",
       "      <td>0.0000</td>\n",
       "      <td>0.0000</td>\n",
       "      <td>0.0000</td>\n",
       "      <td>0.0000</td>\n",
       "    </tr>\n",
       "    <tr>\n",
       "      <th>1</th>\n",
       "      <td>0</td>\n",
       "      <td>100</td>\n",
       "      <td>0</td>\n",
       "      <td>0</td>\n",
       "      <td>0.0000</td>\n",
       "      <td>0</td>\n",
       "      <td>0</td>\n",
       "      <td>0</td>\n",
       "      <td>0</td>\n",
       "      <td>0.0000</td>\n",
       "      <td>0</td>\n",
       "      <td>0</td>\n",
       "      <td>0</td>\n",
       "      <td>0</td>\n",
       "      <td>0.0000</td>\n",
       "      <td>...</td>\n",
       "      <td>0.0000</td>\n",
       "      <td>0.0000</td>\n",
       "      <td>0.0000</td>\n",
       "      <td>0.0000</td>\n",
       "      <td>0.0000</td>\n",
       "      <td>0.0000</td>\n",
       "      <td>0.0000</td>\n",
       "      <td>0.0000</td>\n",
       "      <td>0.0000</td>\n",
       "      <td>0.0000</td>\n",
       "      <td>0.0000</td>\n",
       "      <td>0.0000</td>\n",
       "      <td>0.0000</td>\n",
       "      <td>0.0000</td>\n",
       "      <td>0.0000</td>\n",
       "    </tr>\n",
       "    <tr>\n",
       "      <th>2</th>\n",
       "      <td>0</td>\n",
       "      <td>0</td>\n",
       "      <td>100</td>\n",
       "      <td>0</td>\n",
       "      <td>0.0000</td>\n",
       "      <td>0</td>\n",
       "      <td>0</td>\n",
       "      <td>0</td>\n",
       "      <td>0</td>\n",
       "      <td>0.0000</td>\n",
       "      <td>0</td>\n",
       "      <td>0</td>\n",
       "      <td>0</td>\n",
       "      <td>0</td>\n",
       "      <td>0.0000</td>\n",
       "      <td>...</td>\n",
       "      <td>0.0000</td>\n",
       "      <td>0.0000</td>\n",
       "      <td>0.0000</td>\n",
       "      <td>0.0000</td>\n",
       "      <td>0.0000</td>\n",
       "      <td>0.0000</td>\n",
       "      <td>0.0000</td>\n",
       "      <td>0.0000</td>\n",
       "      <td>0.0000</td>\n",
       "      <td>0.0000</td>\n",
       "      <td>0.0000</td>\n",
       "      <td>0.0000</td>\n",
       "      <td>0.0000</td>\n",
       "      <td>0.0000</td>\n",
       "      <td>0.0000</td>\n",
       "    </tr>\n",
       "    <tr>\n",
       "      <th>3</th>\n",
       "      <td>0</td>\n",
       "      <td>0</td>\n",
       "      <td>0</td>\n",
       "      <td>100</td>\n",
       "      <td>0.0000</td>\n",
       "      <td>0</td>\n",
       "      <td>0</td>\n",
       "      <td>0</td>\n",
       "      <td>0</td>\n",
       "      <td>0.0000</td>\n",
       "      <td>0</td>\n",
       "      <td>0</td>\n",
       "      <td>0</td>\n",
       "      <td>0</td>\n",
       "      <td>0.0000</td>\n",
       "      <td>...</td>\n",
       "      <td>0.0000</td>\n",
       "      <td>0.0000</td>\n",
       "      <td>0.0000</td>\n",
       "      <td>0.0000</td>\n",
       "      <td>0.0000</td>\n",
       "      <td>0.0000</td>\n",
       "      <td>0.0000</td>\n",
       "      <td>0.0000</td>\n",
       "      <td>0.0000</td>\n",
       "      <td>0.0000</td>\n",
       "      <td>0.0000</td>\n",
       "      <td>0.0000</td>\n",
       "      <td>0.0000</td>\n",
       "      <td>0.0000</td>\n",
       "      <td>0.0000</td>\n",
       "    </tr>\n",
       "    <tr>\n",
       "      <th>4</th>\n",
       "      <td>0</td>\n",
       "      <td>0</td>\n",
       "      <td>0</td>\n",
       "      <td>0</td>\n",
       "      <td>103.7500</td>\n",
       "      <td>0</td>\n",
       "      <td>0</td>\n",
       "      <td>0</td>\n",
       "      <td>0</td>\n",
       "      <td>0.0000</td>\n",
       "      <td>0</td>\n",
       "      <td>0</td>\n",
       "      <td>0</td>\n",
       "      <td>0</td>\n",
       "      <td>0.0000</td>\n",
       "      <td>...</td>\n",
       "      <td>0.0000</td>\n",
       "      <td>0.0000</td>\n",
       "      <td>0.0000</td>\n",
       "      <td>0.0000</td>\n",
       "      <td>0.0000</td>\n",
       "      <td>0.0000</td>\n",
       "      <td>0.0000</td>\n",
       "      <td>0.0000</td>\n",
       "      <td>0.0000</td>\n",
       "      <td>0.0000</td>\n",
       "      <td>0.0000</td>\n",
       "      <td>0.0000</td>\n",
       "      <td>0.0000</td>\n",
       "      <td>0.0000</td>\n",
       "      <td>0.0000</td>\n",
       "    </tr>\n",
       "  </tbody>\n",
       "</table>\n",
       "<p>5 rows × 312 columns</p>\n",
       "</div>"
      ],
      "text/plain": [
       "   2024-11-05  2024-11-07  2024-11-12  2024-11-14  2024-11-15  2024-11-19  \\\n",
       "0         100           0           0           0      0.0000           0   \n",
       "1           0         100           0           0      0.0000           0   \n",
       "2           0           0         100           0      0.0000           0   \n",
       "3           0           0           0         100      0.0000           0   \n",
       "4           0           0           0           0    103.7500           0   \n",
       "\n",
       "   2024-11-21  2024-11-26  2024-11-29  2024-11-30  2024-12-03  2024-12-05  \\\n",
       "0           0           0           0      0.0000           0           0   \n",
       "1           0           0           0      0.0000           0           0   \n",
       "2           0           0           0      0.0000           0           0   \n",
       "3           0           0           0      0.0000           0           0   \n",
       "4           0           0           0      0.0000           0           0   \n",
       "\n",
       "   2024-12-10  2024-12-12  2024-12-15  ...  2051-02-15  2051-05-15  \\\n",
       "0           0           0      0.0000  ...      0.0000      0.0000   \n",
       "1           0           0      0.0000  ...      0.0000      0.0000   \n",
       "2           0           0      0.0000  ...      0.0000      0.0000   \n",
       "3           0           0      0.0000  ...      0.0000      0.0000   \n",
       "4           0           0      0.0000  ...      0.0000      0.0000   \n",
       "\n",
       "   2051-08-15  2051-11-15  2052-02-15  2052-05-15  2052-08-15  2052-11-15  \\\n",
       "0      0.0000      0.0000      0.0000      0.0000      0.0000      0.0000   \n",
       "1      0.0000      0.0000      0.0000      0.0000      0.0000      0.0000   \n",
       "2      0.0000      0.0000      0.0000      0.0000      0.0000      0.0000   \n",
       "3      0.0000      0.0000      0.0000      0.0000      0.0000      0.0000   \n",
       "4      0.0000      0.0000      0.0000      0.0000      0.0000      0.0000   \n",
       "\n",
       "   2053-02-15  2053-05-15  2053-08-15  2053-11-15  2054-02-15  2054-05-15  \\\n",
       "0      0.0000      0.0000      0.0000      0.0000      0.0000      0.0000   \n",
       "1      0.0000      0.0000      0.0000      0.0000      0.0000      0.0000   \n",
       "2      0.0000      0.0000      0.0000      0.0000      0.0000      0.0000   \n",
       "3      0.0000      0.0000      0.0000      0.0000      0.0000      0.0000   \n",
       "4      0.0000      0.0000      0.0000      0.0000      0.0000      0.0000   \n",
       "\n",
       "   2054-08-15  \n",
       "0      0.0000  \n",
       "1      0.0000  \n",
       "2      0.0000  \n",
       "3      0.0000  \n",
       "4      0.0000  \n",
       "\n",
       "[5 rows x 312 columns]"
      ]
     },
     "metadata": {},
     "output_type": "display_data"
    },
    {
     "data": {
      "text/html": [
       "<div>\n",
       "<style scoped>\n",
       "    .dataframe tbody tr th:only-of-type {\n",
       "        vertical-align: middle;\n",
       "    }\n",
       "\n",
       "    .dataframe tbody tr th {\n",
       "        vertical-align: top;\n",
       "    }\n",
       "\n",
       "    .dataframe thead th {\n",
       "        text-align: right;\n",
       "    }\n",
       "</style>\n",
       "<table border=\"1\" class=\"dataframe\">\n",
       "  <thead>\n",
       "    <tr style=\"text-align: right;\">\n",
       "      <th></th>\n",
       "      <th>2024-11-05</th>\n",
       "      <th>2024-11-07</th>\n",
       "      <th>2024-11-12</th>\n",
       "      <th>2024-11-14</th>\n",
       "      <th>2024-11-15</th>\n",
       "      <th>2024-11-19</th>\n",
       "      <th>2024-11-21</th>\n",
       "      <th>2024-11-26</th>\n",
       "      <th>2024-11-29</th>\n",
       "      <th>2024-11-30</th>\n",
       "      <th>2024-12-03</th>\n",
       "      <th>2024-12-05</th>\n",
       "      <th>2024-12-10</th>\n",
       "      <th>2024-12-12</th>\n",
       "      <th>2024-12-15</th>\n",
       "      <th>...</th>\n",
       "      <th>2051-02-15</th>\n",
       "      <th>2051-05-15</th>\n",
       "      <th>2051-08-15</th>\n",
       "      <th>2051-11-15</th>\n",
       "      <th>2052-02-15</th>\n",
       "      <th>2052-05-15</th>\n",
       "      <th>2052-08-15</th>\n",
       "      <th>2052-11-15</th>\n",
       "      <th>2053-02-15</th>\n",
       "      <th>2053-05-15</th>\n",
       "      <th>2053-08-15</th>\n",
       "      <th>2053-11-15</th>\n",
       "      <th>2054-02-15</th>\n",
       "      <th>2054-05-15</th>\n",
       "      <th>2054-08-15</th>\n",
       "    </tr>\n",
       "  </thead>\n",
       "  <tbody>\n",
       "    <tr>\n",
       "      <th>442</th>\n",
       "      <td>0</td>\n",
       "      <td>0</td>\n",
       "      <td>0</td>\n",
       "      <td>0</td>\n",
       "      <td>0.0000</td>\n",
       "      <td>0</td>\n",
       "      <td>0</td>\n",
       "      <td>0</td>\n",
       "      <td>0</td>\n",
       "      <td>0.0000</td>\n",
       "      <td>0</td>\n",
       "      <td>0</td>\n",
       "      <td>0</td>\n",
       "      <td>0</td>\n",
       "      <td>0.0000</td>\n",
       "      <td>...</td>\n",
       "      <td>2.0625</td>\n",
       "      <td>0.0000</td>\n",
       "      <td>2.0625</td>\n",
       "      <td>0.0000</td>\n",
       "      <td>2.0625</td>\n",
       "      <td>0.0000</td>\n",
       "      <td>2.0625</td>\n",
       "      <td>0.0000</td>\n",
       "      <td>2.0625</td>\n",
       "      <td>0.0000</td>\n",
       "      <td>102.0625</td>\n",
       "      <td>0.0000</td>\n",
       "      <td>0.0000</td>\n",
       "      <td>0.0000</td>\n",
       "      <td>0.0000</td>\n",
       "    </tr>\n",
       "    <tr>\n",
       "      <th>443</th>\n",
       "      <td>0</td>\n",
       "      <td>0</td>\n",
       "      <td>0</td>\n",
       "      <td>0</td>\n",
       "      <td>2.3750</td>\n",
       "      <td>0</td>\n",
       "      <td>0</td>\n",
       "      <td>0</td>\n",
       "      <td>0</td>\n",
       "      <td>0.0000</td>\n",
       "      <td>0</td>\n",
       "      <td>0</td>\n",
       "      <td>0</td>\n",
       "      <td>0</td>\n",
       "      <td>0.0000</td>\n",
       "      <td>...</td>\n",
       "      <td>0.0000</td>\n",
       "      <td>2.3750</td>\n",
       "      <td>0.0000</td>\n",
       "      <td>2.3750</td>\n",
       "      <td>0.0000</td>\n",
       "      <td>2.3750</td>\n",
       "      <td>0.0000</td>\n",
       "      <td>2.3750</td>\n",
       "      <td>0.0000</td>\n",
       "      <td>2.3750</td>\n",
       "      <td>0.0000</td>\n",
       "      <td>102.3750</td>\n",
       "      <td>0.0000</td>\n",
       "      <td>0.0000</td>\n",
       "      <td>0.0000</td>\n",
       "    </tr>\n",
       "    <tr>\n",
       "      <th>445</th>\n",
       "      <td>0</td>\n",
       "      <td>0</td>\n",
       "      <td>0</td>\n",
       "      <td>0</td>\n",
       "      <td>0.0000</td>\n",
       "      <td>0</td>\n",
       "      <td>0</td>\n",
       "      <td>0</td>\n",
       "      <td>0</td>\n",
       "      <td>0.0000</td>\n",
       "      <td>0</td>\n",
       "      <td>0</td>\n",
       "      <td>0</td>\n",
       "      <td>0</td>\n",
       "      <td>0.0000</td>\n",
       "      <td>...</td>\n",
       "      <td>2.1250</td>\n",
       "      <td>0.0000</td>\n",
       "      <td>2.1250</td>\n",
       "      <td>0.0000</td>\n",
       "      <td>2.1250</td>\n",
       "      <td>0.0000</td>\n",
       "      <td>2.1250</td>\n",
       "      <td>0.0000</td>\n",
       "      <td>2.1250</td>\n",
       "      <td>0.0000</td>\n",
       "      <td>2.1250</td>\n",
       "      <td>0.0000</td>\n",
       "      <td>102.1250</td>\n",
       "      <td>0.0000</td>\n",
       "      <td>0.0000</td>\n",
       "    </tr>\n",
       "    <tr>\n",
       "      <th>446</th>\n",
       "      <td>0</td>\n",
       "      <td>0</td>\n",
       "      <td>0</td>\n",
       "      <td>0</td>\n",
       "      <td>2.3125</td>\n",
       "      <td>0</td>\n",
       "      <td>0</td>\n",
       "      <td>0</td>\n",
       "      <td>0</td>\n",
       "      <td>0.0000</td>\n",
       "      <td>0</td>\n",
       "      <td>0</td>\n",
       "      <td>0</td>\n",
       "      <td>0</td>\n",
       "      <td>0.0000</td>\n",
       "      <td>...</td>\n",
       "      <td>0.0000</td>\n",
       "      <td>2.3125</td>\n",
       "      <td>0.0000</td>\n",
       "      <td>2.3125</td>\n",
       "      <td>0.0000</td>\n",
       "      <td>2.3125</td>\n",
       "      <td>0.0000</td>\n",
       "      <td>2.3125</td>\n",
       "      <td>0.0000</td>\n",
       "      <td>2.3125</td>\n",
       "      <td>0.0000</td>\n",
       "      <td>2.3125</td>\n",
       "      <td>0.0000</td>\n",
       "      <td>102.3125</td>\n",
       "      <td>0.0000</td>\n",
       "    </tr>\n",
       "    <tr>\n",
       "      <th>447</th>\n",
       "      <td>0</td>\n",
       "      <td>0</td>\n",
       "      <td>0</td>\n",
       "      <td>0</td>\n",
       "      <td>0.0000</td>\n",
       "      <td>0</td>\n",
       "      <td>0</td>\n",
       "      <td>0</td>\n",
       "      <td>0</td>\n",
       "      <td>0.0000</td>\n",
       "      <td>0</td>\n",
       "      <td>0</td>\n",
       "      <td>0</td>\n",
       "      <td>0</td>\n",
       "      <td>0.0000</td>\n",
       "      <td>...</td>\n",
       "      <td>2.1250</td>\n",
       "      <td>0.0000</td>\n",
       "      <td>2.1250</td>\n",
       "      <td>0.0000</td>\n",
       "      <td>2.1250</td>\n",
       "      <td>0.0000</td>\n",
       "      <td>2.1250</td>\n",
       "      <td>0.0000</td>\n",
       "      <td>2.1250</td>\n",
       "      <td>0.0000</td>\n",
       "      <td>2.1250</td>\n",
       "      <td>0.0000</td>\n",
       "      <td>2.1250</td>\n",
       "      <td>0.0000</td>\n",
       "      <td>102.1250</td>\n",
       "    </tr>\n",
       "  </tbody>\n",
       "</table>\n",
       "<p>5 rows × 312 columns</p>\n",
       "</div>"
      ],
      "text/plain": [
       "     2024-11-05  2024-11-07  2024-11-12  2024-11-14  2024-11-15  2024-11-19  \\\n",
       "442           0           0           0           0      0.0000           0   \n",
       "443           0           0           0           0      2.3750           0   \n",
       "445           0           0           0           0      0.0000           0   \n",
       "446           0           0           0           0      2.3125           0   \n",
       "447           0           0           0           0      0.0000           0   \n",
       "\n",
       "     2024-11-21  2024-11-26  2024-11-29  2024-11-30  2024-12-03  2024-12-05  \\\n",
       "442           0           0           0      0.0000           0           0   \n",
       "443           0           0           0      0.0000           0           0   \n",
       "445           0           0           0      0.0000           0           0   \n",
       "446           0           0           0      0.0000           0           0   \n",
       "447           0           0           0      0.0000           0           0   \n",
       "\n",
       "     2024-12-10  2024-12-12  2024-12-15  ...  2051-02-15  2051-05-15  \\\n",
       "442           0           0      0.0000  ...      2.0625      0.0000   \n",
       "443           0           0      0.0000  ...      0.0000      2.3750   \n",
       "445           0           0      0.0000  ...      2.1250      0.0000   \n",
       "446           0           0      0.0000  ...      0.0000      2.3125   \n",
       "447           0           0      0.0000  ...      2.1250      0.0000   \n",
       "\n",
       "     2051-08-15  2051-11-15  2052-02-15  2052-05-15  2052-08-15  2052-11-15  \\\n",
       "442      2.0625      0.0000      2.0625      0.0000      2.0625      0.0000   \n",
       "443      0.0000      2.3750      0.0000      2.3750      0.0000      2.3750   \n",
       "445      2.1250      0.0000      2.1250      0.0000      2.1250      0.0000   \n",
       "446      0.0000      2.3125      0.0000      2.3125      0.0000      2.3125   \n",
       "447      2.1250      0.0000      2.1250      0.0000      2.1250      0.0000   \n",
       "\n",
       "     2053-02-15  2053-05-15  2053-08-15  2053-11-15  2054-02-15  2054-05-15  \\\n",
       "442      2.0625      0.0000    102.0625      0.0000      0.0000      0.0000   \n",
       "443      0.0000      2.3750      0.0000    102.3750      0.0000      0.0000   \n",
       "445      2.1250      0.0000      2.1250      0.0000    102.1250      0.0000   \n",
       "446      0.0000      2.3125      0.0000      2.3125      0.0000    102.3125   \n",
       "447      2.1250      0.0000      2.1250      0.0000      2.1250      0.0000   \n",
       "\n",
       "     2054-08-15  \n",
       "442      0.0000  \n",
       "443      0.0000  \n",
       "445      0.0000  \n",
       "446      0.0000  \n",
       "447    102.1250  \n",
       "\n",
       "[5 rows x 312 columns]"
      ]
     },
     "metadata": {},
     "output_type": "display_data"
    }
   ],
   "source": [
    "# Calculate cash flow matrix\n",
    "cf_restr = calc_cashflows(treasuries_restr)\n",
    "\n",
    "display(cf_restr.head())   \n",
    "display(cf_restr.tail())   "
   ]
  },
  {
   "cell_type": "code",
   "execution_count": 12,
   "id": "2b23bd12",
   "metadata": {},
   "outputs": [
    {
     "name": "stdout",
     "output_type": "stream",
     "text": [
      "Most cashflow on 2025-02-15 00:00:00\n",
      "Most issues paying cashflow on 2025-02-15 00:00:00\n"
     ]
    }
   ],
   "source": [
    "most_cf_dt = cf_restr.sum(axis=0).idxmax()\n",
    "most_issues_dt = cf_restr.where(cf_restr == 0, 1).sum(axis=0).idxmax()\n",
    "\n",
    "print(f\"Most cashflow on {most_cf_dt}\")\n",
    "print(f\"Most issues paying cashflow on {most_issues_dt}\")"
   ]
  },
  {
   "cell_type": "markdown",
   "id": "a0ff7a76",
   "metadata": {},
   "source": [
    "### 2.2. OLS\n",
    "\n",
    "Estimate the discount factors using OLS.\n",
    "\n",
    "Starting with the cashflow matrix, $C$, create an additional filter to get a subset where every date has at least one maturity, (possibly multiple,) and every issue has its maturity in the cashflow matrix. Call this set of cashflows, $\\hat{C}$.\n",
    "\n",
    "**Report 5 head and tail rows of $\\hat{C}$.**\n",
    "\n",
    "$$\\textbf{p} = \\hat{\\textbf{C}}\\,\\textbf{z}_{\\text{ols}}+\\epsilon$$\n",
    "\n",
    "Plot the time-to-maturity vs discount rates, semiannually compounded."
   ]
  },
  {
   "cell_type": "code",
   "execution_count": 13,
   "id": "f4d38858",
   "metadata": {},
   "outputs": [
    {
     "data": {
      "text/html": [
       "<div>\n",
       "<style scoped>\n",
       "    .dataframe tbody tr th:only-of-type {\n",
       "        vertical-align: middle;\n",
       "    }\n",
       "\n",
       "    .dataframe tbody tr th {\n",
       "        vertical-align: top;\n",
       "    }\n",
       "\n",
       "    .dataframe thead th {\n",
       "        text-align: right;\n",
       "    }\n",
       "</style>\n",
       "<table border=\"1\" class=\"dataframe\">\n",
       "  <thead>\n",
       "    <tr style=\"text-align: right;\">\n",
       "      <th></th>\n",
       "      <th>2024-11-15</th>\n",
       "      <th>2025-02-15</th>\n",
       "      <th>2025-05-15</th>\n",
       "      <th>2025-08-15</th>\n",
       "      <th>2025-11-15</th>\n",
       "      <th>2026-02-15</th>\n",
       "      <th>2026-05-15</th>\n",
       "      <th>2026-08-15</th>\n",
       "      <th>2026-11-15</th>\n",
       "      <th>2027-02-15</th>\n",
       "      <th>2027-05-15</th>\n",
       "      <th>2027-08-15</th>\n",
       "      <th>2027-11-15</th>\n",
       "      <th>2028-02-15</th>\n",
       "      <th>2028-05-15</th>\n",
       "      <th>...</th>\n",
       "      <th>2031-02-15</th>\n",
       "      <th>2031-05-15</th>\n",
       "      <th>2031-08-15</th>\n",
       "      <th>2031-11-15</th>\n",
       "      <th>2032-02-15</th>\n",
       "      <th>2032-05-15</th>\n",
       "      <th>2032-08-15</th>\n",
       "      <th>2032-11-15</th>\n",
       "      <th>2033-02-15</th>\n",
       "      <th>2033-05-15</th>\n",
       "      <th>2033-08-15</th>\n",
       "      <th>2033-11-15</th>\n",
       "      <th>2034-02-15</th>\n",
       "      <th>2034-05-15</th>\n",
       "      <th>2034-08-15</th>\n",
       "    </tr>\n",
       "  </thead>\n",
       "  <tbody>\n",
       "    <tr>\n",
       "      <th>4</th>\n",
       "      <td>103.7500</td>\n",
       "      <td>0.0000</td>\n",
       "      <td>0.0000</td>\n",
       "      <td>0.0000</td>\n",
       "      <td>0.0000</td>\n",
       "      <td>0.0000</td>\n",
       "      <td>0.0000</td>\n",
       "      <td>0.0000</td>\n",
       "      <td>0.0000</td>\n",
       "      <td>0.0000</td>\n",
       "      <td>0.0000</td>\n",
       "      <td>0.0000</td>\n",
       "      <td>0.0000</td>\n",
       "      <td>0.0000</td>\n",
       "      <td>0.0000</td>\n",
       "      <td>...</td>\n",
       "      <td>0.0000</td>\n",
       "      <td>0.0000</td>\n",
       "      <td>0.0000</td>\n",
       "      <td>0.0000</td>\n",
       "      <td>0.0000</td>\n",
       "      <td>0.0000</td>\n",
       "      <td>0.0000</td>\n",
       "      <td>0.0000</td>\n",
       "      <td>0.0000</td>\n",
       "      <td>0.0000</td>\n",
       "      <td>0.0000</td>\n",
       "      <td>0.0000</td>\n",
       "      <td>0.0000</td>\n",
       "      <td>0.0000</td>\n",
       "      <td>0.0000</td>\n",
       "    </tr>\n",
       "    <tr>\n",
       "      <th>5</th>\n",
       "      <td>100.3750</td>\n",
       "      <td>0.0000</td>\n",
       "      <td>0.0000</td>\n",
       "      <td>0.0000</td>\n",
       "      <td>0.0000</td>\n",
       "      <td>0.0000</td>\n",
       "      <td>0.0000</td>\n",
       "      <td>0.0000</td>\n",
       "      <td>0.0000</td>\n",
       "      <td>0.0000</td>\n",
       "      <td>0.0000</td>\n",
       "      <td>0.0000</td>\n",
       "      <td>0.0000</td>\n",
       "      <td>0.0000</td>\n",
       "      <td>0.0000</td>\n",
       "      <td>...</td>\n",
       "      <td>0.0000</td>\n",
       "      <td>0.0000</td>\n",
       "      <td>0.0000</td>\n",
       "      <td>0.0000</td>\n",
       "      <td>0.0000</td>\n",
       "      <td>0.0000</td>\n",
       "      <td>0.0000</td>\n",
       "      <td>0.0000</td>\n",
       "      <td>0.0000</td>\n",
       "      <td>0.0000</td>\n",
       "      <td>0.0000</td>\n",
       "      <td>0.0000</td>\n",
       "      <td>0.0000</td>\n",
       "      <td>0.0000</td>\n",
       "      <td>0.0000</td>\n",
       "    </tr>\n",
       "    <tr>\n",
       "      <th>6</th>\n",
       "      <td>101.1250</td>\n",
       "      <td>0.0000</td>\n",
       "      <td>0.0000</td>\n",
       "      <td>0.0000</td>\n",
       "      <td>0.0000</td>\n",
       "      <td>0.0000</td>\n",
       "      <td>0.0000</td>\n",
       "      <td>0.0000</td>\n",
       "      <td>0.0000</td>\n",
       "      <td>0.0000</td>\n",
       "      <td>0.0000</td>\n",
       "      <td>0.0000</td>\n",
       "      <td>0.0000</td>\n",
       "      <td>0.0000</td>\n",
       "      <td>0.0000</td>\n",
       "      <td>...</td>\n",
       "      <td>0.0000</td>\n",
       "      <td>0.0000</td>\n",
       "      <td>0.0000</td>\n",
       "      <td>0.0000</td>\n",
       "      <td>0.0000</td>\n",
       "      <td>0.0000</td>\n",
       "      <td>0.0000</td>\n",
       "      <td>0.0000</td>\n",
       "      <td>0.0000</td>\n",
       "      <td>0.0000</td>\n",
       "      <td>0.0000</td>\n",
       "      <td>0.0000</td>\n",
       "      <td>0.0000</td>\n",
       "      <td>0.0000</td>\n",
       "      <td>0.0000</td>\n",
       "    </tr>\n",
       "    <tr>\n",
       "      <th>46</th>\n",
       "      <td>0.0000</td>\n",
       "      <td>100.7500</td>\n",
       "      <td>0.0000</td>\n",
       "      <td>0.0000</td>\n",
       "      <td>0.0000</td>\n",
       "      <td>0.0000</td>\n",
       "      <td>0.0000</td>\n",
       "      <td>0.0000</td>\n",
       "      <td>0.0000</td>\n",
       "      <td>0.0000</td>\n",
       "      <td>0.0000</td>\n",
       "      <td>0.0000</td>\n",
       "      <td>0.0000</td>\n",
       "      <td>0.0000</td>\n",
       "      <td>0.0000</td>\n",
       "      <td>...</td>\n",
       "      <td>0.0000</td>\n",
       "      <td>0.0000</td>\n",
       "      <td>0.0000</td>\n",
       "      <td>0.0000</td>\n",
       "      <td>0.0000</td>\n",
       "      <td>0.0000</td>\n",
       "      <td>0.0000</td>\n",
       "      <td>0.0000</td>\n",
       "      <td>0.0000</td>\n",
       "      <td>0.0000</td>\n",
       "      <td>0.0000</td>\n",
       "      <td>0.0000</td>\n",
       "      <td>0.0000</td>\n",
       "      <td>0.0000</td>\n",
       "      <td>0.0000</td>\n",
       "    </tr>\n",
       "    <tr>\n",
       "      <th>47</th>\n",
       "      <td>0.0000</td>\n",
       "      <td>101.0000</td>\n",
       "      <td>0.0000</td>\n",
       "      <td>0.0000</td>\n",
       "      <td>0.0000</td>\n",
       "      <td>0.0000</td>\n",
       "      <td>0.0000</td>\n",
       "      <td>0.0000</td>\n",
       "      <td>0.0000</td>\n",
       "      <td>0.0000</td>\n",
       "      <td>0.0000</td>\n",
       "      <td>0.0000</td>\n",
       "      <td>0.0000</td>\n",
       "      <td>0.0000</td>\n",
       "      <td>0.0000</td>\n",
       "      <td>...</td>\n",
       "      <td>0.0000</td>\n",
       "      <td>0.0000</td>\n",
       "      <td>0.0000</td>\n",
       "      <td>0.0000</td>\n",
       "      <td>0.0000</td>\n",
       "      <td>0.0000</td>\n",
       "      <td>0.0000</td>\n",
       "      <td>0.0000</td>\n",
       "      <td>0.0000</td>\n",
       "      <td>0.0000</td>\n",
       "      <td>0.0000</td>\n",
       "      <td>0.0000</td>\n",
       "      <td>0.0000</td>\n",
       "      <td>0.0000</td>\n",
       "      <td>0.0000</td>\n",
       "    </tr>\n",
       "  </tbody>\n",
       "</table>\n",
       "<p>5 rows × 40 columns</p>\n",
       "</div>"
      ],
      "text/plain": [
       "    2024-11-15  2025-02-15  2025-05-15  2025-08-15  2025-11-15  2026-02-15  \\\n",
       "4     103.7500      0.0000      0.0000      0.0000      0.0000      0.0000   \n",
       "5     100.3750      0.0000      0.0000      0.0000      0.0000      0.0000   \n",
       "6     101.1250      0.0000      0.0000      0.0000      0.0000      0.0000   \n",
       "46      0.0000    100.7500      0.0000      0.0000      0.0000      0.0000   \n",
       "47      0.0000    101.0000      0.0000      0.0000      0.0000      0.0000   \n",
       "\n",
       "    2026-05-15  2026-08-15  2026-11-15  2027-02-15  2027-05-15  2027-08-15  \\\n",
       "4       0.0000      0.0000      0.0000      0.0000      0.0000      0.0000   \n",
       "5       0.0000      0.0000      0.0000      0.0000      0.0000      0.0000   \n",
       "6       0.0000      0.0000      0.0000      0.0000      0.0000      0.0000   \n",
       "46      0.0000      0.0000      0.0000      0.0000      0.0000      0.0000   \n",
       "47      0.0000      0.0000      0.0000      0.0000      0.0000      0.0000   \n",
       "\n",
       "    2027-11-15  2028-02-15  2028-05-15  ...  2031-02-15  2031-05-15  \\\n",
       "4       0.0000      0.0000      0.0000  ...      0.0000      0.0000   \n",
       "5       0.0000      0.0000      0.0000  ...      0.0000      0.0000   \n",
       "6       0.0000      0.0000      0.0000  ...      0.0000      0.0000   \n",
       "46      0.0000      0.0000      0.0000  ...      0.0000      0.0000   \n",
       "47      0.0000      0.0000      0.0000  ...      0.0000      0.0000   \n",
       "\n",
       "    2031-08-15  2031-11-15  2032-02-15  2032-05-15  2032-08-15  2032-11-15  \\\n",
       "4       0.0000      0.0000      0.0000      0.0000      0.0000      0.0000   \n",
       "5       0.0000      0.0000      0.0000      0.0000      0.0000      0.0000   \n",
       "6       0.0000      0.0000      0.0000      0.0000      0.0000      0.0000   \n",
       "46      0.0000      0.0000      0.0000      0.0000      0.0000      0.0000   \n",
       "47      0.0000      0.0000      0.0000      0.0000      0.0000      0.0000   \n",
       "\n",
       "    2033-02-15  2033-05-15  2033-08-15  2033-11-15  2034-02-15  2034-05-15  \\\n",
       "4       0.0000      0.0000      0.0000      0.0000      0.0000      0.0000   \n",
       "5       0.0000      0.0000      0.0000      0.0000      0.0000      0.0000   \n",
       "6       0.0000      0.0000      0.0000      0.0000      0.0000      0.0000   \n",
       "46      0.0000      0.0000      0.0000      0.0000      0.0000      0.0000   \n",
       "47      0.0000      0.0000      0.0000      0.0000      0.0000      0.0000   \n",
       "\n",
       "    2034-08-15  \n",
       "4       0.0000  \n",
       "5       0.0000  \n",
       "6       0.0000  \n",
       "46      0.0000  \n",
       "47      0.0000  \n",
       "\n",
       "[5 rows x 40 columns]"
      ]
     },
     "metadata": {},
     "output_type": "display_data"
    },
    {
     "data": {
      "text/html": [
       "<div>\n",
       "<style scoped>\n",
       "    .dataframe tbody tr th:only-of-type {\n",
       "        vertical-align: middle;\n",
       "    }\n",
       "\n",
       "    .dataframe tbody tr th {\n",
       "        vertical-align: top;\n",
       "    }\n",
       "\n",
       "    .dataframe thead th {\n",
       "        text-align: right;\n",
       "    }\n",
       "</style>\n",
       "<table border=\"1\" class=\"dataframe\">\n",
       "  <thead>\n",
       "    <tr style=\"text-align: right;\">\n",
       "      <th></th>\n",
       "      <th>2024-11-15</th>\n",
       "      <th>2025-02-15</th>\n",
       "      <th>2025-05-15</th>\n",
       "      <th>2025-08-15</th>\n",
       "      <th>2025-11-15</th>\n",
       "      <th>2026-02-15</th>\n",
       "      <th>2026-05-15</th>\n",
       "      <th>2026-08-15</th>\n",
       "      <th>2026-11-15</th>\n",
       "      <th>2027-02-15</th>\n",
       "      <th>2027-05-15</th>\n",
       "      <th>2027-08-15</th>\n",
       "      <th>2027-11-15</th>\n",
       "      <th>2028-02-15</th>\n",
       "      <th>2028-05-15</th>\n",
       "      <th>...</th>\n",
       "      <th>2031-02-15</th>\n",
       "      <th>2031-05-15</th>\n",
       "      <th>2031-08-15</th>\n",
       "      <th>2031-11-15</th>\n",
       "      <th>2032-02-15</th>\n",
       "      <th>2032-05-15</th>\n",
       "      <th>2032-08-15</th>\n",
       "      <th>2032-11-15</th>\n",
       "      <th>2033-02-15</th>\n",
       "      <th>2033-05-15</th>\n",
       "      <th>2033-08-15</th>\n",
       "      <th>2033-11-15</th>\n",
       "      <th>2034-02-15</th>\n",
       "      <th>2034-05-15</th>\n",
       "      <th>2034-08-15</th>\n",
       "    </tr>\n",
       "  </thead>\n",
       "  <tbody>\n",
       "    <tr>\n",
       "      <th>340</th>\n",
       "      <td>0.0000</td>\n",
       "      <td>1.9375</td>\n",
       "      <td>0.0000</td>\n",
       "      <td>1.9375</td>\n",
       "      <td>0.0000</td>\n",
       "      <td>1.9375</td>\n",
       "      <td>0.0000</td>\n",
       "      <td>1.9375</td>\n",
       "      <td>0.0000</td>\n",
       "      <td>1.9375</td>\n",
       "      <td>0.0000</td>\n",
       "      <td>1.9375</td>\n",
       "      <td>0.0000</td>\n",
       "      <td>1.9375</td>\n",
       "      <td>0.0000</td>\n",
       "      <td>...</td>\n",
       "      <td>1.9375</td>\n",
       "      <td>0.0000</td>\n",
       "      <td>1.9375</td>\n",
       "      <td>0.0000</td>\n",
       "      <td>1.9375</td>\n",
       "      <td>0.0000</td>\n",
       "      <td>1.9375</td>\n",
       "      <td>0.0000</td>\n",
       "      <td>1.9375</td>\n",
       "      <td>0.0000</td>\n",
       "      <td>101.9375</td>\n",
       "      <td>0.0000</td>\n",
       "      <td>0.0000</td>\n",
       "      <td>0.0000</td>\n",
       "      <td>0.0000</td>\n",
       "    </tr>\n",
       "    <tr>\n",
       "      <th>341</th>\n",
       "      <td>2.2500</td>\n",
       "      <td>0.0000</td>\n",
       "      <td>2.2500</td>\n",
       "      <td>0.0000</td>\n",
       "      <td>2.2500</td>\n",
       "      <td>0.0000</td>\n",
       "      <td>2.2500</td>\n",
       "      <td>0.0000</td>\n",
       "      <td>2.2500</td>\n",
       "      <td>0.0000</td>\n",
       "      <td>2.2500</td>\n",
       "      <td>0.0000</td>\n",
       "      <td>2.2500</td>\n",
       "      <td>0.0000</td>\n",
       "      <td>2.2500</td>\n",
       "      <td>...</td>\n",
       "      <td>0.0000</td>\n",
       "      <td>2.2500</td>\n",
       "      <td>0.0000</td>\n",
       "      <td>2.2500</td>\n",
       "      <td>0.0000</td>\n",
       "      <td>2.2500</td>\n",
       "      <td>0.0000</td>\n",
       "      <td>2.2500</td>\n",
       "      <td>0.0000</td>\n",
       "      <td>2.2500</td>\n",
       "      <td>0.0000</td>\n",
       "      <td>102.2500</td>\n",
       "      <td>0.0000</td>\n",
       "      <td>0.0000</td>\n",
       "      <td>0.0000</td>\n",
       "    </tr>\n",
       "    <tr>\n",
       "      <th>343</th>\n",
       "      <td>0.0000</td>\n",
       "      <td>2.0000</td>\n",
       "      <td>0.0000</td>\n",
       "      <td>2.0000</td>\n",
       "      <td>0.0000</td>\n",
       "      <td>2.0000</td>\n",
       "      <td>0.0000</td>\n",
       "      <td>2.0000</td>\n",
       "      <td>0.0000</td>\n",
       "      <td>2.0000</td>\n",
       "      <td>0.0000</td>\n",
       "      <td>2.0000</td>\n",
       "      <td>0.0000</td>\n",
       "      <td>2.0000</td>\n",
       "      <td>0.0000</td>\n",
       "      <td>...</td>\n",
       "      <td>2.0000</td>\n",
       "      <td>0.0000</td>\n",
       "      <td>2.0000</td>\n",
       "      <td>0.0000</td>\n",
       "      <td>2.0000</td>\n",
       "      <td>0.0000</td>\n",
       "      <td>2.0000</td>\n",
       "      <td>0.0000</td>\n",
       "      <td>2.0000</td>\n",
       "      <td>0.0000</td>\n",
       "      <td>2.0000</td>\n",
       "      <td>0.0000</td>\n",
       "      <td>102.0000</td>\n",
       "      <td>0.0000</td>\n",
       "      <td>0.0000</td>\n",
       "    </tr>\n",
       "    <tr>\n",
       "      <th>344</th>\n",
       "      <td>2.1875</td>\n",
       "      <td>0.0000</td>\n",
       "      <td>2.1875</td>\n",
       "      <td>0.0000</td>\n",
       "      <td>2.1875</td>\n",
       "      <td>0.0000</td>\n",
       "      <td>2.1875</td>\n",
       "      <td>0.0000</td>\n",
       "      <td>2.1875</td>\n",
       "      <td>0.0000</td>\n",
       "      <td>2.1875</td>\n",
       "      <td>0.0000</td>\n",
       "      <td>2.1875</td>\n",
       "      <td>0.0000</td>\n",
       "      <td>2.1875</td>\n",
       "      <td>...</td>\n",
       "      <td>0.0000</td>\n",
       "      <td>2.1875</td>\n",
       "      <td>0.0000</td>\n",
       "      <td>2.1875</td>\n",
       "      <td>0.0000</td>\n",
       "      <td>2.1875</td>\n",
       "      <td>0.0000</td>\n",
       "      <td>2.1875</td>\n",
       "      <td>0.0000</td>\n",
       "      <td>2.1875</td>\n",
       "      <td>0.0000</td>\n",
       "      <td>2.1875</td>\n",
       "      <td>0.0000</td>\n",
       "      <td>102.1875</td>\n",
       "      <td>0.0000</td>\n",
       "    </tr>\n",
       "    <tr>\n",
       "      <th>346</th>\n",
       "      <td>0.0000</td>\n",
       "      <td>1.9375</td>\n",
       "      <td>0.0000</td>\n",
       "      <td>1.9375</td>\n",
       "      <td>0.0000</td>\n",
       "      <td>1.9375</td>\n",
       "      <td>0.0000</td>\n",
       "      <td>1.9375</td>\n",
       "      <td>0.0000</td>\n",
       "      <td>1.9375</td>\n",
       "      <td>0.0000</td>\n",
       "      <td>1.9375</td>\n",
       "      <td>0.0000</td>\n",
       "      <td>1.9375</td>\n",
       "      <td>0.0000</td>\n",
       "      <td>...</td>\n",
       "      <td>1.9375</td>\n",
       "      <td>0.0000</td>\n",
       "      <td>1.9375</td>\n",
       "      <td>0.0000</td>\n",
       "      <td>1.9375</td>\n",
       "      <td>0.0000</td>\n",
       "      <td>1.9375</td>\n",
       "      <td>0.0000</td>\n",
       "      <td>1.9375</td>\n",
       "      <td>0.0000</td>\n",
       "      <td>1.9375</td>\n",
       "      <td>0.0000</td>\n",
       "      <td>1.9375</td>\n",
       "      <td>0.0000</td>\n",
       "      <td>101.9375</td>\n",
       "    </tr>\n",
       "  </tbody>\n",
       "</table>\n",
       "<p>5 rows × 40 columns</p>\n",
       "</div>"
      ],
      "text/plain": [
       "     2024-11-15  2025-02-15  2025-05-15  2025-08-15  2025-11-15  2026-02-15  \\\n",
       "340      0.0000      1.9375      0.0000      1.9375      0.0000      1.9375   \n",
       "341      2.2500      0.0000      2.2500      0.0000      2.2500      0.0000   \n",
       "343      0.0000      2.0000      0.0000      2.0000      0.0000      2.0000   \n",
       "344      2.1875      0.0000      2.1875      0.0000      2.1875      0.0000   \n",
       "346      0.0000      1.9375      0.0000      1.9375      0.0000      1.9375   \n",
       "\n",
       "     2026-05-15  2026-08-15  2026-11-15  2027-02-15  2027-05-15  2027-08-15  \\\n",
       "340      0.0000      1.9375      0.0000      1.9375      0.0000      1.9375   \n",
       "341      2.2500      0.0000      2.2500      0.0000      2.2500      0.0000   \n",
       "343      0.0000      2.0000      0.0000      2.0000      0.0000      2.0000   \n",
       "344      2.1875      0.0000      2.1875      0.0000      2.1875      0.0000   \n",
       "346      0.0000      1.9375      0.0000      1.9375      0.0000      1.9375   \n",
       "\n",
       "     2027-11-15  2028-02-15  2028-05-15  ...  2031-02-15  2031-05-15  \\\n",
       "340      0.0000      1.9375      0.0000  ...      1.9375      0.0000   \n",
       "341      2.2500      0.0000      2.2500  ...      0.0000      2.2500   \n",
       "343      0.0000      2.0000      0.0000  ...      2.0000      0.0000   \n",
       "344      2.1875      0.0000      2.1875  ...      0.0000      2.1875   \n",
       "346      0.0000      1.9375      0.0000  ...      1.9375      0.0000   \n",
       "\n",
       "     2031-08-15  2031-11-15  2032-02-15  2032-05-15  2032-08-15  2032-11-15  \\\n",
       "340      1.9375      0.0000      1.9375      0.0000      1.9375      0.0000   \n",
       "341      0.0000      2.2500      0.0000      2.2500      0.0000      2.2500   \n",
       "343      2.0000      0.0000      2.0000      0.0000      2.0000      0.0000   \n",
       "344      0.0000      2.1875      0.0000      2.1875      0.0000      2.1875   \n",
       "346      1.9375      0.0000      1.9375      0.0000      1.9375      0.0000   \n",
       "\n",
       "     2033-02-15  2033-05-15  2033-08-15  2033-11-15  2034-02-15  2034-05-15  \\\n",
       "340      1.9375      0.0000    101.9375      0.0000      0.0000      0.0000   \n",
       "341      0.0000      2.2500      0.0000    102.2500      0.0000      0.0000   \n",
       "343      2.0000      0.0000      2.0000      0.0000    102.0000      0.0000   \n",
       "344      0.0000      2.1875      0.0000      2.1875      0.0000    102.1875   \n",
       "346      1.9375      0.0000      1.9375      0.0000      1.9375      0.0000   \n",
       "\n",
       "     2034-08-15  \n",
       "340      0.0000  \n",
       "341      0.0000  \n",
       "343      0.0000  \n",
       "344      0.0000  \n",
       "346    101.9375  \n",
       "\n",
       "[5 rows x 40 columns]"
      ]
     },
     "metadata": {},
     "output_type": "display_data"
    }
   ],
   "source": [
    "cf_curve = filter_treasury_cashflows(cf_restr, filter_benchmark_dates=True, filter_maturity_dates=True, filter_cf_strict=True)\n",
    "display(cf_curve.head())\n",
    "display(cf_curve.tail())\n"
   ]
  },
  {
   "cell_type": "code",
   "execution_count": 14,
   "id": "cc9f4d75",
   "metadata": {},
   "outputs": [
    {
     "data": {
      "text/html": [
       "<div>\n",
       "<style scoped>\n",
       "    .dataframe tbody tr th:only-of-type {\n",
       "        vertical-align: middle;\n",
       "    }\n",
       "\n",
       "    .dataframe tbody tr th {\n",
       "        vertical-align: top;\n",
       "    }\n",
       "\n",
       "    .dataframe thead th {\n",
       "        text-align: right;\n",
       "    }\n",
       "</style>\n",
       "<table border=\"1\" class=\"dataframe\">\n",
       "  <thead>\n",
       "    <tr style=\"text-align: right;\">\n",
       "      <th></th>\n",
       "      <th>interest rate</th>\n",
       "    </tr>\n",
       "    <tr>\n",
       "      <th>maturity</th>\n",
       "      <th></th>\n",
       "    </tr>\n",
       "  </thead>\n",
       "  <tbody>\n",
       "    <tr>\n",
       "      <th>0.2930</th>\n",
       "      <td>0.0732</td>\n",
       "    </tr>\n",
       "    <tr>\n",
       "      <th>0.5366</th>\n",
       "      <td>0.0592</td>\n",
       "    </tr>\n",
       "    <tr>\n",
       "      <th>0.7885</th>\n",
       "      <td>0.0537</td>\n",
       "    </tr>\n",
       "    <tr>\n",
       "      <th>1.0404</th>\n",
       "      <td>0.0590</td>\n",
       "    </tr>\n",
       "    <tr>\n",
       "      <th>1.2923</th>\n",
       "      <td>0.0484</td>\n",
       "    </tr>\n",
       "  </tbody>\n",
       "</table>\n",
       "</div>"
      ],
      "text/plain": [
       "          interest rate\n",
       "maturity               \n",
       "0.2930           0.0732\n",
       "0.5366           0.0592\n",
       "0.7885           0.0537\n",
       "1.0404           0.0590\n",
       "1.2923           0.0484"
      ]
     },
     "metadata": {},
     "output_type": "display_data"
    },
    {
     "data": {
      "application/vnd.plotly.v1+json": {
       "config": {
        "plotlyServerURL": "https://plot.ly"
       },
       "data": [
        {
         "hovertemplate": "Time to Maturity=%{x}<br>Interest Rates=%{y}<extra></extra>",
         "legendgroup": "",
         "line": {
          "color": "#636efa",
          "dash": "solid"
         },
         "marker": {
          "symbol": "circle"
         },
         "mode": "lines",
         "name": "",
         "orientation": "v",
         "showlegend": false,
         "type": "scatter",
         "x": [
          0.2929500342231348,
          0.5366187542778919,
          0.7885010266940452,
          1.0403832991101984,
          1.2922655715263518,
          1.5359342915811087,
          1.787816563997262,
          2.0396988364134154,
          2.291581108829569,
          2.535249828884326,
          2.7871321013004793,
          3.0390143737166326,
          3.2908966461327855,
          3.5373032169746748,
          3.789185489390828,
          4.041067761806982,
          4.292950034223135,
          4.5366187542778915,
          4.788501026694045,
          5.040383299110198,
          5.292265571526352,
          5.535934291581109,
          5.7878165639972625,
          6.039698836413415,
          6.291581108829569,
          6.535249828884326,
          6.787132101300479,
          7.039014373716633,
          7.2908966461327855,
          7.537303216974675,
          7.789185489390828,
          8.041067761806982,
          8.292950034223136,
          8.536618754277892,
          8.788501026694044,
          9.040383299110198,
          9.292265571526352,
          9.535934291581109,
          9.787816563997263
         ],
         "xaxis": "x",
         "y": [
          0.07320493964969366,
          0.05920102441039887,
          0.053679092281348595,
          0.05896415642970387,
          0.048353960703722,
          0.05056174446801087,
          0.04637663691486038,
          0.05081825421639152,
          0.04465113153364353,
          0.047981350528787825,
          0.04441130791881509,
          0.04785338553841356,
          0.0433526000358313,
          0.045578824239143945,
          0.04339816704748234,
          0.04652411654404798,
          0.04297478192065096,
          0.0441674759615962,
          0.04320622551246789,
          0.042929328047570436,
          0.042481732166808506,
          0.04499145092951817,
          0.04226431885094506,
          0.042432741914546046,
          0.04274064322013649,
          0.04351921029903538,
          0.042714357185806406,
          0.04341504042010769,
          0.04309566427675682,
          0.04456496911759311,
          0.043406839351535,
          0.04509501567141827,
          0.04367526923425746,
          0.044833352784027,
          0.043901024668055566,
          0.04549953584766753,
          0.043963996701096075,
          0.045409429738018314,
          0.04392008247636481
         ],
         "yaxis": "y"
        }
       ],
       "layout": {
        "legend": {
         "tracegroupgap": 0
        },
        "showlegend": false,
        "template": {
         "data": {
          "bar": [
           {
            "error_x": {
             "color": "#2a3f5f"
            },
            "error_y": {
             "color": "#2a3f5f"
            },
            "marker": {
             "line": {
              "color": "#E5ECF6",
              "width": 0.5
             },
             "pattern": {
              "fillmode": "overlay",
              "size": 10,
              "solidity": 0.2
             }
            },
            "type": "bar"
           }
          ],
          "barpolar": [
           {
            "marker": {
             "line": {
              "color": "#E5ECF6",
              "width": 0.5
             },
             "pattern": {
              "fillmode": "overlay",
              "size": 10,
              "solidity": 0.2
             }
            },
            "type": "barpolar"
           }
          ],
          "carpet": [
           {
            "aaxis": {
             "endlinecolor": "#2a3f5f",
             "gridcolor": "white",
             "linecolor": "white",
             "minorgridcolor": "white",
             "startlinecolor": "#2a3f5f"
            },
            "baxis": {
             "endlinecolor": "#2a3f5f",
             "gridcolor": "white",
             "linecolor": "white",
             "minorgridcolor": "white",
             "startlinecolor": "#2a3f5f"
            },
            "type": "carpet"
           }
          ],
          "choropleth": [
           {
            "colorbar": {
             "outlinewidth": 0,
             "ticks": ""
            },
            "type": "choropleth"
           }
          ],
          "contour": [
           {
            "colorbar": {
             "outlinewidth": 0,
             "ticks": ""
            },
            "colorscale": [
             [
              0,
              "#0d0887"
             ],
             [
              0.1111111111111111,
              "#46039f"
             ],
             [
              0.2222222222222222,
              "#7201a8"
             ],
             [
              0.3333333333333333,
              "#9c179e"
             ],
             [
              0.4444444444444444,
              "#bd3786"
             ],
             [
              0.5555555555555556,
              "#d8576b"
             ],
             [
              0.6666666666666666,
              "#ed7953"
             ],
             [
              0.7777777777777778,
              "#fb9f3a"
             ],
             [
              0.8888888888888888,
              "#fdca26"
             ],
             [
              1,
              "#f0f921"
             ]
            ],
            "type": "contour"
           }
          ],
          "contourcarpet": [
           {
            "colorbar": {
             "outlinewidth": 0,
             "ticks": ""
            },
            "type": "contourcarpet"
           }
          ],
          "heatmap": [
           {
            "colorbar": {
             "outlinewidth": 0,
             "ticks": ""
            },
            "colorscale": [
             [
              0,
              "#0d0887"
             ],
             [
              0.1111111111111111,
              "#46039f"
             ],
             [
              0.2222222222222222,
              "#7201a8"
             ],
             [
              0.3333333333333333,
              "#9c179e"
             ],
             [
              0.4444444444444444,
              "#bd3786"
             ],
             [
              0.5555555555555556,
              "#d8576b"
             ],
             [
              0.6666666666666666,
              "#ed7953"
             ],
             [
              0.7777777777777778,
              "#fb9f3a"
             ],
             [
              0.8888888888888888,
              "#fdca26"
             ],
             [
              1,
              "#f0f921"
             ]
            ],
            "type": "heatmap"
           }
          ],
          "heatmapgl": [
           {
            "colorbar": {
             "outlinewidth": 0,
             "ticks": ""
            },
            "colorscale": [
             [
              0,
              "#0d0887"
             ],
             [
              0.1111111111111111,
              "#46039f"
             ],
             [
              0.2222222222222222,
              "#7201a8"
             ],
             [
              0.3333333333333333,
              "#9c179e"
             ],
             [
              0.4444444444444444,
              "#bd3786"
             ],
             [
              0.5555555555555556,
              "#d8576b"
             ],
             [
              0.6666666666666666,
              "#ed7953"
             ],
             [
              0.7777777777777778,
              "#fb9f3a"
             ],
             [
              0.8888888888888888,
              "#fdca26"
             ],
             [
              1,
              "#f0f921"
             ]
            ],
            "type": "heatmapgl"
           }
          ],
          "histogram": [
           {
            "marker": {
             "pattern": {
              "fillmode": "overlay",
              "size": 10,
              "solidity": 0.2
             }
            },
            "type": "histogram"
           }
          ],
          "histogram2d": [
           {
            "colorbar": {
             "outlinewidth": 0,
             "ticks": ""
            },
            "colorscale": [
             [
              0,
              "#0d0887"
             ],
             [
              0.1111111111111111,
              "#46039f"
             ],
             [
              0.2222222222222222,
              "#7201a8"
             ],
             [
              0.3333333333333333,
              "#9c179e"
             ],
             [
              0.4444444444444444,
              "#bd3786"
             ],
             [
              0.5555555555555556,
              "#d8576b"
             ],
             [
              0.6666666666666666,
              "#ed7953"
             ],
             [
              0.7777777777777778,
              "#fb9f3a"
             ],
             [
              0.8888888888888888,
              "#fdca26"
             ],
             [
              1,
              "#f0f921"
             ]
            ],
            "type": "histogram2d"
           }
          ],
          "histogram2dcontour": [
           {
            "colorbar": {
             "outlinewidth": 0,
             "ticks": ""
            },
            "colorscale": [
             [
              0,
              "#0d0887"
             ],
             [
              0.1111111111111111,
              "#46039f"
             ],
             [
              0.2222222222222222,
              "#7201a8"
             ],
             [
              0.3333333333333333,
              "#9c179e"
             ],
             [
              0.4444444444444444,
              "#bd3786"
             ],
             [
              0.5555555555555556,
              "#d8576b"
             ],
             [
              0.6666666666666666,
              "#ed7953"
             ],
             [
              0.7777777777777778,
              "#fb9f3a"
             ],
             [
              0.8888888888888888,
              "#fdca26"
             ],
             [
              1,
              "#f0f921"
             ]
            ],
            "type": "histogram2dcontour"
           }
          ],
          "mesh3d": [
           {
            "colorbar": {
             "outlinewidth": 0,
             "ticks": ""
            },
            "type": "mesh3d"
           }
          ],
          "parcoords": [
           {
            "line": {
             "colorbar": {
              "outlinewidth": 0,
              "ticks": ""
             }
            },
            "type": "parcoords"
           }
          ],
          "pie": [
           {
            "automargin": true,
            "type": "pie"
           }
          ],
          "scatter": [
           {
            "fillpattern": {
             "fillmode": "overlay",
             "size": 10,
             "solidity": 0.2
            },
            "type": "scatter"
           }
          ],
          "scatter3d": [
           {
            "line": {
             "colorbar": {
              "outlinewidth": 0,
              "ticks": ""
             }
            },
            "marker": {
             "colorbar": {
              "outlinewidth": 0,
              "ticks": ""
             }
            },
            "type": "scatter3d"
           }
          ],
          "scattercarpet": [
           {
            "marker": {
             "colorbar": {
              "outlinewidth": 0,
              "ticks": ""
             }
            },
            "type": "scattercarpet"
           }
          ],
          "scattergeo": [
           {
            "marker": {
             "colorbar": {
              "outlinewidth": 0,
              "ticks": ""
             }
            },
            "type": "scattergeo"
           }
          ],
          "scattergl": [
           {
            "marker": {
             "colorbar": {
              "outlinewidth": 0,
              "ticks": ""
             }
            },
            "type": "scattergl"
           }
          ],
          "scattermapbox": [
           {
            "marker": {
             "colorbar": {
              "outlinewidth": 0,
              "ticks": ""
             }
            },
            "type": "scattermapbox"
           }
          ],
          "scatterpolar": [
           {
            "marker": {
             "colorbar": {
              "outlinewidth": 0,
              "ticks": ""
             }
            },
            "type": "scatterpolar"
           }
          ],
          "scatterpolargl": [
           {
            "marker": {
             "colorbar": {
              "outlinewidth": 0,
              "ticks": ""
             }
            },
            "type": "scatterpolargl"
           }
          ],
          "scatterternary": [
           {
            "marker": {
             "colorbar": {
              "outlinewidth": 0,
              "ticks": ""
             }
            },
            "type": "scatterternary"
           }
          ],
          "surface": [
           {
            "colorbar": {
             "outlinewidth": 0,
             "ticks": ""
            },
            "colorscale": [
             [
              0,
              "#0d0887"
             ],
             [
              0.1111111111111111,
              "#46039f"
             ],
             [
              0.2222222222222222,
              "#7201a8"
             ],
             [
              0.3333333333333333,
              "#9c179e"
             ],
             [
              0.4444444444444444,
              "#bd3786"
             ],
             [
              0.5555555555555556,
              "#d8576b"
             ],
             [
              0.6666666666666666,
              "#ed7953"
             ],
             [
              0.7777777777777778,
              "#fb9f3a"
             ],
             [
              0.8888888888888888,
              "#fdca26"
             ],
             [
              1,
              "#f0f921"
             ]
            ],
            "type": "surface"
           }
          ],
          "table": [
           {
            "cells": {
             "fill": {
              "color": "#EBF0F8"
             },
             "line": {
              "color": "white"
             }
            },
            "header": {
             "fill": {
              "color": "#C8D4E3"
             },
             "line": {
              "color": "white"
             }
            },
            "type": "table"
           }
          ]
         },
         "layout": {
          "annotationdefaults": {
           "arrowcolor": "#2a3f5f",
           "arrowhead": 0,
           "arrowwidth": 1
          },
          "autotypenumbers": "strict",
          "coloraxis": {
           "colorbar": {
            "outlinewidth": 0,
            "ticks": ""
           }
          },
          "colorscale": {
           "diverging": [
            [
             0,
             "#8e0152"
            ],
            [
             0.1,
             "#c51b7d"
            ],
            [
             0.2,
             "#de77ae"
            ],
            [
             0.3,
             "#f1b6da"
            ],
            [
             0.4,
             "#fde0ef"
            ],
            [
             0.5,
             "#f7f7f7"
            ],
            [
             0.6,
             "#e6f5d0"
            ],
            [
             0.7,
             "#b8e186"
            ],
            [
             0.8,
             "#7fbc41"
            ],
            [
             0.9,
             "#4d9221"
            ],
            [
             1,
             "#276419"
            ]
           ],
           "sequential": [
            [
             0,
             "#0d0887"
            ],
            [
             0.1111111111111111,
             "#46039f"
            ],
            [
             0.2222222222222222,
             "#7201a8"
            ],
            [
             0.3333333333333333,
             "#9c179e"
            ],
            [
             0.4444444444444444,
             "#bd3786"
            ],
            [
             0.5555555555555556,
             "#d8576b"
            ],
            [
             0.6666666666666666,
             "#ed7953"
            ],
            [
             0.7777777777777778,
             "#fb9f3a"
            ],
            [
             0.8888888888888888,
             "#fdca26"
            ],
            [
             1,
             "#f0f921"
            ]
           ],
           "sequentialminus": [
            [
             0,
             "#0d0887"
            ],
            [
             0.1111111111111111,
             "#46039f"
            ],
            [
             0.2222222222222222,
             "#7201a8"
            ],
            [
             0.3333333333333333,
             "#9c179e"
            ],
            [
             0.4444444444444444,
             "#bd3786"
            ],
            [
             0.5555555555555556,
             "#d8576b"
            ],
            [
             0.6666666666666666,
             "#ed7953"
            ],
            [
             0.7777777777777778,
             "#fb9f3a"
            ],
            [
             0.8888888888888888,
             "#fdca26"
            ],
            [
             1,
             "#f0f921"
            ]
           ]
          },
          "colorway": [
           "#636efa",
           "#EF553B",
           "#00cc96",
           "#ab63fa",
           "#FFA15A",
           "#19d3f3",
           "#FF6692",
           "#B6E880",
           "#FF97FF",
           "#FECB52"
          ],
          "font": {
           "color": "#2a3f5f"
          },
          "geo": {
           "bgcolor": "white",
           "lakecolor": "white",
           "landcolor": "#E5ECF6",
           "showlakes": true,
           "showland": true,
           "subunitcolor": "white"
          },
          "hoverlabel": {
           "align": "left"
          },
          "hovermode": "closest",
          "mapbox": {
           "style": "light"
          },
          "paper_bgcolor": "white",
          "plot_bgcolor": "#E5ECF6",
          "polar": {
           "angularaxis": {
            "gridcolor": "white",
            "linecolor": "white",
            "ticks": ""
           },
           "bgcolor": "#E5ECF6",
           "radialaxis": {
            "gridcolor": "white",
            "linecolor": "white",
            "ticks": ""
           }
          },
          "scene": {
           "xaxis": {
            "backgroundcolor": "#E5ECF6",
            "gridcolor": "white",
            "gridwidth": 2,
            "linecolor": "white",
            "showbackground": true,
            "ticks": "",
            "zerolinecolor": "white"
           },
           "yaxis": {
            "backgroundcolor": "#E5ECF6",
            "gridcolor": "white",
            "gridwidth": 2,
            "linecolor": "white",
            "showbackground": true,
            "ticks": "",
            "zerolinecolor": "white"
           },
           "zaxis": {
            "backgroundcolor": "#E5ECF6",
            "gridcolor": "white",
            "gridwidth": 2,
            "linecolor": "white",
            "showbackground": true,
            "ticks": "",
            "zerolinecolor": "white"
           }
          },
          "shapedefaults": {
           "line": {
            "color": "#2a3f5f"
           }
          },
          "ternary": {
           "aaxis": {
            "gridcolor": "white",
            "linecolor": "white",
            "ticks": ""
           },
           "baxis": {
            "gridcolor": "white",
            "linecolor": "white",
            "ticks": ""
           },
           "bgcolor": "#E5ECF6",
           "caxis": {
            "gridcolor": "white",
            "linecolor": "white",
            "ticks": ""
           }
          },
          "title": {
           "x": 0.05
          },
          "xaxis": {
           "automargin": true,
           "gridcolor": "white",
           "linecolor": "white",
           "ticks": "",
           "title": {
            "standoff": 15
           },
           "zerolinecolor": "white",
           "zerolinewidth": 2
          },
          "yaxis": {
           "automargin": true,
           "gridcolor": "white",
           "linecolor": "white",
           "ticks": "",
           "title": {
            "standoff": 15
           },
           "zerolinecolor": "white",
           "zerolinewidth": 2
          }
         }
        },
        "title": {
         "text": "Interest Rates Estimated via OLS"
        },
        "xaxis": {
         "anchor": "y",
         "domain": [
          0,
          1
         ],
         "title": {
          "text": "Time to Maturity"
         }
        },
        "yaxis": {
         "anchor": "x",
         "domain": [
          0,
          1
         ],
         "tickformat": ".2%",
         "title": {
          "text": "Interest Rates"
         }
        }
       }
      }
     },
     "metadata": {},
     "output_type": "display_data"
    }
   ],
   "source": [
    "# Perform OLS\n",
    "prices_filtered = treasuries_restr['price'][cf_curve.index]\n",
    "disc_curve_ols = estimate_rate_curve(model_name='OLS', cf=cf_curve, prices=prices_filtered, date_current=t_curr_date)\n",
    "\n",
    "int_rates_ols = discount_to_int_rate(discount=disc_curve_ols[1], time_to_maturity=disc_curve_ols[0], n_compound=2)\n",
    "int_rates_ols = int_rates_ols[int_rates_ols.index > 0.25]\n",
    "\n",
    "display(int_rates_ols.head())\n",
    "\n",
    "fig = px.line(\n",
    "    x=int_rates_ols.index, \n",
    "    y=int_rates_ols.values.flatten(),\n",
    "    labels={\"x\": \"Time to Maturity\", \"y\": \"Interest Rates\"}, \n",
    "    title=\"Interest Rates Estimated via OLS\"\n",
    ")\n",
    "fig.update_layout(\n",
    "    showlegend=False,\n",
    "    yaxis_tickformat=\".2%\",\n",
    ")\n",
    "fig.show()"
   ]
  },
  {
   "cell_type": "markdown",
   "id": "e0e78a59",
   "metadata": {},
   "source": [
    "### 2.3. EXTRA (not graded)\n",
    "\n",
    "Re-do `2.2.`, but this time use Weighted Least Squares. Find a weighting scheme that puts more weight on more recently issued treasures and less weight on less recently issued treasures. \n",
    "\n",
    "Does your answer change much?\n"
   ]
  },
  {
   "cell_type": "markdown",
   "id": "ac1a365d",
   "metadata": {},
   "source": [
    "### 2.4. Curve-Fitting\n",
    "\n",
    "Continue with the model of cashflows (having filtered out some treasuries).\n",
    "\n",
    "Estimate the discount curve via the Nelson-Siegel model.\n",
    "* Fit via minimizing the sum of squared errors of the modeled prices against the quoted prices.\n",
    "* Consider using `minimize` from `scipy.optimize`.\n",
    "\n",
    "When done,\n",
    "* Report the estimated NS parameters.\n",
    "* Plot the semiannually-compounded discount rates along with those estimated with OLS from above."
   ]
  },
  {
   "cell_type": "code",
   "execution_count": 15,
   "id": "e3bcdda9",
   "metadata": {},
   "outputs": [
    {
     "data": {
      "text/html": [
       "<div>\n",
       "<style scoped>\n",
       "    .dataframe tbody tr th:only-of-type {\n",
       "        vertical-align: middle;\n",
       "    }\n",
       "\n",
       "    .dataframe tbody tr th {\n",
       "        vertical-align: top;\n",
       "    }\n",
       "\n",
       "    .dataframe thead th {\n",
       "        text-align: right;\n",
       "    }\n",
       "</style>\n",
       "<table border=\"1\" class=\"dataframe\">\n",
       "  <thead>\n",
       "    <tr style=\"text-align: right;\">\n",
       "      <th></th>\n",
       "      <th>theta 0</th>\n",
       "      <th>theta 1</th>\n",
       "      <th>theta 2</th>\n",
       "      <th>lambda_1</th>\n",
       "    </tr>\n",
       "  </thead>\n",
       "  <tbody>\n",
       "    <tr>\n",
       "      <th>Nelson-Siegel</th>\n",
       "      <td>0.0494</td>\n",
       "      <td>0.0143</td>\n",
       "      <td>-0.0410</td>\n",
       "      <td>0.7129</td>\n",
       "    </tr>\n",
       "  </tbody>\n",
       "</table>\n",
       "</div>"
      ],
      "text/plain": [
       "               theta 0  theta 1  theta 2  lambda_1\n",
       "Nelson-Siegel   0.0494   0.0143  -0.0410    0.7129"
      ]
     },
     "metadata": {},
     "output_type": "display_data"
    }
   ],
   "source": [
    "# Perform OLS\n",
    "param_NS = estimate_rate_curve(model_name='nelson_siegel', cf=cf_curve, prices=prices_filtered, date_current=t_curr_date)\n",
    "\n",
    "params_ns_df = pd.DataFrame(data = param_NS, index=['theta 0', 'theta 1', 'theta 2', 'lambda_1'],columns=['Nelson-Siegel']).T\n",
    "display(params_ns_df)"
   ]
  },
  {
   "cell_type": "code",
   "execution_count": 16,
   "id": "27d21b0e",
   "metadata": {},
   "outputs": [
    {
     "data": {
      "text/html": [
       "<div>\n",
       "<style scoped>\n",
       "    .dataframe tbody tr th:only-of-type {\n",
       "        vertical-align: middle;\n",
       "    }\n",
       "\n",
       "    .dataframe tbody tr th {\n",
       "        vertical-align: top;\n",
       "    }\n",
       "\n",
       "    .dataframe thead th {\n",
       "        text-align: right;\n",
       "    }\n",
       "</style>\n",
       "<table border=\"1\" class=\"dataframe\">\n",
       "  <thead>\n",
       "    <tr style=\"text-align: right;\">\n",
       "      <th></th>\n",
       "      <th>ns_int_rate</th>\n",
       "    </tr>\n",
       "    <tr>\n",
       "      <th>maturity</th>\n",
       "      <th></th>\n",
       "    </tr>\n",
       "  </thead>\n",
       "  <tbody>\n",
       "    <tr>\n",
       "      <th>0.2500</th>\n",
       "      <td>0.0606</td>\n",
       "    </tr>\n",
       "    <tr>\n",
       "      <th>0.5000</th>\n",
       "      <td>0.0578</td>\n",
       "    </tr>\n",
       "    <tr>\n",
       "      <th>0.7500</th>\n",
       "      <td>0.0555</td>\n",
       "    </tr>\n",
       "    <tr>\n",
       "      <th>1.0000</th>\n",
       "      <td>0.0534</td>\n",
       "    </tr>\n",
       "    <tr>\n",
       "      <th>1.2500</th>\n",
       "      <td>0.0517</td>\n",
       "    </tr>\n",
       "  </tbody>\n",
       "</table>\n",
       "</div>"
      ],
      "text/plain": [
       "          ns_int_rate\n",
       "maturity             \n",
       "0.2500         0.0606\n",
       "0.5000         0.0578\n",
       "0.7500         0.0555\n",
       "1.0000         0.0534\n",
       "1.2500         0.0517"
      ]
     },
     "execution_count": 16,
     "metadata": {},
     "output_type": "execute_result"
    }
   ],
   "source": [
    "maturity_list = get_maturity_delta(t_maturity=cf_curve.columns,date_current=t_curr_date)\n",
    "maturity_grid = np.arange(0.25, maturity_list.max()+.5, 0.25)\n",
    "ns_curve_df = pd.DataFrame(index = maturity_grid)\n",
    "ns_curve_df.index.name = 'maturity'\n",
    "ns_curve_df['ns_int_rate'] = nelson_siegel(param_NS, maturity_grid)\n",
    "ns_curve_df.head()"
   ]
  },
  {
   "cell_type": "markdown",
   "id": "2adc781e",
   "metadata": {},
   "source": [
    "_Note: graphs created using ChatGPT: \"Combine int_rates_ols and ns_curve_df into one graph using plotly express\". Assume both dataframes have different  different number of rows, so concating will lead to many nan and merging would remove some rows\"_"
   ]
  },
  {
   "cell_type": "code",
   "execution_count": 17,
   "id": "66ba811f",
   "metadata": {},
   "outputs": [
    {
     "data": {
      "application/vnd.plotly.v1+json": {
       "config": {
        "plotlyServerURL": "https://plot.ly"
       },
       "data": [
        {
         "mode": "lines",
         "name": "OLS Estimate",
         "type": "scatter",
         "x": [
          0.2929500342231348,
          0.5366187542778919,
          0.7885010266940452,
          1.0403832991101984,
          1.2922655715263518,
          1.5359342915811087,
          1.787816563997262,
          2.0396988364134154,
          2.291581108829569,
          2.535249828884326,
          2.7871321013004793,
          3.0390143737166326,
          3.2908966461327855,
          3.5373032169746748,
          3.789185489390828,
          4.041067761806982,
          4.292950034223135,
          4.5366187542778915,
          4.788501026694045,
          5.040383299110198,
          5.292265571526352,
          5.535934291581109,
          5.7878165639972625,
          6.039698836413415,
          6.291581108829569,
          6.535249828884326,
          6.787132101300479,
          7.039014373716633,
          7.2908966461327855,
          7.537303216974675,
          7.789185489390828,
          8.041067761806982,
          8.292950034223136,
          8.536618754277892,
          8.788501026694044,
          9.040383299110198,
          9.292265571526352,
          9.535934291581109,
          9.787816563997263
         ],
         "y": [
          0.07320493964969366,
          0.05920102441039887,
          0.053679092281348595,
          0.05896415642970387,
          0.048353960703722,
          0.05056174446801087,
          0.04637663691486038,
          0.05081825421639152,
          0.04465113153364353,
          0.047981350528787825,
          0.04441130791881509,
          0.04785338553841356,
          0.0433526000358313,
          0.045578824239143945,
          0.04339816704748234,
          0.04652411654404798,
          0.04297478192065096,
          0.0441674759615962,
          0.04320622551246789,
          0.042929328047570436,
          0.042481732166808506,
          0.04499145092951817,
          0.04226431885094506,
          0.042432741914546046,
          0.04274064322013649,
          0.04351921029903538,
          0.042714357185806406,
          0.04341504042010769,
          0.04309566427675682,
          0.04456496911759311,
          0.043406839351535,
          0.04509501567141827,
          0.04367526923425746,
          0.044833352784027,
          0.043901024668055566,
          0.04549953584766753,
          0.043963996701096075,
          0.045409429738018314,
          0.04392008247636481
         ]
        },
        {
         "mode": "lines",
         "name": "Nelson Siegel Estimate",
         "type": "scatter",
         "x": [
          0.25,
          0.5,
          0.75,
          1,
          1.25,
          1.5,
          1.75,
          2,
          2.25,
          2.5,
          2.75,
          3,
          3.25,
          3.5,
          3.75,
          4,
          4.25,
          4.5,
          4.75,
          5,
          5.25,
          5.5,
          5.75,
          6,
          6.25,
          6.5,
          6.75,
          7,
          7.25,
          7.5,
          7.75,
          8,
          8.25,
          8.5,
          8.75,
          9,
          9.25,
          9.5,
          9.75,
          10,
          10.25
         ],
         "y": [
          0.060577314242963975,
          0.057838092676660124,
          0.055470533595192675,
          0.05342855532993135,
          0.05167161376690638,
          0.05016404653060425,
          0.04887449422022676,
          0.04777538968909377,
          0.04684250740796393,
          0.0460545658810117,
          0.045392876903215154,
          0.04484103617251532,
          0.04438465041038508,
          0.04401109671019309,
          0.04370931033262417,
          0.04346959760907854,
          0.043283471004184365,
          0.04314350373330293,
          0.04304320163547047,
          0.042976890271277456,
          0.04293961545286728,
          0.04292705562319005,
          0.042935444687102545,
          0.04296150406071267,
          0.04300238285004675,
          0.04305560519789873,
          0.0431190239505694,
          0.04319077989586174,
          0.043269265911702534,
          0.04335309544246893,
          0.043441074788711995,
          0.04353217875654981,
          0.04362552926648523,
          0.04372037656861908,
          0.04381608275290788,
          0.04391210727990467,
          0.04400799428989181,
          0.04410336147697178,
          0.044197890339971395,
          0.044291317644330065,
          0.044383427948832904
         ]
        }
       ],
       "layout": {
        "legend": {
         "bgcolor": "rgba(255, 255, 255, 0.5)",
         "bordercolor": "black",
         "borderwidth": 1,
         "title": {
          "text": ""
         },
         "x": 0.75,
         "y": 0.95
        },
        "template": {
         "data": {
          "bar": [
           {
            "error_x": {
             "color": "#2a3f5f"
            },
            "error_y": {
             "color": "#2a3f5f"
            },
            "marker": {
             "line": {
              "color": "#E5ECF6",
              "width": 0.5
             },
             "pattern": {
              "fillmode": "overlay",
              "size": 10,
              "solidity": 0.2
             }
            },
            "type": "bar"
           }
          ],
          "barpolar": [
           {
            "marker": {
             "line": {
              "color": "#E5ECF6",
              "width": 0.5
             },
             "pattern": {
              "fillmode": "overlay",
              "size": 10,
              "solidity": 0.2
             }
            },
            "type": "barpolar"
           }
          ],
          "carpet": [
           {
            "aaxis": {
             "endlinecolor": "#2a3f5f",
             "gridcolor": "white",
             "linecolor": "white",
             "minorgridcolor": "white",
             "startlinecolor": "#2a3f5f"
            },
            "baxis": {
             "endlinecolor": "#2a3f5f",
             "gridcolor": "white",
             "linecolor": "white",
             "minorgridcolor": "white",
             "startlinecolor": "#2a3f5f"
            },
            "type": "carpet"
           }
          ],
          "choropleth": [
           {
            "colorbar": {
             "outlinewidth": 0,
             "ticks": ""
            },
            "type": "choropleth"
           }
          ],
          "contour": [
           {
            "colorbar": {
             "outlinewidth": 0,
             "ticks": ""
            },
            "colorscale": [
             [
              0,
              "#0d0887"
             ],
             [
              0.1111111111111111,
              "#46039f"
             ],
             [
              0.2222222222222222,
              "#7201a8"
             ],
             [
              0.3333333333333333,
              "#9c179e"
             ],
             [
              0.4444444444444444,
              "#bd3786"
             ],
             [
              0.5555555555555556,
              "#d8576b"
             ],
             [
              0.6666666666666666,
              "#ed7953"
             ],
             [
              0.7777777777777778,
              "#fb9f3a"
             ],
             [
              0.8888888888888888,
              "#fdca26"
             ],
             [
              1,
              "#f0f921"
             ]
            ],
            "type": "contour"
           }
          ],
          "contourcarpet": [
           {
            "colorbar": {
             "outlinewidth": 0,
             "ticks": ""
            },
            "type": "contourcarpet"
           }
          ],
          "heatmap": [
           {
            "colorbar": {
             "outlinewidth": 0,
             "ticks": ""
            },
            "colorscale": [
             [
              0,
              "#0d0887"
             ],
             [
              0.1111111111111111,
              "#46039f"
             ],
             [
              0.2222222222222222,
              "#7201a8"
             ],
             [
              0.3333333333333333,
              "#9c179e"
             ],
             [
              0.4444444444444444,
              "#bd3786"
             ],
             [
              0.5555555555555556,
              "#d8576b"
             ],
             [
              0.6666666666666666,
              "#ed7953"
             ],
             [
              0.7777777777777778,
              "#fb9f3a"
             ],
             [
              0.8888888888888888,
              "#fdca26"
             ],
             [
              1,
              "#f0f921"
             ]
            ],
            "type": "heatmap"
           }
          ],
          "heatmapgl": [
           {
            "colorbar": {
             "outlinewidth": 0,
             "ticks": ""
            },
            "colorscale": [
             [
              0,
              "#0d0887"
             ],
             [
              0.1111111111111111,
              "#46039f"
             ],
             [
              0.2222222222222222,
              "#7201a8"
             ],
             [
              0.3333333333333333,
              "#9c179e"
             ],
             [
              0.4444444444444444,
              "#bd3786"
             ],
             [
              0.5555555555555556,
              "#d8576b"
             ],
             [
              0.6666666666666666,
              "#ed7953"
             ],
             [
              0.7777777777777778,
              "#fb9f3a"
             ],
             [
              0.8888888888888888,
              "#fdca26"
             ],
             [
              1,
              "#f0f921"
             ]
            ],
            "type": "heatmapgl"
           }
          ],
          "histogram": [
           {
            "marker": {
             "pattern": {
              "fillmode": "overlay",
              "size": 10,
              "solidity": 0.2
             }
            },
            "type": "histogram"
           }
          ],
          "histogram2d": [
           {
            "colorbar": {
             "outlinewidth": 0,
             "ticks": ""
            },
            "colorscale": [
             [
              0,
              "#0d0887"
             ],
             [
              0.1111111111111111,
              "#46039f"
             ],
             [
              0.2222222222222222,
              "#7201a8"
             ],
             [
              0.3333333333333333,
              "#9c179e"
             ],
             [
              0.4444444444444444,
              "#bd3786"
             ],
             [
              0.5555555555555556,
              "#d8576b"
             ],
             [
              0.6666666666666666,
              "#ed7953"
             ],
             [
              0.7777777777777778,
              "#fb9f3a"
             ],
             [
              0.8888888888888888,
              "#fdca26"
             ],
             [
              1,
              "#f0f921"
             ]
            ],
            "type": "histogram2d"
           }
          ],
          "histogram2dcontour": [
           {
            "colorbar": {
             "outlinewidth": 0,
             "ticks": ""
            },
            "colorscale": [
             [
              0,
              "#0d0887"
             ],
             [
              0.1111111111111111,
              "#46039f"
             ],
             [
              0.2222222222222222,
              "#7201a8"
             ],
             [
              0.3333333333333333,
              "#9c179e"
             ],
             [
              0.4444444444444444,
              "#bd3786"
             ],
             [
              0.5555555555555556,
              "#d8576b"
             ],
             [
              0.6666666666666666,
              "#ed7953"
             ],
             [
              0.7777777777777778,
              "#fb9f3a"
             ],
             [
              0.8888888888888888,
              "#fdca26"
             ],
             [
              1,
              "#f0f921"
             ]
            ],
            "type": "histogram2dcontour"
           }
          ],
          "mesh3d": [
           {
            "colorbar": {
             "outlinewidth": 0,
             "ticks": ""
            },
            "type": "mesh3d"
           }
          ],
          "parcoords": [
           {
            "line": {
             "colorbar": {
              "outlinewidth": 0,
              "ticks": ""
             }
            },
            "type": "parcoords"
           }
          ],
          "pie": [
           {
            "automargin": true,
            "type": "pie"
           }
          ],
          "scatter": [
           {
            "fillpattern": {
             "fillmode": "overlay",
             "size": 10,
             "solidity": 0.2
            },
            "type": "scatter"
           }
          ],
          "scatter3d": [
           {
            "line": {
             "colorbar": {
              "outlinewidth": 0,
              "ticks": ""
             }
            },
            "marker": {
             "colorbar": {
              "outlinewidth": 0,
              "ticks": ""
             }
            },
            "type": "scatter3d"
           }
          ],
          "scattercarpet": [
           {
            "marker": {
             "colorbar": {
              "outlinewidth": 0,
              "ticks": ""
             }
            },
            "type": "scattercarpet"
           }
          ],
          "scattergeo": [
           {
            "marker": {
             "colorbar": {
              "outlinewidth": 0,
              "ticks": ""
             }
            },
            "type": "scattergeo"
           }
          ],
          "scattergl": [
           {
            "marker": {
             "colorbar": {
              "outlinewidth": 0,
              "ticks": ""
             }
            },
            "type": "scattergl"
           }
          ],
          "scattermapbox": [
           {
            "marker": {
             "colorbar": {
              "outlinewidth": 0,
              "ticks": ""
             }
            },
            "type": "scattermapbox"
           }
          ],
          "scatterpolar": [
           {
            "marker": {
             "colorbar": {
              "outlinewidth": 0,
              "ticks": ""
             }
            },
            "type": "scatterpolar"
           }
          ],
          "scatterpolargl": [
           {
            "marker": {
             "colorbar": {
              "outlinewidth": 0,
              "ticks": ""
             }
            },
            "type": "scatterpolargl"
           }
          ],
          "scatterternary": [
           {
            "marker": {
             "colorbar": {
              "outlinewidth": 0,
              "ticks": ""
             }
            },
            "type": "scatterternary"
           }
          ],
          "surface": [
           {
            "colorbar": {
             "outlinewidth": 0,
             "ticks": ""
            },
            "colorscale": [
             [
              0,
              "#0d0887"
             ],
             [
              0.1111111111111111,
              "#46039f"
             ],
             [
              0.2222222222222222,
              "#7201a8"
             ],
             [
              0.3333333333333333,
              "#9c179e"
             ],
             [
              0.4444444444444444,
              "#bd3786"
             ],
             [
              0.5555555555555556,
              "#d8576b"
             ],
             [
              0.6666666666666666,
              "#ed7953"
             ],
             [
              0.7777777777777778,
              "#fb9f3a"
             ],
             [
              0.8888888888888888,
              "#fdca26"
             ],
             [
              1,
              "#f0f921"
             ]
            ],
            "type": "surface"
           }
          ],
          "table": [
           {
            "cells": {
             "fill": {
              "color": "#EBF0F8"
             },
             "line": {
              "color": "white"
             }
            },
            "header": {
             "fill": {
              "color": "#C8D4E3"
             },
             "line": {
              "color": "white"
             }
            },
            "type": "table"
           }
          ]
         },
         "layout": {
          "annotationdefaults": {
           "arrowcolor": "#2a3f5f",
           "arrowhead": 0,
           "arrowwidth": 1
          },
          "autotypenumbers": "strict",
          "coloraxis": {
           "colorbar": {
            "outlinewidth": 0,
            "ticks": ""
           }
          },
          "colorscale": {
           "diverging": [
            [
             0,
             "#8e0152"
            ],
            [
             0.1,
             "#c51b7d"
            ],
            [
             0.2,
             "#de77ae"
            ],
            [
             0.3,
             "#f1b6da"
            ],
            [
             0.4,
             "#fde0ef"
            ],
            [
             0.5,
             "#f7f7f7"
            ],
            [
             0.6,
             "#e6f5d0"
            ],
            [
             0.7,
             "#b8e186"
            ],
            [
             0.8,
             "#7fbc41"
            ],
            [
             0.9,
             "#4d9221"
            ],
            [
             1,
             "#276419"
            ]
           ],
           "sequential": [
            [
             0,
             "#0d0887"
            ],
            [
             0.1111111111111111,
             "#46039f"
            ],
            [
             0.2222222222222222,
             "#7201a8"
            ],
            [
             0.3333333333333333,
             "#9c179e"
            ],
            [
             0.4444444444444444,
             "#bd3786"
            ],
            [
             0.5555555555555556,
             "#d8576b"
            ],
            [
             0.6666666666666666,
             "#ed7953"
            ],
            [
             0.7777777777777778,
             "#fb9f3a"
            ],
            [
             0.8888888888888888,
             "#fdca26"
            ],
            [
             1,
             "#f0f921"
            ]
           ],
           "sequentialminus": [
            [
             0,
             "#0d0887"
            ],
            [
             0.1111111111111111,
             "#46039f"
            ],
            [
             0.2222222222222222,
             "#7201a8"
            ],
            [
             0.3333333333333333,
             "#9c179e"
            ],
            [
             0.4444444444444444,
             "#bd3786"
            ],
            [
             0.5555555555555556,
             "#d8576b"
            ],
            [
             0.6666666666666666,
             "#ed7953"
            ],
            [
             0.7777777777777778,
             "#fb9f3a"
            ],
            [
             0.8888888888888888,
             "#fdca26"
            ],
            [
             1,
             "#f0f921"
            ]
           ]
          },
          "colorway": [
           "#636efa",
           "#EF553B",
           "#00cc96",
           "#ab63fa",
           "#FFA15A",
           "#19d3f3",
           "#FF6692",
           "#B6E880",
           "#FF97FF",
           "#FECB52"
          ],
          "font": {
           "color": "#2a3f5f"
          },
          "geo": {
           "bgcolor": "white",
           "lakecolor": "white",
           "landcolor": "#E5ECF6",
           "showlakes": true,
           "showland": true,
           "subunitcolor": "white"
          },
          "hoverlabel": {
           "align": "left"
          },
          "hovermode": "closest",
          "mapbox": {
           "style": "light"
          },
          "paper_bgcolor": "white",
          "plot_bgcolor": "#E5ECF6",
          "polar": {
           "angularaxis": {
            "gridcolor": "white",
            "linecolor": "white",
            "ticks": ""
           },
           "bgcolor": "#E5ECF6",
           "radialaxis": {
            "gridcolor": "white",
            "linecolor": "white",
            "ticks": ""
           }
          },
          "scene": {
           "xaxis": {
            "backgroundcolor": "#E5ECF6",
            "gridcolor": "white",
            "gridwidth": 2,
            "linecolor": "white",
            "showbackground": true,
            "ticks": "",
            "zerolinecolor": "white"
           },
           "yaxis": {
            "backgroundcolor": "#E5ECF6",
            "gridcolor": "white",
            "gridwidth": 2,
            "linecolor": "white",
            "showbackground": true,
            "ticks": "",
            "zerolinecolor": "white"
           },
           "zaxis": {
            "backgroundcolor": "#E5ECF6",
            "gridcolor": "white",
            "gridwidth": 2,
            "linecolor": "white",
            "showbackground": true,
            "ticks": "",
            "zerolinecolor": "white"
           }
          },
          "shapedefaults": {
           "line": {
            "color": "#2a3f5f"
           }
          },
          "ternary": {
           "aaxis": {
            "gridcolor": "white",
            "linecolor": "white",
            "ticks": ""
           },
           "baxis": {
            "gridcolor": "white",
            "linecolor": "white",
            "ticks": ""
           },
           "bgcolor": "#E5ECF6",
           "caxis": {
            "gridcolor": "white",
            "linecolor": "white",
            "ticks": ""
           }
          },
          "title": {
           "x": 0.05
          },
          "xaxis": {
           "automargin": true,
           "gridcolor": "white",
           "linecolor": "white",
           "ticks": "",
           "title": {
            "standoff": 15
           },
           "zerolinecolor": "white",
           "zerolinewidth": 2
          },
          "yaxis": {
           "automargin": true,
           "gridcolor": "white",
           "linecolor": "white",
           "ticks": "",
           "title": {
            "standoff": 15
           },
           "zerolinecolor": "white",
           "zerolinewidth": 2
          }
         }
        },
        "title": {
         "text": "Interest Rates: OLS vs. Nelson Siegel"
        },
        "xaxis": {
         "title": {
          "text": "Maturity"
         }
        },
        "yaxis": {
         "tickformat": ".2%",
         "title": {
          "text": "Interest Rate"
         }
        }
       }
      }
     },
     "metadata": {},
     "output_type": "display_data"
    }
   ],
   "source": [
    "# Create the OLS trace\n",
    "ols_trace = go.Scatter(\n",
    "    x=int_rates_ols.index, \n",
    "    y=int_rates_ols.values.flatten(), \n",
    "    mode='lines',\n",
    "    name='OLS Estimate'\n",
    ")\n",
    "\n",
    "# Create the Nelson Siegel trace\n",
    "ns_trace = go.Scatter(\n",
    "    x=ns_curve_df.index, \n",
    "    y=ns_curve_df['ns_int_rate'], \n",
    "    mode='lines',\n",
    "    name='Nelson Siegel Estimate'\n",
    ")\n",
    "\n",
    "# Combine the two traces into one figure\n",
    "fig = go.Figure()\n",
    "\n",
    "fig.add_trace(ols_trace)\n",
    "fig.add_trace(ns_trace)\n",
    "\n",
    "# Update layout for axis labels, title, and formatting\n",
    "fig.update_layout(\n",
    "    title=\"Interest Rates: OLS vs. Nelson Siegel\",\n",
    "    xaxis_title=\"Maturity\",\n",
    "    yaxis_title=\"Interest Rate\",\n",
    "    yaxis_tickformat=\".2%\",  # Format y-axis as percentage\n",
    "    legend_title=\"\",\n",
    "    legend=dict(\n",
    "        x=0.75,  # Horizontal position (0 is far left, 1 is far right)\n",
    "        y=0.95,  # Vertical position (0 is bottom, 1 is top)\n",
    "        bgcolor=\"rgba(255, 255, 255, 0.5)\",  # Semi-transparent white background\n",
    "        bordercolor=\"black\",\n",
    "        borderwidth=1\n",
    "    )\n",
    ")\n",
    "\n",
    "# Show the plot\n",
    "fig.show()"
   ]
  },
  {
   "cell_type": "markdown",
   "id": "15329dd8",
   "metadata": {},
   "source": [
    "***"
   ]
  },
  {
   "cell_type": "markdown",
   "id": "632119d7",
   "metadata": {},
   "source": [
    "# 3. Yield-Curve Factors\n",
    "\n",
    "### Data\n",
    "This section uses data in `'../data/yields.xlsx`.\n",
    "\n"
   ]
  },
  {
   "cell_type": "markdown",
   "id": "bd4327ea",
   "metadata": {},
   "source": [
    "### 3.1. Yield Curve Movements\n",
    "\n",
    "Use the yield curve time-series data to calculate the time-series of the **level**, **slope**, and **curvature** factors.\n",
    "\n",
    "Calculate the yield-curve factors. For each point in time, calculate the following three factors:\n",
    "\n",
    "$\\begin{align}\n",
    "x^{\\text{level}}_t =& \\frac{1}{N_{\\text{yields}}}\\sum_{i=1}^{N_{\\text{yields}}} y^{(i)}_t\\\\\n",
    "x^{\\text{slope}}_t =& y^{(30)}_t - y^{(1)}_t\\\\\n",
    "x^{\\text{curvature}}_t =& -y^{(1)}_t + 2 y^{(10)}_t - y^{(30)}_t\n",
    "\\end{align}$\n",
    "\n",
    "Report the \n",
    "* correlation matrix of the factors.\n",
    "* *mean and volatility of the factors."
   ]
  },
  {
   "cell_type": "code",
   "execution_count": 70,
   "id": "f5155f05",
   "metadata": {},
   "outputs": [
    {
     "data": {
      "text/html": [
       "<div>\n",
       "<style scoped>\n",
       "    .dataframe tbody tr th:only-of-type {\n",
       "        vertical-align: middle;\n",
       "    }\n",
       "\n",
       "    .dataframe tbody tr th {\n",
       "        vertical-align: top;\n",
       "    }\n",
       "\n",
       "    .dataframe thead th {\n",
       "        text-align: right;\n",
       "    }\n",
       "</style>\n",
       "<table border=\"1\" class=\"dataframe\">\n",
       "  <thead>\n",
       "    <tr style=\"text-align: right;\">\n",
       "      <th></th>\n",
       "      <th>1</th>\n",
       "      <th>2</th>\n",
       "      <th>5</th>\n",
       "      <th>7</th>\n",
       "      <th>10</th>\n",
       "      <th>20</th>\n",
       "      <th>30</th>\n",
       "    </tr>\n",
       "    <tr>\n",
       "      <th>caldt</th>\n",
       "      <th></th>\n",
       "      <th></th>\n",
       "      <th></th>\n",
       "      <th></th>\n",
       "      <th></th>\n",
       "      <th></th>\n",
       "      <th></th>\n",
       "    </tr>\n",
       "  </thead>\n",
       "  <tbody>\n",
       "    <tr>\n",
       "      <th>1961-06-14</th>\n",
       "      <td>2.9359</td>\n",
       "      <td>3.3607</td>\n",
       "      <td>3.6237</td>\n",
       "      <td>3.7687</td>\n",
       "      <td>3.8188</td>\n",
       "      <td>3.8142</td>\n",
       "      <td>3.8152</td>\n",
       "    </tr>\n",
       "    <tr>\n",
       "      <th>1961-06-15</th>\n",
       "      <td>2.9329</td>\n",
       "      <td>3.3765</td>\n",
       "      <td>3.6717</td>\n",
       "      <td>3.8042</td>\n",
       "      <td>3.8630</td>\n",
       "      <td>3.8282</td>\n",
       "      <td>3.8263</td>\n",
       "    </tr>\n",
       "    <tr>\n",
       "      <th>1961-06-16</th>\n",
       "      <td>2.9299</td>\n",
       "      <td>3.3757</td>\n",
       "      <td>3.6854</td>\n",
       "      <td>3.8042</td>\n",
       "      <td>3.8633</td>\n",
       "      <td>3.8329</td>\n",
       "      <td>3.8300</td>\n",
       "    </tr>\n",
       "    <tr>\n",
       "      <th>1961-06-19</th>\n",
       "      <td>2.9209</td>\n",
       "      <td>3.3900</td>\n",
       "      <td>3.7130</td>\n",
       "      <td>3.8246</td>\n",
       "      <td>3.8862</td>\n",
       "      <td>3.8424</td>\n",
       "      <td>3.8375</td>\n",
       "    </tr>\n",
       "    <tr>\n",
       "      <th>1961-06-20</th>\n",
       "      <td>2.9524</td>\n",
       "      <td>3.3558</td>\n",
       "      <td>3.6854</td>\n",
       "      <td>3.8093</td>\n",
       "      <td>3.8865</td>\n",
       "      <td>3.8565</td>\n",
       "      <td>3.8450</td>\n",
       "    </tr>\n",
       "  </tbody>\n",
       "</table>\n",
       "</div>"
      ],
      "text/plain": [
       "                1      2      5      7     10     20     30\n",
       "caldt                                                      \n",
       "1961-06-14 2.9359 3.3607 3.6237 3.7687 3.8188 3.8142 3.8152\n",
       "1961-06-15 2.9329 3.3765 3.6717 3.8042 3.8630 3.8282 3.8263\n",
       "1961-06-16 2.9299 3.3757 3.6854 3.8042 3.8633 3.8329 3.8300\n",
       "1961-06-19 2.9209 3.3900 3.7130 3.8246 3.8862 3.8424 3.8375\n",
       "1961-06-20 2.9524 3.3558 3.6854 3.8093 3.8865 3.8565 3.8450"
      ]
     },
     "execution_count": 70,
     "metadata": {},
     "output_type": "execute_result"
    }
   ],
   "source": [
    "FILE_PATH_YLD_CURVE = Path(config.DATA_DIR) / \"yields.xlsx\"\n",
    "yield_curve_ts = read_excel_default(excel_name=FILE_PATH_YLD_CURVE, sheet_name='yields',index_col=0)\n",
    "yield_curve_ts.head()"
   ]
  },
  {
   "cell_type": "code",
   "execution_count": 71,
   "id": "d5508e66",
   "metadata": {},
   "outputs": [
    {
     "data": {
      "text/html": [
       "<div>\n",
       "<style scoped>\n",
       "    .dataframe tbody tr th:only-of-type {\n",
       "        vertical-align: middle;\n",
       "    }\n",
       "\n",
       "    .dataframe tbody tr th {\n",
       "        vertical-align: top;\n",
       "    }\n",
       "\n",
       "    .dataframe thead th {\n",
       "        text-align: right;\n",
       "    }\n",
       "</style>\n",
       "<table border=\"1\" class=\"dataframe\">\n",
       "  <thead>\n",
       "    <tr style=\"text-align: right;\">\n",
       "      <th></th>\n",
       "      <th>level</th>\n",
       "      <th>slope</th>\n",
       "      <th>curvature</th>\n",
       "    </tr>\n",
       "    <tr>\n",
       "      <th>date</th>\n",
       "      <th></th>\n",
       "      <th></th>\n",
       "      <th></th>\n",
       "    </tr>\n",
       "  </thead>\n",
       "  <tbody>\n",
       "    <tr>\n",
       "      <th>1961-06-14</th>\n",
       "      <td>3.5910</td>\n",
       "      <td>0.8793</td>\n",
       "      <td>0.8866</td>\n",
       "    </tr>\n",
       "    <tr>\n",
       "      <th>1961-06-15</th>\n",
       "      <td>3.6147</td>\n",
       "      <td>0.8934</td>\n",
       "      <td>0.9667</td>\n",
       "    </tr>\n",
       "    <tr>\n",
       "      <th>1961-06-16</th>\n",
       "      <td>3.6174</td>\n",
       "      <td>0.9001</td>\n",
       "      <td>0.9666</td>\n",
       "    </tr>\n",
       "    <tr>\n",
       "      <th>1961-06-19</th>\n",
       "      <td>3.6306</td>\n",
       "      <td>0.9167</td>\n",
       "      <td>1.0140</td>\n",
       "    </tr>\n",
       "    <tr>\n",
       "      <th>1961-06-20</th>\n",
       "      <td>3.6273</td>\n",
       "      <td>0.8926</td>\n",
       "      <td>0.9756</td>\n",
       "    </tr>\n",
       "  </tbody>\n",
       "</table>\n",
       "</div>"
      ],
      "text/plain": [
       "            level  slope  curvature\n",
       "date                               \n",
       "1961-06-14 3.5910 0.8793     0.8866\n",
       "1961-06-15 3.6147 0.8934     0.9667\n",
       "1961-06-16 3.6174 0.9001     0.9666\n",
       "1961-06-19 3.6306 0.9167     1.0140\n",
       "1961-06-20 3.6273 0.8926     0.9756"
      ]
     },
     "execution_count": 71,
     "metadata": {},
     "output_type": "execute_result"
    }
   ],
   "source": [
    "yield_curve_ts.index.name = 'date'\n",
    "yield_curve_factors = pd.DataFrame(index=yield_curve_ts.index)\n",
    "yield_curve_factors['level'] = yield_curve_ts.mean(axis=1)\n",
    "yield_curve_factors['slope'] = yield_curve_ts['30'] - yield_curve_ts['1']\n",
    "yield_curve_factors['curvature'] = -yield_curve_ts['1'] + 2* yield_curve_ts['10'] - yield_curve_ts['30']\n",
    "yield_curve_factors.head()"
   ]
  },
  {
   "cell_type": "code",
   "execution_count": 72,
   "id": "3e32aca4",
   "metadata": {},
   "outputs": [
    {
     "data": {
      "text/html": [
       "<div>\n",
       "<style scoped>\n",
       "    .dataframe tbody tr th:only-of-type {\n",
       "        vertical-align: middle;\n",
       "    }\n",
       "\n",
       "    .dataframe tbody tr th {\n",
       "        vertical-align: top;\n",
       "    }\n",
       "\n",
       "    .dataframe thead th {\n",
       "        text-align: right;\n",
       "    }\n",
       "</style>\n",
       "<table border=\"1\" class=\"dataframe\">\n",
       "  <thead>\n",
       "    <tr style=\"text-align: right;\">\n",
       "      <th></th>\n",
       "      <th>Mean</th>\n",
       "      <th>Std Dev</th>\n",
       "    </tr>\n",
       "  </thead>\n",
       "  <tbody>\n",
       "    <tr>\n",
       "      <th>level</th>\n",
       "      <td>5.4752</td>\n",
       "      <td>2.9147</td>\n",
       "    </tr>\n",
       "    <tr>\n",
       "      <th>slope</th>\n",
       "      <td>1.1098</td>\n",
       "      <td>1.4803</td>\n",
       "    </tr>\n",
       "    <tr>\n",
       "      <th>curvature</th>\n",
       "      <td>0.6718</td>\n",
       "      <td>0.9719</td>\n",
       "    </tr>\n",
       "  </tbody>\n",
       "</table>\n",
       "</div>"
      ],
      "text/plain": [
       "            Mean  Std Dev\n",
       "level     5.4752   2.9147\n",
       "slope     1.1098   1.4803\n",
       "curvature 0.6718   0.9719"
      ]
     },
     "metadata": {},
     "output_type": "display_data"
    },
    {
     "name": "stdout",
     "output_type": "stream",
     "text": [
      "The highest correlation (0.6477) is between curvature and slope\n",
      "The lowest correlation (-0.3760) is between level and slope\n"
     ]
    },
    {
     "data": {
      "image/png": "[encoded data removed]",
      "text/plain": [
       "<Figure size 1200x800 with 2 Axes>"
      ]
     },
     "metadata": {},
     "output_type": "display_data"
    },
    {
     "data": {
      "text/plain": [
       "<Axes: >"
      ]
     },
     "execution_count": 72,
     "metadata": {},
     "output_type": "execute_result"
    }
   ],
   "source": [
    "factor_stats = pd.DataFrame(index=yield_curve_factors.columns, columns=['Mean', 'Std Dev'])\n",
    "factor_stats['Mean'] = yield_curve_factors.mean()\n",
    "factor_stats['Std Dev'] = yield_curve_factors.std()\n",
    "\n",
    "display(factor_stats)\n",
    "calc_correlations(yield_curve_factors)"
   ]
  },
  {
   "cell_type": "markdown",
   "id": "87ca68a9",
   "metadata": {},
   "source": [
    "### 3.2. PCA\n",
    "\n",
    "Calculate the principal components of the time-series yield data.\n",
    "\n",
    "Report...\n",
    "* the percentage of total variation explained by each factor.\n",
    "* the loadings of the first two PCA factors.\n",
    "\n",
    "#### Note\n",
    "Consider using,\n",
    "`PCA` from `sklearn.decomposition` "
   ]
  },
  {
   "cell_type": "code",
   "execution_count": 73,
   "id": "8f4c0d54",
   "metadata": {},
   "outputs": [
    {
     "data": {
      "text/html": [
       "<div>\n",
       "<style scoped>\n",
       "    .dataframe tbody tr th:only-of-type {\n",
       "        vertical-align: middle;\n",
       "    }\n",
       "\n",
       "    .dataframe tbody tr th {\n",
       "        vertical-align: top;\n",
       "    }\n",
       "\n",
       "    .dataframe thead th {\n",
       "        text-align: right;\n",
       "    }\n",
       "</style>\n",
       "<table border=\"1\" class=\"dataframe\">\n",
       "  <thead>\n",
       "    <tr style=\"text-align: right;\">\n",
       "      <th></th>\n",
       "      <th>PC1</th>\n",
       "      <th>PC2</th>\n",
       "    </tr>\n",
       "  </thead>\n",
       "  <tbody>\n",
       "    <tr>\n",
       "      <th>1</th>\n",
       "      <td>0.4115</td>\n",
       "      <td>0.4111</td>\n",
       "    </tr>\n",
       "    <tr>\n",
       "      <th>2</th>\n",
       "      <td>0.5910</td>\n",
       "      <td>0.3993</td>\n",
       "    </tr>\n",
       "    <tr>\n",
       "      <th>5</th>\n",
       "      <td>0.4555</td>\n",
       "      <td>0.0073</td>\n",
       "    </tr>\n",
       "    <tr>\n",
       "      <th>7</th>\n",
       "      <td>0.3578</td>\n",
       "      <td>-0.3857</td>\n",
       "    </tr>\n",
       "    <tr>\n",
       "      <th>10</th>\n",
       "      <td>-0.0200</td>\n",
       "      <td>-0.0148</td>\n",
       "    </tr>\n",
       "    <tr>\n",
       "      <th>20</th>\n",
       "      <td>0.3403</td>\n",
       "      <td>-0.5711</td>\n",
       "    </tr>\n",
       "    <tr>\n",
       "      <th>30</th>\n",
       "      <td>0.1724</td>\n",
       "      <td>-0.4432</td>\n",
       "    </tr>\n",
       "  </tbody>\n",
       "</table>\n",
       "</div>"
      ],
      "text/plain": [
       "       PC1     PC2\n",
       "1   0.4115  0.4111\n",
       "2   0.5910  0.3993\n",
       "5   0.4555  0.0073\n",
       "7   0.3578 -0.3857\n",
       "10 -0.0200 -0.0148\n",
       "20  0.3403 -0.5711\n",
       "30  0.1724 -0.4432"
      ]
     },
     "metadata": {},
     "output_type": "display_data"
    }
   ],
   "source": [
    "pca = PCA(svd_solver='full')\n",
    "pca.fit(yield_curve_ts)\n",
    "\n",
    "pca_loadings = pd.DataFrame(\n",
    "    pca.components_,\n",
    "    index=yield_curve_ts.columns,\n",
    "    columns=[f'PC{i+1}' for i in range(pca.n_components_)]\n",
    ")\n",
    "display(pca_loadings.iloc[:,0:2])"
   ]
  },
  {
   "cell_type": "code",
   "execution_count": 63,
   "id": "a9b26d56",
   "metadata": {},
   "outputs": [
    {
     "data": {
      "text/html": [
       "<div>\n",
       "<style scoped>\n",
       "    .dataframe tbody tr th:only-of-type {\n",
       "        vertical-align: middle;\n",
       "    }\n",
       "\n",
       "    .dataframe tbody tr th {\n",
       "        vertical-align: top;\n",
       "    }\n",
       "\n",
       "    .dataframe thead th {\n",
       "        text-align: right;\n",
       "    }\n",
       "</style>\n",
       "<table border=\"1\" class=\"dataframe\">\n",
       "  <thead>\n",
       "    <tr style=\"text-align: right;\">\n",
       "      <th></th>\n",
       "      <th>Explained Variance Ratio</th>\n",
       "      <th>Cumulative Variance Ratio</th>\n",
       "    </tr>\n",
       "  </thead>\n",
       "  <tbody>\n",
       "    <tr>\n",
       "      <th>PC1</th>\n",
       "      <td>0.9707</td>\n",
       "      <td>0.9707</td>\n",
       "    </tr>\n",
       "    <tr>\n",
       "      <th>PC2</th>\n",
       "      <td>0.0253</td>\n",
       "      <td>0.9960</td>\n",
       "    </tr>\n",
       "    <tr>\n",
       "      <th>PC3</th>\n",
       "      <td>0.0029</td>\n",
       "      <td>0.9989</td>\n",
       "    </tr>\n",
       "    <tr>\n",
       "      <th>PC4</th>\n",
       "      <td>0.0005</td>\n",
       "      <td>0.9994</td>\n",
       "    </tr>\n",
       "    <tr>\n",
       "      <th>PC5</th>\n",
       "      <td>0.0004</td>\n",
       "      <td>0.9998</td>\n",
       "    </tr>\n",
       "    <tr>\n",
       "      <th>PC6</th>\n",
       "      <td>0.0002</td>\n",
       "      <td>0.9999</td>\n",
       "    </tr>\n",
       "    <tr>\n",
       "      <th>PC7</th>\n",
       "      <td>0.0001</td>\n",
       "      <td>1.0000</td>\n",
       "    </tr>\n",
       "  </tbody>\n",
       "</table>\n",
       "</div>"
      ],
      "text/plain": [
       "     Explained Variance Ratio  Cumulative Variance Ratio\n",
       "PC1                    0.9707                     0.9707\n",
       "PC2                    0.0253                     0.9960\n",
       "PC3                    0.0029                     0.9989\n",
       "PC4                    0.0005                     0.9994\n",
       "PC5                    0.0004                     0.9998\n",
       "PC6                    0.0002                     0.9999\n",
       "PC7                    0.0001                     1.0000"
      ]
     },
     "metadata": {},
     "output_type": "display_data"
    },
    {
     "data": {
      "image/png": "[encoded data removed]",
      "text/plain": [
       "<Figure size 800x500 with 1 Axes>"
      ]
     },
     "metadata": {},
     "output_type": "display_data"
    }
   ],
   "source": [
    "# Explained variance ratio\n",
    "explained_variance_ratio = pca.explained_variance_ratio_\n",
    "cumulative_variance = explained_variance_ratio.cumsum()\n",
    "\n",
    "pc_var_ratio = pd.DataFrame({\n",
    "    'Explained Variance Ratio': explained_variance_ratio,\n",
    "    'Cumulative Variance Ratio': cumulative_variance\n",
    "}, index=[f'PC{i+1}' for i in range(len(pca.explained_variance_ratio_))])\n",
    "\n",
    "display(pc_var_ratio)\n",
    "\n",
    "# Cumulative explained variance\n",
    "plt.figure(figsize=(8, 5))\n",
    "plt.plot(range(1, len(cumulative_variance) + 1), cumulative_variance, marker='o', linestyle='--')\n",
    "plt.xlabel('Number of Principal Components')\n",
    "plt.ylabel('Cumulative Explained Variance')\n",
    "plt.title('PCA Explained Variance')\n",
    "plt.grid()\n",
    "plt.show()\n"
   ]
  },
  {
   "cell_type": "code",
   "execution_count": 64,
   "id": "76df637b",
   "metadata": {},
   "outputs": [
    {
     "data": {
      "text/html": [
       "<div>\n",
       "<style scoped>\n",
       "    .dataframe tbody tr th:only-of-type {\n",
       "        vertical-align: middle;\n",
       "    }\n",
       "\n",
       "    .dataframe tbody tr th {\n",
       "        vertical-align: top;\n",
       "    }\n",
       "\n",
       "    .dataframe thead th {\n",
       "        text-align: right;\n",
       "    }\n",
       "</style>\n",
       "<table border=\"1\" class=\"dataframe\">\n",
       "  <thead>\n",
       "    <tr style=\"text-align: right;\">\n",
       "      <th></th>\n",
       "      <th>PC1</th>\n",
       "      <th>PC2</th>\n",
       "    </tr>\n",
       "    <tr>\n",
       "      <th>date</th>\n",
       "      <th></th>\n",
       "      <th></th>\n",
       "    </tr>\n",
       "  </thead>\n",
       "  <tbody>\n",
       "    <tr>\n",
       "      <th>1961-06-14</th>\n",
       "      <td>8.0726</td>\n",
       "      <td>-2.8041</td>\n",
       "    </tr>\n",
       "    <tr>\n",
       "      <th>1961-06-15</th>\n",
       "      <td>8.1210</td>\n",
       "      <td>-2.8259</td>\n",
       "    </tr>\n",
       "    <tr>\n",
       "      <th>1961-06-16</th>\n",
       "      <td>8.1278</td>\n",
       "      <td>-2.8317</td>\n",
       "    </tr>\n",
       "    <tr>\n",
       "      <th>1961-06-19</th>\n",
       "      <td>8.1564</td>\n",
       "      <td>-2.8464</td>\n",
       "    </tr>\n",
       "    <tr>\n",
       "      <th>1961-06-20</th>\n",
       "      <td>8.1373</td>\n",
       "      <td>-2.8528</td>\n",
       "    </tr>\n",
       "  </tbody>\n",
       "</table>\n",
       "</div>"
      ],
      "text/plain": [
       "              PC1     PC2\n",
       "date                     \n",
       "1961-06-14 8.0726 -2.8041\n",
       "1961-06-15 8.1210 -2.8259\n",
       "1961-06-16 8.1278 -2.8317\n",
       "1961-06-19 8.1564 -2.8464\n",
       "1961-06-20 8.1373 -2.8528"
      ]
     },
     "metadata": {},
     "output_type": "display_data"
    }
   ],
   "source": [
    "pca_factors_ts = yield_curve_ts@pca_loadings\n",
    "display(pca_factors_ts.iloc[0:5,0:2])"
   ]
  },
  {
   "cell_type": "markdown",
   "id": "1b7fbf2e",
   "metadata": {},
   "source": [
    "### 3.3. Comparison\n",
    "\n",
    "Compare the ad-hoc factors from `3.1.` with the PCA-estimated factors in `3.2.`.\n",
    "\n",
    "Estimate the correlation of the ad-hoc level factor with the PCA-1. And the slope factor with PCA-2."
   ]
  },
  {
   "cell_type": "code",
   "execution_count": 65,
   "id": "f6bce1cf",
   "metadata": {},
   "outputs": [
    {
     "name": "stdout",
     "output_type": "stream",
     "text": [
      "Correlation between Level and PC1: 99.85%\n",
      "Correlation between Slope and PC2: -33.18%\n"
     ]
    }
   ],
   "source": [
    "corr_level_pc1 = yield_curve_factors['level'].corr(pca_factors_ts['PC1'])\n",
    "corr_slope_pc2 = yield_curve_factors['slope'].corr(pca_factors_ts['PC2'])\n",
    "\n",
    "print(f\"Correlation between Level and PC1: {corr_level_pc1:.2%}\")\n",
    "print(f\"Correlation between Slope and PC2: {corr_slope_pc2:.2%}\")"
   ]
  },
  {
   "cell_type": "code",
   "execution_count": null,
   "id": "3efcd1de",
   "metadata": {},
   "outputs": [],
   "source": []
  }
 ],
 "metadata": {
  "hide_input": false,
  "kernelspec": {
   "display_name": "data_analysis",
   "language": "python",
   "name": "python3"
  },
  "language_info": {
   "codemirror_mode": {
    "name": "ipython",
    "version": 3
   },
   "file_extension": ".py",
   "mimetype": "text/x-python",
   "name": "python",
   "nbconvert_exporter": "python",
   "pygments_lexer": "ipython3",
   "version": "3.12.7"
  },
  "toc": {
   "base_numbering": 1,
   "nav_menu": {},
   "number_sections": false,
   "sideBar": true,
   "skip_h1_title": false,
   "title_cell": "Table of Contents",
   "title_sidebar": "Contents",
   "toc_cell": false,
   "toc_position": {},
   "toc_section_display": true,
   "toc_window_display": false
  }
 },
 "nbformat": 4,
 "nbformat_minor": 5
}
